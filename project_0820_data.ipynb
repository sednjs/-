{
 "cells": [
  {
   "cell_type": "code",
   "execution_count": 3,
   "metadata": {},
   "outputs": [],
   "source": [
    "#데이터 처리\n",
    "import pandas as pd\n",
    "\n",
    "#행렬 연산\n",
    "import numpy as np\n",
    "\n",
    "#데이터 시각화\n",
    "import matplotlib\n",
    "import matplotlib.pyplot as plt\n",
    "import seaborn as sns"
   ]
  },
  {
   "cell_type": "code",
   "execution_count": 4,
   "metadata": {},
   "outputs": [],
   "source": [
    "import datetime"
   ]
  },
  {
   "cell_type": "code",
   "execution_count": 5,
   "metadata": {},
   "outputs": [],
   "source": [
    "df_loan=pd.read_csv(\"~/Desktop/POSCO/bigdata_project/01_Data_set_대출.csv\")\n",
    "df_ins=pd.read_csv(\"~/Desktop/POSCO/bigdata_project/02_Data_set_보험.csv\",encoding = 'euc-kr')"
   ]
  },
  {
   "cell_type": "code",
   "execution_count": 48,
   "metadata": {},
   "outputs": [
    {
     "data": {
      "text/html": [
       "<div>\n",
       "<style scoped>\n",
       "    .dataframe tbody tr th:only-of-type {\n",
       "        vertical-align: middle;\n",
       "    }\n",
       "\n",
       "    .dataframe tbody tr th {\n",
       "        vertical-align: top;\n",
       "    }\n",
       "\n",
       "    .dataframe thead th {\n",
       "        text-align: right;\n",
       "    }\n",
       "</style>\n",
       "<table border=\"1\" class=\"dataframe\">\n",
       "  <thead>\n",
       "    <tr style=\"text-align: right;\">\n",
       "      <th></th>\n",
       "      <th>CUST_ID</th>\n",
       "      <th>OCCP_NAME_G</th>\n",
       "      <th>CUST_JOB_INCM</th>\n",
       "      <th>HSHD_INFR_INCM</th>\n",
       "      <th>ACTL_FMLY_NUM</th>\n",
       "      <th>CUST_FMLY_NUM</th>\n",
       "      <th>LAST_CHLD_AGE</th>\n",
       "      <th>MATE_OCCP_NAME_G</th>\n",
       "      <th>MATE_JOB_INCM</th>\n",
       "      <th>CRDT_LOAN_CNT</th>\n",
       "      <th>...</th>\n",
       "      <th>TOT_PREM</th>\n",
       "      <th>FMLY_TOT_PREM</th>\n",
       "      <th>CNTT_LAMT_CNT</th>\n",
       "      <th>LT1Y_CTLT_CNT</th>\n",
       "      <th>AUTR_FAIL_MCNT</th>\n",
       "      <th>FYCM_PAID_AMT</th>\n",
       "      <th>FMLY_CLAM_CNT</th>\n",
       "      <th>FMLY_PLPY_CNT</th>\n",
       "      <th>AGE</th>\n",
       "      <th>SEX</th>\n",
       "    </tr>\n",
       "  </thead>\n",
       "  <tbody>\n",
       "    <tr>\n",
       "      <th>0</th>\n",
       "      <td>1</td>\n",
       "      <td>공무원</td>\n",
       "      <td>5400</td>\n",
       "      <td>7700</td>\n",
       "      <td>4</td>\n",
       "      <td>1</td>\n",
       "      <td>24.0</td>\n",
       "      <td>주부</td>\n",
       "      <td>0</td>\n",
       "      <td>0</td>\n",
       "      <td>...</td>\n",
       "      <td>20000000</td>\n",
       "      <td>20000000</td>\n",
       "      <td>0</td>\n",
       "      <td>0</td>\n",
       "      <td>10</td>\n",
       "      <td>0</td>\n",
       "      <td>0</td>\n",
       "      <td>0</td>\n",
       "      <td>50</td>\n",
       "      <td>1</td>\n",
       "    </tr>\n",
       "    <tr>\n",
       "      <th>1</th>\n",
       "      <td>2</td>\n",
       "      <td>자영업</td>\n",
       "      <td>5500</td>\n",
       "      <td>8100</td>\n",
       "      <td>4</td>\n",
       "      <td>2</td>\n",
       "      <td>29.0</td>\n",
       "      <td>주부</td>\n",
       "      <td>0</td>\n",
       "      <td>0</td>\n",
       "      <td>...</td>\n",
       "      <td>7000000</td>\n",
       "      <td>36000000</td>\n",
       "      <td>0</td>\n",
       "      <td>0</td>\n",
       "      <td>0</td>\n",
       "      <td>300000</td>\n",
       "      <td>2</td>\n",
       "      <td>5</td>\n",
       "      <td>50</td>\n",
       "      <td>1</td>\n",
       "    </tr>\n",
       "    <tr>\n",
       "      <th>2</th>\n",
       "      <td>3</td>\n",
       "      <td>주부</td>\n",
       "      <td>0</td>\n",
       "      <td>4900</td>\n",
       "      <td>4</td>\n",
       "      <td>1</td>\n",
       "      <td>34.0</td>\n",
       "      <td>2차산업 종사자</td>\n",
       "      <td>0</td>\n",
       "      <td>0</td>\n",
       "      <td>...</td>\n",
       "      <td>11000000</td>\n",
       "      <td>11000000</td>\n",
       "      <td>0</td>\n",
       "      <td>0</td>\n",
       "      <td>0</td>\n",
       "      <td>0</td>\n",
       "      <td>0</td>\n",
       "      <td>2</td>\n",
       "      <td>60</td>\n",
       "      <td>2</td>\n",
       "    </tr>\n",
       "    <tr>\n",
       "      <th>3</th>\n",
       "      <td>4</td>\n",
       "      <td>학생</td>\n",
       "      <td>0</td>\n",
       "      <td>10100</td>\n",
       "      <td>2</td>\n",
       "      <td>1</td>\n",
       "      <td>0.0</td>\n",
       "      <td>NaN</td>\n",
       "      <td>0</td>\n",
       "      <td>0</td>\n",
       "      <td>...</td>\n",
       "      <td>4000000</td>\n",
       "      <td>4000000</td>\n",
       "      <td>0</td>\n",
       "      <td>0</td>\n",
       "      <td>0</td>\n",
       "      <td>0</td>\n",
       "      <td>0</td>\n",
       "      <td>1</td>\n",
       "      <td>35</td>\n",
       "      <td>1</td>\n",
       "    </tr>\n",
       "    <tr>\n",
       "      <th>4</th>\n",
       "      <td>5</td>\n",
       "      <td>공무원</td>\n",
       "      <td>4800</td>\n",
       "      <td>4800</td>\n",
       "      <td>4</td>\n",
       "      <td>1</td>\n",
       "      <td>14.0</td>\n",
       "      <td>주부</td>\n",
       "      <td>0</td>\n",
       "      <td>0</td>\n",
       "      <td>...</td>\n",
       "      <td>4000000</td>\n",
       "      <td>4000000</td>\n",
       "      <td>0</td>\n",
       "      <td>0</td>\n",
       "      <td>0</td>\n",
       "      <td>500000</td>\n",
       "      <td>2</td>\n",
       "      <td>1</td>\n",
       "      <td>45</td>\n",
       "      <td>1</td>\n",
       "    </tr>\n",
       "    <tr>\n",
       "      <th>...</th>\n",
       "      <td>...</td>\n",
       "      <td>...</td>\n",
       "      <td>...</td>\n",
       "      <td>...</td>\n",
       "      <td>...</td>\n",
       "      <td>...</td>\n",
       "      <td>...</td>\n",
       "      <td>...</td>\n",
       "      <td>...</td>\n",
       "      <td>...</td>\n",
       "      <td>...</td>\n",
       "      <td>...</td>\n",
       "      <td>...</td>\n",
       "      <td>...</td>\n",
       "      <td>...</td>\n",
       "      <td>...</td>\n",
       "      <td>...</td>\n",
       "      <td>...</td>\n",
       "      <td>...</td>\n",
       "      <td>...</td>\n",
       "      <td>...</td>\n",
       "    </tr>\n",
       "    <tr>\n",
       "      <th>100228</th>\n",
       "      <td>102248</td>\n",
       "      <td>자영업</td>\n",
       "      <td>5500</td>\n",
       "      <td>12900</td>\n",
       "      <td>3</td>\n",
       "      <td>3</td>\n",
       "      <td>34.0</td>\n",
       "      <td>자영업</td>\n",
       "      <td>0</td>\n",
       "      <td>0</td>\n",
       "      <td>...</td>\n",
       "      <td>58000000</td>\n",
       "      <td>70000000</td>\n",
       "      <td>0</td>\n",
       "      <td>0</td>\n",
       "      <td>1</td>\n",
       "      <td>700000</td>\n",
       "      <td>0</td>\n",
       "      <td>3</td>\n",
       "      <td>55</td>\n",
       "      <td>2</td>\n",
       "    </tr>\n",
       "    <tr>\n",
       "      <th>100229</th>\n",
       "      <td>102249</td>\n",
       "      <td>운전직</td>\n",
       "      <td>4600</td>\n",
       "      <td>9800</td>\n",
       "      <td>5</td>\n",
       "      <td>2</td>\n",
       "      <td>19.0</td>\n",
       "      <td>1차산업 종사자</td>\n",
       "      <td>5200</td>\n",
       "      <td>0</td>\n",
       "      <td>...</td>\n",
       "      <td>37000000</td>\n",
       "      <td>45000000</td>\n",
       "      <td>0</td>\n",
       "      <td>0</td>\n",
       "      <td>0</td>\n",
       "      <td>100000</td>\n",
       "      <td>0</td>\n",
       "      <td>3</td>\n",
       "      <td>45</td>\n",
       "      <td>2</td>\n",
       "    </tr>\n",
       "    <tr>\n",
       "      <th>100230</th>\n",
       "      <td>102250</td>\n",
       "      <td>자영업</td>\n",
       "      <td>4800</td>\n",
       "      <td>10400</td>\n",
       "      <td>4</td>\n",
       "      <td>2</td>\n",
       "      <td>14.0</td>\n",
       "      <td>운전직</td>\n",
       "      <td>5600</td>\n",
       "      <td>0</td>\n",
       "      <td>...</td>\n",
       "      <td>45000000</td>\n",
       "      <td>54000000</td>\n",
       "      <td>0</td>\n",
       "      <td>0</td>\n",
       "      <td>1</td>\n",
       "      <td>0</td>\n",
       "      <td>0</td>\n",
       "      <td>4</td>\n",
       "      <td>45</td>\n",
       "      <td>1</td>\n",
       "    </tr>\n",
       "    <tr>\n",
       "      <th>100231</th>\n",
       "      <td>102251</td>\n",
       "      <td>사무직</td>\n",
       "      <td>4200</td>\n",
       "      <td>4200</td>\n",
       "      <td>1</td>\n",
       "      <td>1</td>\n",
       "      <td>0.0</td>\n",
       "      <td>NaN</td>\n",
       "      <td>0</td>\n",
       "      <td>0</td>\n",
       "      <td>...</td>\n",
       "      <td>1000000</td>\n",
       "      <td>1000000</td>\n",
       "      <td>0</td>\n",
       "      <td>0</td>\n",
       "      <td>0</td>\n",
       "      <td>0</td>\n",
       "      <td>0</td>\n",
       "      <td>0</td>\n",
       "      <td>45</td>\n",
       "      <td>1</td>\n",
       "    </tr>\n",
       "    <tr>\n",
       "      <th>100232</th>\n",
       "      <td>102252</td>\n",
       "      <td>사무직</td>\n",
       "      <td>6000</td>\n",
       "      <td>9900</td>\n",
       "      <td>4</td>\n",
       "      <td>2</td>\n",
       "      <td>24.0</td>\n",
       "      <td>사무직</td>\n",
       "      <td>4000</td>\n",
       "      <td>0</td>\n",
       "      <td>...</td>\n",
       "      <td>22000000</td>\n",
       "      <td>29000000</td>\n",
       "      <td>0</td>\n",
       "      <td>0</td>\n",
       "      <td>0</td>\n",
       "      <td>2900000</td>\n",
       "      <td>0</td>\n",
       "      <td>2</td>\n",
       "      <td>55</td>\n",
       "      <td>2</td>\n",
       "    </tr>\n",
       "  </tbody>\n",
       "</table>\n",
       "<p>100233 rows × 39 columns</p>\n",
       "</div>"
      ],
      "text/plain": [
       "        CUST_ID OCCP_NAME_G  CUST_JOB_INCM  HSHD_INFR_INCM  ACTL_FMLY_NUM  \\\n",
       "0             1         공무원           5400            7700              4   \n",
       "1             2         자영업           5500            8100              4   \n",
       "2             3          주부              0            4900              4   \n",
       "3             4          학생              0           10100              2   \n",
       "4             5         공무원           4800            4800              4   \n",
       "...         ...         ...            ...             ...            ...   \n",
       "100228   102248         자영업           5500           12900              3   \n",
       "100229   102249         운전직           4600            9800              5   \n",
       "100230   102250         자영업           4800           10400              4   \n",
       "100231   102251         사무직           4200            4200              1   \n",
       "100232   102252         사무직           6000            9900              4   \n",
       "\n",
       "        CUST_FMLY_NUM  LAST_CHLD_AGE MATE_OCCP_NAME_G  MATE_JOB_INCM  \\\n",
       "0                   1           24.0               주부              0   \n",
       "1                   2           29.0               주부              0   \n",
       "2                   1           34.0         2차산업 종사자              0   \n",
       "3                   1            0.0              NaN              0   \n",
       "4                   1           14.0               주부              0   \n",
       "...               ...            ...              ...            ...   \n",
       "100228              3           34.0              자영업              0   \n",
       "100229              2           19.0         1차산업 종사자           5200   \n",
       "100230              2           14.0              운전직           5600   \n",
       "100231              1            0.0              NaN              0   \n",
       "100232              2           24.0              사무직           4000   \n",
       "\n",
       "        CRDT_LOAN_CNT  ...  TOT_PREM  FMLY_TOT_PREM  CNTT_LAMT_CNT  \\\n",
       "0                   0  ...  20000000       20000000              0   \n",
       "1                   0  ...   7000000       36000000              0   \n",
       "2                   0  ...  11000000       11000000              0   \n",
       "3                   0  ...   4000000        4000000              0   \n",
       "4                   0  ...   4000000        4000000              0   \n",
       "...               ...  ...       ...            ...            ...   \n",
       "100228              0  ...  58000000       70000000              0   \n",
       "100229              0  ...  37000000       45000000              0   \n",
       "100230              0  ...  45000000       54000000              0   \n",
       "100231              0  ...   1000000        1000000              0   \n",
       "100232              0  ...  22000000       29000000              0   \n",
       "\n",
       "        LT1Y_CTLT_CNT  AUTR_FAIL_MCNT  FYCM_PAID_AMT  FMLY_CLAM_CNT  \\\n",
       "0                   0              10              0              0   \n",
       "1                   0               0         300000              2   \n",
       "2                   0               0              0              0   \n",
       "3                   0               0              0              0   \n",
       "4                   0               0         500000              2   \n",
       "...               ...             ...            ...            ...   \n",
       "100228              0               1         700000              0   \n",
       "100229              0               0         100000              0   \n",
       "100230              0               1              0              0   \n",
       "100231              0               0              0              0   \n",
       "100232              0               0        2900000              0   \n",
       "\n",
       "        FMLY_PLPY_CNT  AGE SEX  \n",
       "0                   0   50   1  \n",
       "1                   5   50   1  \n",
       "2                   2   60   2  \n",
       "3                   1   35   1  \n",
       "4                   1   45   1  \n",
       "...               ...  ...  ..  \n",
       "100228              3   55   2  \n",
       "100229              3   45   2  \n",
       "100230              4   45   1  \n",
       "100231              0   45   1  \n",
       "100232              2   55   2  \n",
       "\n",
       "[100233 rows x 39 columns]"
      ]
     },
     "execution_count": 48,
     "metadata": {},
     "output_type": "execute_result"
    }
   ],
   "source": [
    "df_ins"
   ]
  },
  {
   "cell_type": "code",
   "execution_count": 219,
   "metadata": {},
   "outputs": [
    {
     "name": "stdout",
     "output_type": "stream",
     "text": [
      "<class 'pandas.core.frame.DataFrame'>\n",
      "RangeIndex: 100233 entries, 0 to 100232\n",
      "Data columns (total 39 columns):\n",
      " #   Column             Non-Null Count   Dtype  \n",
      "---  ------             --------------   -----  \n",
      " 0   CUST_ID            100233 non-null  int64  \n",
      " 1   OCCP_NAME_G        99769 non-null   object \n",
      " 2   CUST_JOB_INCM      100233 non-null  int64  \n",
      " 3   HSHD_INFR_INCM     100233 non-null  int64  \n",
      " 4   ACTL_FMLY_NUM      100233 non-null  int64  \n",
      " 5   CUST_FMLY_NUM      100233 non-null  int64  \n",
      " 6   LAST_CHLD_AGE      99206 non-null   float64\n",
      " 7   MATE_OCCP_NAME_G   54524 non-null   object \n",
      " 8   MATE_JOB_INCM      100233 non-null  int64  \n",
      " 9   CRDT_LOAN_CNT      100233 non-null  int64  \n",
      " 10  MIN_CNTT_DATE      100233 non-null  int64  \n",
      " 11  TOT_CRLN_AMT       100233 non-null  int64  \n",
      " 12  TOT_REPY_AMT       100233 non-null  int64  \n",
      " 13  CRLN_OVDU_RATE     100233 non-null  int64  \n",
      " 14  CRLN_30OVDU_RATE   100233 non-null  int64  \n",
      " 15  LT1Y_CLOD_RATE     100233 non-null  int64  \n",
      " 16  STRT_CRDT_GRAD     100233 non-null  int64  \n",
      " 17  LTST_CRDT_GRAD     100233 non-null  int64  \n",
      " 18  PREM_OVDU_RATE     100233 non-null  int64  \n",
      " 19  LT1Y_PEOD_RATE     100233 non-null  object \n",
      " 20  AVG_STLN_RATE      100233 non-null  int64  \n",
      " 21  STLN_REMN_AMT      100233 non-null  int64  \n",
      " 22  LT1Y_STLN_AMT      100233 non-null  int64  \n",
      " 23  LT1Y_SLOD_RATE     100233 non-null  int64  \n",
      " 24  GDINS_MON_PREM     100233 non-null  int64  \n",
      " 25  SVINS_MON_PREM     100233 non-null  int64  \n",
      " 26  FMLY_GDINS_MNPREM  100233 non-null  int64  \n",
      " 27  FMLY_SVINS_MNPREM  100233 non-null  int64  \n",
      " 28  MAX_MON_PREM       100233 non-null  int64  \n",
      " 29  TOT_PREM           100233 non-null  int64  \n",
      " 30  FMLY_TOT_PREM      100233 non-null  int64  \n",
      " 31  CNTT_LAMT_CNT      100233 non-null  int64  \n",
      " 32  LT1Y_CTLT_CNT      100233 non-null  int64  \n",
      " 33  AUTR_FAIL_MCNT     100233 non-null  int64  \n",
      " 34  FYCM_PAID_AMT      100233 non-null  int64  \n",
      " 35  FMLY_CLAM_CNT      100233 non-null  int64  \n",
      " 36  FMLY_PLPY_CNT      100233 non-null  int64  \n",
      " 37  AGE                100233 non-null  object \n",
      " 38  SEX                100233 non-null  object \n",
      "dtypes: float64(1), int64(33), object(5)\n",
      "memory usage: 29.8+ MB\n"
     ]
    }
   ],
   "source": [
    "df_ins.info()"
   ]
  },
  {
   "cell_type": "code",
   "execution_count": 220,
   "metadata": {},
   "outputs": [
    {
     "data": {
      "text/html": [
       "<div>\n",
       "<style scoped>\n",
       "    .dataframe tbody tr th:only-of-type {\n",
       "        vertical-align: middle;\n",
       "    }\n",
       "\n",
       "    .dataframe tbody tr th {\n",
       "        vertical-align: top;\n",
       "    }\n",
       "\n",
       "    .dataframe thead th {\n",
       "        text-align: right;\n",
       "    }\n",
       "</style>\n",
       "<table border=\"1\" class=\"dataframe\">\n",
       "  <thead>\n",
       "    <tr style=\"text-align: right;\">\n",
       "      <th></th>\n",
       "      <th>CUST_ID</th>\n",
       "      <th>CUST_JOB_INCM</th>\n",
       "      <th>HSHD_INFR_INCM</th>\n",
       "      <th>ACTL_FMLY_NUM</th>\n",
       "      <th>CUST_FMLY_NUM</th>\n",
       "      <th>LAST_CHLD_AGE</th>\n",
       "      <th>MATE_JOB_INCM</th>\n",
       "      <th>CRDT_LOAN_CNT</th>\n",
       "      <th>MIN_CNTT_DATE</th>\n",
       "      <th>TOT_CRLN_AMT</th>\n",
       "      <th>...</th>\n",
       "      <th>FMLY_SVINS_MNPREM</th>\n",
       "      <th>MAX_MON_PREM</th>\n",
       "      <th>TOT_PREM</th>\n",
       "      <th>FMLY_TOT_PREM</th>\n",
       "      <th>CNTT_LAMT_CNT</th>\n",
       "      <th>LT1Y_CTLT_CNT</th>\n",
       "      <th>AUTR_FAIL_MCNT</th>\n",
       "      <th>FYCM_PAID_AMT</th>\n",
       "      <th>FMLY_CLAM_CNT</th>\n",
       "      <th>FMLY_PLPY_CNT</th>\n",
       "    </tr>\n",
       "  </thead>\n",
       "  <tbody>\n",
       "    <tr>\n",
       "      <th>count</th>\n",
       "      <td>100233.000000</td>\n",
       "      <td>100233.000000</td>\n",
       "      <td>100233.000000</td>\n",
       "      <td>100233.000000</td>\n",
       "      <td>100233.000000</td>\n",
       "      <td>99206.000000</td>\n",
       "      <td>100233.000000</td>\n",
       "      <td>100233.000000</td>\n",
       "      <td>100233.000000</td>\n",
       "      <td>1.002330e+05</td>\n",
       "      <td>...</td>\n",
       "      <td>1.002330e+05</td>\n",
       "      <td>1.002330e+05</td>\n",
       "      <td>1.002330e+05</td>\n",
       "      <td>1.002330e+05</td>\n",
       "      <td>100233.000000</td>\n",
       "      <td>100233.000000</td>\n",
       "      <td>100233.000000</td>\n",
       "      <td>1.002330e+05</td>\n",
       "      <td>100233.000000</td>\n",
       "      <td>100233.000000</td>\n",
       "    </tr>\n",
       "    <tr>\n",
       "      <th>mean</th>\n",
       "      <td>51124.199445</td>\n",
       "      <td>2788.233416</td>\n",
       "      <td>6922.486606</td>\n",
       "      <td>2.757794</td>\n",
       "      <td>1.392565</td>\n",
       "      <td>12.233958</td>\n",
       "      <td>1719.524508</td>\n",
       "      <td>0.162232</td>\n",
       "      <td>19743.957130</td>\n",
       "      <td>1.182315e+06</td>\n",
       "      <td>...</td>\n",
       "      <td>1.364362e+05</td>\n",
       "      <td>3.734214e+05</td>\n",
       "      <td>2.071504e+07</td>\n",
       "      <td>3.077308e+07</td>\n",
       "      <td>0.115351</td>\n",
       "      <td>0.022757</td>\n",
       "      <td>2.716082</td>\n",
       "      <td>4.039838e+06</td>\n",
       "      <td>4.218092</td>\n",
       "      <td>1.235092</td>\n",
       "    </tr>\n",
       "    <tr>\n",
       "      <th>std</th>\n",
       "      <td>29522.979407</td>\n",
       "      <td>2472.287102</td>\n",
       "      <td>2996.156129</td>\n",
       "      <td>1.316862</td>\n",
       "      <td>0.618116</td>\n",
       "      <td>13.964236</td>\n",
       "      <td>2460.475232</td>\n",
       "      <td>0.612144</td>\n",
       "      <td>59751.358139</td>\n",
       "      <td>5.318477e+06</td>\n",
       "      <td>...</td>\n",
       "      <td>4.993498e+05</td>\n",
       "      <td>7.019720e+05</td>\n",
       "      <td>4.482214e+07</td>\n",
       "      <td>6.431527e+07</td>\n",
       "      <td>0.454317</td>\n",
       "      <td>0.202228</td>\n",
       "      <td>6.945916</td>\n",
       "      <td>1.456263e+07</td>\n",
       "      <td>9.199485</td>\n",
       "      <td>1.642505</td>\n",
       "    </tr>\n",
       "    <tr>\n",
       "      <th>min</th>\n",
       "      <td>1.000000</td>\n",
       "      <td>0.000000</td>\n",
       "      <td>0.000000</td>\n",
       "      <td>1.000000</td>\n",
       "      <td>1.000000</td>\n",
       "      <td>0.000000</td>\n",
       "      <td>0.000000</td>\n",
       "      <td>0.000000</td>\n",
       "      <td>0.000000</td>\n",
       "      <td>0.000000e+00</td>\n",
       "      <td>...</td>\n",
       "      <td>0.000000e+00</td>\n",
       "      <td>0.000000e+00</td>\n",
       "      <td>0.000000e+00</td>\n",
       "      <td>0.000000e+00</td>\n",
       "      <td>0.000000</td>\n",
       "      <td>0.000000</td>\n",
       "      <td>0.000000</td>\n",
       "      <td>0.000000e+00</td>\n",
       "      <td>0.000000</td>\n",
       "      <td>0.000000</td>\n",
       "    </tr>\n",
       "    <tr>\n",
       "      <th>25%</th>\n",
       "      <td>25557.000000</td>\n",
       "      <td>0.000000</td>\n",
       "      <td>4800.000000</td>\n",
       "      <td>2.000000</td>\n",
       "      <td>1.000000</td>\n",
       "      <td>0.000000</td>\n",
       "      <td>0.000000</td>\n",
       "      <td>0.000000</td>\n",
       "      <td>0.000000</td>\n",
       "      <td>0.000000e+00</td>\n",
       "      <td>...</td>\n",
       "      <td>0.000000e+00</td>\n",
       "      <td>7.000000e+04</td>\n",
       "      <td>5.000000e+06</td>\n",
       "      <td>6.000000e+06</td>\n",
       "      <td>0.000000</td>\n",
       "      <td>0.000000</td>\n",
       "      <td>0.000000</td>\n",
       "      <td>0.000000e+00</td>\n",
       "      <td>0.000000</td>\n",
       "      <td>0.000000</td>\n",
       "    </tr>\n",
       "    <tr>\n",
       "      <th>50%</th>\n",
       "      <td>51119.000000</td>\n",
       "      <td>3600.000000</td>\n",
       "      <td>6600.000000</td>\n",
       "      <td>3.000000</td>\n",
       "      <td>1.000000</td>\n",
       "      <td>0.000000</td>\n",
       "      <td>0.000000</td>\n",
       "      <td>0.000000</td>\n",
       "      <td>0.000000</td>\n",
       "      <td>0.000000e+00</td>\n",
       "      <td>...</td>\n",
       "      <td>0.000000e+00</td>\n",
       "      <td>1.900000e+05</td>\n",
       "      <td>1.100000e+07</td>\n",
       "      <td>1.500000e+07</td>\n",
       "      <td>0.000000</td>\n",
       "      <td>0.000000</td>\n",
       "      <td>0.000000</td>\n",
       "      <td>3.000000e+05</td>\n",
       "      <td>1.000000</td>\n",
       "      <td>1.000000</td>\n",
       "    </tr>\n",
       "    <tr>\n",
       "      <th>75%</th>\n",
       "      <td>76691.000000</td>\n",
       "      <td>4700.000000</td>\n",
       "      <td>9200.000000</td>\n",
       "      <td>4.000000</td>\n",
       "      <td>2.000000</td>\n",
       "      <td>24.000000</td>\n",
       "      <td>4400.000000</td>\n",
       "      <td>0.000000</td>\n",
       "      <td>0.000000</td>\n",
       "      <td>0.000000e+00</td>\n",
       "      <td>...</td>\n",
       "      <td>1.000000e+05</td>\n",
       "      <td>3.900000e+05</td>\n",
       "      <td>2.300000e+07</td>\n",
       "      <td>3.400000e+07</td>\n",
       "      <td>0.000000</td>\n",
       "      <td>0.000000</td>\n",
       "      <td>2.000000</td>\n",
       "      <td>1.900000e+06</td>\n",
       "      <td>5.000000</td>\n",
       "      <td>2.000000</td>\n",
       "    </tr>\n",
       "    <tr>\n",
       "      <th>max</th>\n",
       "      <td>102252.000000</td>\n",
       "      <td>10000.000000</td>\n",
       "      <td>20000.000000</td>\n",
       "      <td>8.000000</td>\n",
       "      <td>5.000000</td>\n",
       "      <td>60.000000</td>\n",
       "      <td>10000.000000</td>\n",
       "      <td>11.000000</td>\n",
       "      <td>201604.000000</td>\n",
       "      <td>1.010000e+08</td>\n",
       "      <td>...</td>\n",
       "      <td>1.000000e+07</td>\n",
       "      <td>1.000000e+07</td>\n",
       "      <td>1.000000e+09</td>\n",
       "      <td>1.000000e+09</td>\n",
       "      <td>7.000000</td>\n",
       "      <td>6.000000</td>\n",
       "      <td>61.000000</td>\n",
       "      <td>3.001000e+08</td>\n",
       "      <td>171.000000</td>\n",
       "      <td>22.000000</td>\n",
       "    </tr>\n",
       "  </tbody>\n",
       "</table>\n",
       "<p>8 rows × 34 columns</p>\n",
       "</div>"
      ],
      "text/plain": [
       "             CUST_ID  CUST_JOB_INCM  HSHD_INFR_INCM  ACTL_FMLY_NUM  \\\n",
       "count  100233.000000  100233.000000   100233.000000  100233.000000   \n",
       "mean    51124.199445    2788.233416     6922.486606       2.757794   \n",
       "std     29522.979407    2472.287102     2996.156129       1.316862   \n",
       "min         1.000000       0.000000        0.000000       1.000000   \n",
       "25%     25557.000000       0.000000     4800.000000       2.000000   \n",
       "50%     51119.000000    3600.000000     6600.000000       3.000000   \n",
       "75%     76691.000000    4700.000000     9200.000000       4.000000   \n",
       "max    102252.000000   10000.000000    20000.000000       8.000000   \n",
       "\n",
       "       CUST_FMLY_NUM  LAST_CHLD_AGE  MATE_JOB_INCM  CRDT_LOAN_CNT  \\\n",
       "count  100233.000000   99206.000000  100233.000000  100233.000000   \n",
       "mean        1.392565      12.233958    1719.524508       0.162232   \n",
       "std         0.618116      13.964236    2460.475232       0.612144   \n",
       "min         1.000000       0.000000       0.000000       0.000000   \n",
       "25%         1.000000       0.000000       0.000000       0.000000   \n",
       "50%         1.000000       0.000000       0.000000       0.000000   \n",
       "75%         2.000000      24.000000    4400.000000       0.000000   \n",
       "max         5.000000      60.000000   10000.000000      11.000000   \n",
       "\n",
       "       MIN_CNTT_DATE  TOT_CRLN_AMT  ...  FMLY_SVINS_MNPREM  MAX_MON_PREM  \\\n",
       "count  100233.000000  1.002330e+05  ...       1.002330e+05  1.002330e+05   \n",
       "mean    19743.957130  1.182315e+06  ...       1.364362e+05  3.734214e+05   \n",
       "std     59751.358139  5.318477e+06  ...       4.993498e+05  7.019720e+05   \n",
       "min         0.000000  0.000000e+00  ...       0.000000e+00  0.000000e+00   \n",
       "25%         0.000000  0.000000e+00  ...       0.000000e+00  7.000000e+04   \n",
       "50%         0.000000  0.000000e+00  ...       0.000000e+00  1.900000e+05   \n",
       "75%         0.000000  0.000000e+00  ...       1.000000e+05  3.900000e+05   \n",
       "max    201604.000000  1.010000e+08  ...       1.000000e+07  1.000000e+07   \n",
       "\n",
       "           TOT_PREM  FMLY_TOT_PREM  CNTT_LAMT_CNT  LT1Y_CTLT_CNT  \\\n",
       "count  1.002330e+05   1.002330e+05  100233.000000  100233.000000   \n",
       "mean   2.071504e+07   3.077308e+07       0.115351       0.022757   \n",
       "std    4.482214e+07   6.431527e+07       0.454317       0.202228   \n",
       "min    0.000000e+00   0.000000e+00       0.000000       0.000000   \n",
       "25%    5.000000e+06   6.000000e+06       0.000000       0.000000   \n",
       "50%    1.100000e+07   1.500000e+07       0.000000       0.000000   \n",
       "75%    2.300000e+07   3.400000e+07       0.000000       0.000000   \n",
       "max    1.000000e+09   1.000000e+09       7.000000       6.000000   \n",
       "\n",
       "       AUTR_FAIL_MCNT  FYCM_PAID_AMT  FMLY_CLAM_CNT  FMLY_PLPY_CNT  \n",
       "count   100233.000000   1.002330e+05  100233.000000  100233.000000  \n",
       "mean         2.716082   4.039838e+06       4.218092       1.235092  \n",
       "std          6.945916   1.456263e+07       9.199485       1.642505  \n",
       "min          0.000000   0.000000e+00       0.000000       0.000000  \n",
       "25%          0.000000   0.000000e+00       0.000000       0.000000  \n",
       "50%          0.000000   3.000000e+05       1.000000       1.000000  \n",
       "75%          2.000000   1.900000e+06       5.000000       2.000000  \n",
       "max         61.000000   3.001000e+08     171.000000      22.000000  \n",
       "\n",
       "[8 rows x 34 columns]"
      ]
     },
     "execution_count": 220,
     "metadata": {},
     "output_type": "execute_result"
    }
   ],
   "source": [
    "df_ins.describe()"
   ]
  },
  {
   "cell_type": "code",
   "execution_count": 222,
   "metadata": {},
   "outputs": [
    {
     "data": {
      "text/plain": [
       "CUST_ID                  0\n",
       "OCCP_NAME_G            464\n",
       "CUST_JOB_INCM            0\n",
       "HSHD_INFR_INCM           0\n",
       "ACTL_FMLY_NUM            0\n",
       "CUST_FMLY_NUM            0\n",
       "LAST_CHLD_AGE         1027\n",
       "MATE_OCCP_NAME_G     45709\n",
       "MATE_JOB_INCM            0\n",
       "CRDT_LOAN_CNT            0\n",
       "MIN_CNTT_DATE            0\n",
       "TOT_CRLN_AMT             0\n",
       "TOT_REPY_AMT             0\n",
       "CRLN_OVDU_RATE           0\n",
       "CRLN_30OVDU_RATE         0\n",
       "LT1Y_CLOD_RATE           0\n",
       "STRT_CRDT_GRAD           0\n",
       "LTST_CRDT_GRAD           0\n",
       "PREM_OVDU_RATE           0\n",
       "LT1Y_PEOD_RATE           0\n",
       "AVG_STLN_RATE            0\n",
       "STLN_REMN_AMT            0\n",
       "LT1Y_STLN_AMT            0\n",
       "LT1Y_SLOD_RATE           0\n",
       "GDINS_MON_PREM           0\n",
       "SVINS_MON_PREM           0\n",
       "FMLY_GDINS_MNPREM        0\n",
       "FMLY_SVINS_MNPREM        0\n",
       "MAX_MON_PREM             0\n",
       "TOT_PREM                 0\n",
       "FMLY_TOT_PREM            0\n",
       "CNTT_LAMT_CNT            0\n",
       "LT1Y_CTLT_CNT            0\n",
       "AUTR_FAIL_MCNT           0\n",
       "FYCM_PAID_AMT            0\n",
       "FMLY_CLAM_CNT            0\n",
       "FMLY_PLPY_CNT            0\n",
       "AGE                      0\n",
       "SEX                      0\n",
       "dtype: int64"
      ]
     },
     "execution_count": 222,
     "metadata": {},
     "output_type": "execute_result"
    }
   ],
   "source": [
    "df_ins.isnull().sum()"
   ]
  },
  {
   "cell_type": "markdown",
   "metadata": {},
   "source": [
    "#### 막내 자녀 나이 결측치 대체??"
   ]
  },
  {
   "cell_type": "code",
   "execution_count": 259,
   "metadata": {},
   "outputs": [],
   "source": [
    "f_mem=(df_ins[df_ins['LAST_CHLD_AGE']==0]['ACTL_FMLY_NUM'])>=3"
   ]
  },
  {
   "cell_type": "code",
   "execution_count": 267,
   "metadata": {},
   "outputs": [
    {
     "data": {
      "text/plain": [
       "list"
      ]
     },
     "execution_count": 267,
     "metadata": {},
     "output_type": "execute_result"
    }
   ],
   "source": [
    "f_mem = f_mem.tolist()\n",
    "type(f_mem)"
   ]
  },
  {
   "cell_type": "code",
   "execution_count": 268,
   "metadata": {},
   "outputs": [
    {
     "name": "stdout",
     "output_type": "stream",
     "text": [
      "9757\n"
     ]
    }
   ],
   "source": [
    "cnt = 0\n",
    "for f in f_mem:\n",
    "    if f == True:\n",
    "        cnt += 1\n",
    "print(cnt)"
   ]
  },
  {
   "cell_type": "code",
   "execution_count": 269,
   "metadata": {},
   "outputs": [
    {
     "name": "stdout",
     "output_type": "stream",
     "text": [
      "40368\n"
     ]
    }
   ],
   "source": [
    "cnt = 0\n",
    "for f in f_mem:\n",
    "    if f == False:\n",
    "        cnt += 1\n",
    "print(cnt)"
   ]
  },
  {
   "cell_type": "markdown",
   "metadata": {},
   "source": [
    "#### - 직업('OCCP_NAME_G')"
   ]
  },
  {
   "cell_type": "code",
   "execution_count": 6,
   "metadata": {},
   "outputs": [
    {
     "data": {
      "text/plain": [
       "array(['공무원', '자영업', '주부', '학생', '3차산업 종사자', '기업/단체 임원', '단순 사무직', '사무직',\n",
       "       '단순 노무직', '*', '고소득 전문직', '2차산업 종사자', '운전직', '전문직', '기타',\n",
       "       '예체능계 종사자', '1차산업 종사자', nan], dtype=object)"
      ]
     },
     "execution_count": 6,
     "metadata": {},
     "output_type": "execute_result"
    }
   ],
   "source": [
    "df_ins['OCCP_NAME_G'].unique()"
   ]
  },
  {
   "cell_type": "code",
   "execution_count": 8,
   "metadata": {},
   "outputs": [
    {
     "data": {
      "text/plain": [
       "주부          27565\n",
       "사무직         16581\n",
       "2차산업 종사자     9601\n",
       "자영업          9485\n",
       "3차산업 종사자     8275\n",
       "공무원          5091\n",
       "전문직          5043\n",
       "단순 사무직       4107\n",
       "학생           3835\n",
       "운전직          2126\n",
       "기타           1672\n",
       "고소득 전문직      1223\n",
       "*            1189\n",
       "1차산업 종사자     1178\n",
       "기업/단체 임원     1041\n",
       "예체능계 종사자      936\n",
       "단순 노무직        821\n",
       "Name: OCCP_NAME_G, dtype: int64"
      ]
     },
     "execution_count": 8,
     "metadata": {},
     "output_type": "execute_result"
    }
   ],
   "source": [
    "df_ins['OCCP_NAME_G'].value_counts()"
   ]
  },
  {
   "cell_type": "markdown",
   "metadata": {},
   "source": [
    "- 주부가 가장 많음 \n",
    "- 직업('OCCP_NAME_G') - nan \n",
    "- '*' 값 처리 필요 "
   ]
  },
  {
   "cell_type": "code",
   "execution_count": 106,
   "metadata": {},
   "outputs": [
    {
     "data": {
      "text/plain": [
       "0         False\n",
       "1         False\n",
       "2          True\n",
       "3         False\n",
       "4         False\n",
       "          ...  \n",
       "100228    False\n",
       "100229    False\n",
       "100230    False\n",
       "100231    False\n",
       "100232    False\n",
       "Name: OCCP_NAME_G, Length: 100233, dtype: bool"
      ]
     },
     "execution_count": 106,
     "metadata": {},
     "output_type": "execute_result"
    }
   ],
   "source": [
    "df_ins['OCCP_NAME_G']=='주부'"
   ]
  },
  {
   "cell_type": "code",
   "execution_count": 112,
   "metadata": {},
   "outputs": [
    {
     "data": {
      "text/plain": [
       "array(['2', '1'], dtype=object)"
      ]
     },
     "execution_count": 112,
     "metadata": {},
     "output_type": "execute_result"
    }
   ],
   "source": [
    "df_ins[df_ins['OCCP_NAME_G']=='주부']['SEX'].unique()"
   ]
  },
  {
   "cell_type": "code",
   "execution_count": null,
   "metadata": {},
   "outputs": [],
   "source": []
  },
  {
   "cell_type": "markdown",
   "metadata": {},
   "source": [
    "#### - 추정 소득"
   ]
  },
  {
   "cell_type": "code",
   "execution_count": 88,
   "metadata": {},
   "outputs": [
    {
     "data": {
      "text/plain": [
       "array([ 5400,  5500,     0,  4800,  4400,  4700,  3600,  4300,  3700,\n",
       "        8400,  5900,  3500,  5200,  5800,  3900, 10000,  5600,  5300,\n",
       "        3800,  6000,  4100,  3000,  6500,  4200,  4500,  3400,  4600,\n",
       "        6200,  7000,  4000,  3300,  6300,  5100,  5700,  4900,  2600,\n",
       "        7500,  3200,  8900,  5000,  6800,  6100,  3100,  2800,  7200,\n",
       "        2700,  6400,  7900,  2900,  9900,  6600,  2400,  2500],\n",
       "      dtype=int64)"
      ]
     },
     "execution_count": 88,
     "metadata": {},
     "output_type": "execute_result"
    }
   ],
   "source": [
    "df_ins['CUST_JOB_INCM'].unique()"
   ]
  },
  {
   "cell_type": "markdown",
   "metadata": {},
   "source": [
    "0 값 존재 - 소득이 없는 사람... --> 주부, 학생 추정 "
   ]
  },
  {
   "cell_type": "code",
   "execution_count": 10,
   "metadata": {},
   "outputs": [
    {
     "data": {
      "text/plain": [
       "<matplotlib.axes._subplots.AxesSubplot at 0x2903bc08730>"
      ]
     },
     "execution_count": 10,
     "metadata": {},
     "output_type": "execute_result"
    },
    {
     "data": {
      "image/png": "[encoded data removed]",
      "text/plain": [
       "<Figure size 432x288 with 1 Axes>"
      ]
     },
     "metadata": {
      "needs_background": "light"
     },
     "output_type": "display_data"
    }
   ],
   "source": [
    "df_ins.boxplot(column='CUST_JOB_INCM')"
   ]
  },
  {
   "cell_type": "raw",
   "metadata": {},
   "source": [
    "plt.ticklabel_format(style='plain')\n",
    "sns.violinplot(df_ins['CUST_JOB_INCM'])"
   ]
  },
  {
   "cell_type": "markdown",
   "metadata": {},
   "source": [
    "#### - 가구 추정 소득 \n"
   ]
  },
  {
   "cell_type": "code",
   "execution_count": 90,
   "metadata": {},
   "outputs": [
    {
     "data": {
      "text/plain": [
       "array([ 7700,  8100,  4900, 10100,  4800, 10300,  7600, 12400, 11300,\n",
       "        9200,  5900,  8000,  5500, 11000, 10600,  7400,     0,  6000,\n",
       "        4700,  8400,  9100, 10800,  3500, 11700, 10500,  5800,  6200,\n",
       "        4600,  8800, 12900, 10000,  9600,  3800,  7800,  7100,  6400,\n",
       "        4200,  8700,  6500,  8900,  4500,  8500, 11500,  3400,  8600,\n",
       "        9800,  5300,  4400,  2700,  7000,  6700,  5700, 14900,  6900,\n",
       "        3300,  5000, 11100,  5100,  5600,  7200,  6100,  3000, 10200,\n",
       "        8200,  9900,  2600,  9400,  6800,  4100,  9300,  7500, 10400,\n",
       "       12100,  5200,  5400,  3200,  7300, 13900,  6600,  7900,  6300,\n",
       "        3900,  9700,  4300,  8300,  3600,  3700,  3100,  9500,  2400,\n",
       "       10900, 16900,  2800,  9000, 10700, 11200,  4000, 19900,  1600,\n",
       "        2900,  2500, 11900, 20000], dtype=int64)"
      ]
     },
     "execution_count": 90,
     "metadata": {},
     "output_type": "execute_result"
    }
   ],
   "source": [
    "df_ins['HSHD_INFR_INCM'].unique()"
   ]
  },
  {
   "cell_type": "markdown",
   "metadata": {},
   "source": [
    "가구 추정 소득 0원 --> 보험료 못냄 or 미기입??\n",
    "## => AGE 확인 필요"
   ]
  },
  {
   "cell_type": "code",
   "execution_count": null,
   "metadata": {},
   "outputs": [],
   "source": []
  },
  {
   "cell_type": "code",
   "execution_count": 19,
   "metadata": {},
   "outputs": [],
   "source": [
    "poor=(df_ins[df_ins['HSHD_INFR_INCM']==0]['MATE_JOB_INCM']==0).tolist()"
   ]
  },
  {
   "cell_type": "code",
   "execution_count": 22,
   "metadata": {},
   "outputs": [
    {
     "data": {
      "text/plain": [
       "0"
      ]
     },
     "execution_count": 22,
     "metadata": {},
     "output_type": "execute_result"
    }
   ],
   "source": [
    "cnt=0\n",
    "for i in poor:\n",
    "    if(poor==0):\n",
    "        cnt+=1\n",
    "cnt"
   ]
  },
  {
   "cell_type": "markdown",
   "metadata": {},
   "source": [
    "- 가구 추정 소득 0원인 사람 모두 배우자 추정 소득 0\n",
    "- 미기입일 확률이 높음 "
   ]
  },
  {
   "cell_type": "code",
   "execution_count": 24,
   "metadata": {},
   "outputs": [
    {
     "data": {
      "text/plain": [
       "<matplotlib.axes._subplots.AxesSubplot at 0x2903bdc0880>"
      ]
     },
     "execution_count": 24,
     "metadata": {},
     "output_type": "execute_result"
    },
    {
     "data": {
      "image/png": "[encoded data removed]",
      "text/plain": [
       "<Figure size 432x288 with 1 Axes>"
      ]
     },
     "metadata": {
      "needs_background": "light"
     },
     "output_type": "display_data"
    }
   ],
   "source": [
    "df_ins.boxplot(column='HSHD_INFR_INCM')"
   ]
  },
  {
   "cell_type": "code",
   "execution_count": null,
   "metadata": {},
   "outputs": [],
   "source": []
  },
  {
   "cell_type": "markdown",
   "metadata": {},
   "source": [
    "#### - 실가족원수"
   ]
  },
  {
   "cell_type": "code",
   "execution_count": 93,
   "metadata": {},
   "outputs": [
    {
     "data": {
      "text/plain": [
       "array([4, 2, 5, 3, 1, 6, 7, 8], dtype=int64)"
      ]
     },
     "execution_count": 93,
     "metadata": {},
     "output_type": "execute_result"
    }
   ],
   "source": [
    "df_ins['ACTL_FMLY_NUM'].unique()"
   ]
  },
  {
   "cell_type": "code",
   "execution_count": 25,
   "metadata": {},
   "outputs": [
    {
     "data": {
      "text/plain": [
       "<matplotlib.axes._subplots.AxesSubplot at 0x2903be2bb50>"
      ]
     },
     "execution_count": 25,
     "metadata": {},
     "output_type": "execute_result"
    },
    {
     "data": {
      "image/png": "[encoded data removed]",
      "text/plain": [
       "<Figure size 432x288 with 1 Axes>"
      ]
     },
     "metadata": {
      "needs_background": "light"
     },
     "output_type": "display_data"
    }
   ],
   "source": [
    "df_ins.boxplot(column='ACTL_FMLY_NUM')"
   ]
  },
  {
   "cell_type": "markdown",
   "metadata": {},
   "source": [
    "#### - 보험 가입 가족 원수 "
   ]
  },
  {
   "cell_type": "code",
   "execution_count": 96,
   "metadata": {},
   "outputs": [
    {
     "data": {
      "text/plain": [
       "array([1, 2, 3, 5, 4], dtype=int64)"
      ]
     },
     "execution_count": 96,
     "metadata": {},
     "output_type": "execute_result"
    }
   ],
   "source": [
    "df_ins['CUST_FMLY_NUM'].unique()"
   ]
  },
  {
   "cell_type": "code",
   "execution_count": 28,
   "metadata": {},
   "outputs": [
    {
     "data": {
      "text/plain": [
       "<matplotlib.axes._subplots.AxesSubplot at 0x2903c5099d0>"
      ]
     },
     "execution_count": 28,
     "metadata": {},
     "output_type": "execute_result"
    },
    {
     "data": {
      "image/png": "[encoded data removed]",
      "text/plain": [
       "<Figure size 432x288 with 1 Axes>"
      ]
     },
     "metadata": {
      "needs_background": "light"
     },
     "output_type": "display_data"
    }
   ],
   "source": [
    "df_ins.boxplot(column='CUST_FMLY_NUM')"
   ]
  },
  {
   "cell_type": "markdown",
   "metadata": {},
   "source": [
    "보험 가입 가족원 수 , 실가족원 수 비교 --> 보험 상품 개발, 이유 도출해볼 수 있음"
   ]
  },
  {
   "cell_type": "markdown",
   "metadata": {},
   "source": [
    "#### - 막내 자녀 나이"
   ]
  },
  {
   "cell_type": "code",
   "execution_count": 103,
   "metadata": {},
   "outputs": [
    {
     "data": {
      "text/plain": [
       "0.0     50125\n",
       "24.0    10774\n",
       "19.0     9651\n",
       "29.0     7905\n",
       "14.0     5801\n",
       "34.0     5600\n",
       "39.0     4297\n",
       "9.0      2862\n",
       "44.0     1221\n",
       "4.0       544\n",
       "49.0      330\n",
       "54.0       46\n",
       "60.0       33\n",
       "59.0       17\n",
       "Name: LAST_CHLD_AGE, dtype: int64"
      ]
     },
     "execution_count": 103,
     "metadata": {},
     "output_type": "execute_result"
    }
   ],
   "source": [
    "df_ins['LAST_CHLD_AGE'].value_counts()"
   ]
  },
  {
   "cell_type": "code",
   "execution_count": 105,
   "metadata": {},
   "outputs": [
    {
     "data": {
      "text/plain": [
       "array([24., 29., 34.,  0., 14., 19.,  9.,  4., nan, 39., 44., 49., 60.,\n",
       "       59., 54.])"
      ]
     },
     "execution_count": 105,
     "metadata": {},
     "output_type": "execute_result"
    }
   ],
   "source": [
    "df_ins['LAST_CHLD_AGE'].unique()"
   ]
  },
  {
   "cell_type": "markdown",
   "metadata": {},
   "source": [
    "결측치 존재"
   ]
  },
  {
   "cell_type": "code",
   "execution_count": 29,
   "metadata": {},
   "outputs": [
    {
     "data": {
      "text/plain": [
       "<matplotlib.axes._subplots.AxesSubplot at 0x2903c52cd30>"
      ]
     },
     "execution_count": 29,
     "metadata": {},
     "output_type": "execute_result"
    },
    {
     "data": {
      "image/png": "[encoded data removed]",
      "text/plain": [
       "<Figure size 432x288 with 1 Axes>"
      ]
     },
     "metadata": {
      "needs_background": "light"
     },
     "output_type": "display_data"
    }
   ],
   "source": [
    "df_ins.boxplot(column='LAST_CHLD_AGE')"
   ]
  },
  {
   "cell_type": "code",
   "execution_count": 30,
   "metadata": {},
   "outputs": [
    {
     "data": {
      "text/plain": [
       "<matplotlib.axes._subplots.AxesSubplot at 0x2903c5c43d0>"
      ]
     },
     "execution_count": 30,
     "metadata": {},
     "output_type": "execute_result"
    },
    {
     "data": {
      "image/png": "[encoded data removed]",
      "text/plain": [
       "<Figure size 432x288 with 1 Axes>"
      ]
     },
     "metadata": {
      "needs_background": "light"
     },
     "output_type": "display_data"
    }
   ],
   "source": [
    "plt.ticklabel_format(style='plain')\n",
    "sns.violinplot(df_ins['LAST_CHLD_AGE'])"
   ]
  },
  {
   "cell_type": "markdown",
   "metadata": {},
   "source": [
    "#### - 배우자 직업"
   ]
  },
  {
   "cell_type": "code",
   "execution_count": 113,
   "metadata": {},
   "outputs": [
    {
     "data": {
      "text/plain": [
       "array(['주부', '2차산업 종사자', nan, '단순 사무직', '사무직', '전문직', '기업/단체 임원', '자영업',\n",
       "       '*', '기타', '운전직', '예체능계 종사자', '3차산업 종사자', '공무원', '1차산업 종사자', '학생',\n",
       "       '고소득 전문직', '단순 노무직'], dtype=object)"
      ]
     },
     "execution_count": 113,
     "metadata": {},
     "output_type": "execute_result"
    }
   ],
   "source": [
    "df_ins['MATE_OCCP_NAME_G'].unique()"
   ]
  },
  {
   "cell_type": "code",
   "execution_count": 35,
   "metadata": {},
   "outputs": [
    {
     "data": {
      "text/plain": [
       "<matplotlib.axes._subplots.AxesSubplot at 0x2903ca91340>"
      ]
     },
     "execution_count": 35,
     "metadata": {},
     "output_type": "execute_result"
    },
    {
     "data": {
      "image/png": "[encoded data removed]",
      "text/plain": [
       "<Figure size 1080x576 with 1 Axes>"
      ]
     },
     "metadata": {
      "needs_background": "light"
     },
     "output_type": "display_data"
    }
   ],
   "source": [
    "from matplotlib import rcParams\n",
    "\n",
    "rcParams['figure.figsize']=15,8\n",
    "matplotlib.rc(\"font\",family=\"Malgun Gothic\")\n",
    "sns.countplot(x='MATE_OCCP_NAME_G',data=df_ins)\n"
   ]
  },
  {
   "cell_type": "markdown",
   "metadata": {},
   "source": [
    "'*' 값 존재 \\\n",
    "결측치(nan) 존재"
   ]
  },
  {
   "cell_type": "code",
   "execution_count": 179,
   "metadata": {},
   "outputs": [],
   "source": [
    "#df_ins.boxplot(column='MATE_OCCP_NAME_G')"
   ]
  },
  {
   "cell_type": "markdown",
   "metadata": {},
   "source": [
    "#### - 배우자 추정 소득"
   ]
  },
  {
   "cell_type": "code",
   "execution_count": 127,
   "metadata": {},
   "outputs": [
    {
     "data": {
      "text/plain": [
       "array([    0,  3300,  4400,  5000,  5400,  7500,  6200,  5300,  5600,\n",
       "        6800,  3700,  4300,  6400,  4800,  4600,  5100,  3800,  5700,\n",
       "        4500,  4700,  5200,  9900,  4200,  4000,  3100,  5900,  5500,\n",
       "        3600,  6600,  6300,  4900,  2700,  6500,  5800,  3900,  4100,\n",
       "        6100,  2900,  6000,  8900,  7900,  3200, 10000,  3400,  8400,\n",
       "        3500,  2500,  7200,  7000,  3000,  2800,  2600], dtype=int64)"
      ]
     },
     "execution_count": 127,
     "metadata": {},
     "output_type": "execute_result"
    }
   ],
   "source": [
    "df_ins['MATE_JOB_INCM'].unique()"
   ]
  },
  {
   "cell_type": "markdown",
   "metadata": {},
   "source": [
    "배우자 추정 소득 0 "
   ]
  },
  {
   "cell_type": "code",
   "execution_count": 90,
   "metadata": {},
   "outputs": [
    {
     "data": {
      "text/plain": [
       "65774"
      ]
     },
     "execution_count": 90,
     "metadata": {},
     "output_type": "execute_result"
    }
   ],
   "source": [
    "df_ins[df_ins['MATE_JOB_INCM']==0]['MATE_JOB_INCM'].count()"
   ]
  },
  {
   "cell_type": "code",
   "execution_count": 91,
   "metadata": {},
   "outputs": [
    {
     "ename": "SyntaxError",
     "evalue": "invalid syntax (<ipython-input-91-80947b08340d>, line 1)",
     "output_type": "error",
     "traceback": [
      "\u001b[1;36m  File \u001b[1;32m\"<ipython-input-91-80947b08340d>\"\u001b[1;36m, line \u001b[1;32m1\u001b[0m\n\u001b[1;33m    df_ins['MATE_JOB_INCM'=='주부'] df_ins['MATE_OCCP_NAME_G']\u001b[0m\n\u001b[1;37m                                  ^\u001b[0m\n\u001b[1;31mSyntaxError\u001b[0m\u001b[1;31m:\u001b[0m invalid syntax\n"
     ]
    }
   ],
   "source": [
    "#df_ins['MATE_JOB_INCM'=!=0] df_ins['MATE_OCCP_NAME_G']"
   ]
  },
  {
   "cell_type": "code",
   "execution_count": 95,
   "metadata": {},
   "outputs": [
    {
     "ename": "SyntaxError",
     "evalue": "invalid syntax (<ipython-input-95-7530b7585bbf>, line 2)",
     "output_type": "error",
     "traceback": [
      "\u001b[1;36m  File \u001b[1;32m\"<ipython-input-95-7530b7585bbf>\"\u001b[1;36m, line \u001b[1;32m2\u001b[0m\n\u001b[1;33m    df_ins[df_ins['MATE_OCCP_NAME_G']=='주부'] and [df_ins['MATE_JOB_INCM'=!=0']\u001b[0m\n\u001b[1;37m                                                                        ^\u001b[0m\n\u001b[1;31mSyntaxError\u001b[0m\u001b[1;31m:\u001b[0m invalid syntax\n"
     ]
    }
   ],
   "source": [
    "#df_loan[df_loan['BNK_LNIF_CNT']>0][df_loan['CPT_LNIF_CNT']==0][df_loan['SPART_LNIF_CNT']==0][df_loan['ECT_LNIF_CNT']==0]\n",
    "df_ins[df_ins['MATE_OCCP_NAME_G']=='주부'] and [df_ins['MATE_JOB_INCM'=!=0']"
   ]
  },
  {
   "cell_type": "code",
   "execution_count": 36,
   "metadata": {},
   "outputs": [
    {
     "data": {
      "text/plain": [
       "<matplotlib.axes._subplots.AxesSubplot at 0x2903cb0a700>"
      ]
     },
     "execution_count": 36,
     "metadata": {},
     "output_type": "execute_result"
    },
    {
     "data": {
      "image/png": "[encoded data removed]",
      "text/plain": [
       "<Figure size 1080x576 with 1 Axes>"
      ]
     },
     "metadata": {
      "needs_background": "light"
     },
     "output_type": "display_data"
    }
   ],
   "source": [
    "df_ins.boxplot(column='MATE_JOB_INCM')"
   ]
  },
  {
   "cell_type": "code",
   "execution_count": 37,
   "metadata": {},
   "outputs": [
    {
     "data": {
      "text/plain": [
       "<matplotlib.axes._subplots.AxesSubplot at 0x2903cb65730>"
      ]
     },
     "execution_count": 37,
     "metadata": {},
     "output_type": "execute_result"
    },
    {
     "data": {
      "image/png": "[encoded data removed]",
      "text/plain": [
       "<Figure size 1080x576 with 1 Axes>"
      ]
     },
     "metadata": {
      "needs_background": "light"
     },
     "output_type": "display_data"
    }
   ],
   "source": [
    "plt.ticklabel_format(style='plain')\n",
    "sns.violinplot(df_ins['MATE_JOB_INCM'])"
   ]
  },
  {
   "cell_type": "markdown",
   "metadata": {},
   "source": [
    "#### - 신용 대출 건수 "
   ]
  },
  {
   "cell_type": "code",
   "execution_count": null,
   "metadata": {},
   "outputs": [],
   "source": [
    "#신용등급 0, 대출 건수 0\n",
    "[df_ins['CRDT_LOAN_CNT']==0"
   ]
  },
  {
   "cell_type": "code",
   "execution_count": 76,
   "metadata": {},
   "outputs": [
    {
     "data": {
      "text/plain": [
       "array([0], dtype=int64)"
      ]
     },
     "execution_count": 76,
     "metadata": {},
     "output_type": "execute_result"
    }
   ],
   "source": [
    "df_ins[df_ins['CRDT_LOAN_CNT']==0]['STRT_CRDT_GRAD'].unique()\n"
   ]
  },
  {
   "cell_type": "code",
   "execution_count": 80,
   "metadata": {},
   "outputs": [
    {
     "data": {
      "text/plain": [
       "array([0], dtype=int64)"
      ]
     },
     "execution_count": 80,
     "metadata": {},
     "output_type": "execute_result"
    }
   ],
   "source": [
    "df_ins[df_ins['CRDT_LOAN_CNT']==0]['LTST_CRDT_GRAD'].unique()\n"
   ]
  },
  {
   "cell_type": "code",
   "execution_count": 83,
   "metadata": {},
   "outputs": [
    {
     "data": {
      "text/plain": [
       "array([ 0,  4,  5,  6,  7,  9,  8,  2,  3, 10,  1], dtype=int64)"
      ]
     },
     "execution_count": 83,
     "metadata": {},
     "output_type": "execute_result"
    }
   ],
   "source": [
    "df_ins[df_ins['CRDT_LOAN_CNT']!=0]['LTST_CRDT_GRAD'].unique()\n",
    "# **생명에서 받은 대출 건수가 있어도 신용등급이 0인 값이 있음 "
   ]
  },
  {
   "cell_type": "code",
   "execution_count": 87,
   "metadata": {},
   "outputs": [
    {
     "data": {
      "text/plain": [
       "pandas.core.series.Series"
      ]
     },
     "execution_count": 87,
     "metadata": {},
     "output_type": "execute_result"
    }
   ],
   "source": [
    "type(df_ins[df_ins['CRDT_LOAN_CNT']!=0]['LTST_CRDT_GRAD'])"
   ]
  },
  {
   "cell_type": "code",
   "execution_count": 71,
   "metadata": {},
   "outputs": [
    {
     "data": {
      "text/plain": [
       "<matplotlib.axes._subplots.AxesSubplot at 0x217905820a0>"
      ]
     },
     "execution_count": 71,
     "metadata": {},
     "output_type": "execute_result"
    },
    {
     "data": {
      "image/png": "[encoded data removed]",
      "text/plain": [
       "<Figure size 432x288 with 1 Axes>"
      ]
     },
     "metadata": {
      "needs_background": "light"
     },
     "output_type": "display_data"
    }
   ],
   "source": [
    "df_ins.boxplot(column='CRDT_LOAN_CNT')"
   ]
  },
  {
   "cell_type": "code",
   "execution_count": 96,
   "metadata": {
    "scrolled": true
   },
   "outputs": [
    {
     "data": {
      "text/plain": [
       "6          1\n",
       "32         3\n",
       "43        11\n",
       "46         1\n",
       "64         1\n",
       "          ..\n",
       "100182     1\n",
       "100196     1\n",
       "100213     2\n",
       "100215     1\n",
       "100218     2\n",
       "Name: CRDT_LOAN_CNT, Length: 9867, dtype: int64"
      ]
     },
     "execution_count": 96,
     "metadata": {},
     "output_type": "execute_result"
    }
   ],
   "source": [
    "df_ins[df_ins['CRDT_LOAN_CNT']!=0]['CRDT_LOAN_CNT']"
   ]
  },
  {
   "cell_type": "code",
   "execution_count": 101,
   "metadata": {},
   "outputs": [],
   "source": [
    "df_ins['TOT_A']=df_ins['TOT_CRLN_AMT']-df_ins['TOT_REPY_AMT']"
   ]
  },
  {
   "cell_type": "code",
   "execution_count": 105,
   "metadata": {},
   "outputs": [
    {
     "data": {
      "text/plain": [
       "0.0           90402\n",
       "4999500.0      1622\n",
       "3999600.0       717\n",
       "9999000.0       553\n",
       "2999700.0       551\n",
       "              ...  \n",
       "29997500.0        1\n",
       "59995000.0        1\n",
       "33998000.0        1\n",
       "22997800.0        1\n",
       "26997800.0        1\n",
       "Name: TOT_A, Length: 573, dtype: int64"
      ]
     },
     "execution_count": 105,
     "metadata": {},
     "output_type": "execute_result"
    }
   ],
   "source": [
    "df_ins['TOT_A'].value_counts()"
   ]
  },
  {
   "cell_type": "code",
   "execution_count": 104,
   "metadata": {
    "scrolled": true
   },
   "outputs": [
    {
     "ename": "KeyError",
     "evalue": "'TOP_A'",
     "output_type": "error",
     "traceback": [
      "\u001b[1;31m---------------------------------------------------------------------------\u001b[0m",
      "\u001b[1;31mKeyError\u001b[0m                                  Traceback (most recent call last)",
      "\u001b[1;32m~\\anaconda3\\lib\\site-packages\\pandas\\core\\indexes\\base.py\u001b[0m in \u001b[0;36mget_loc\u001b[1;34m(self, key, method, tolerance)\u001b[0m\n\u001b[0;32m   2645\u001b[0m             \u001b[1;32mtry\u001b[0m\u001b[1;33m:\u001b[0m\u001b[1;33m\u001b[0m\u001b[1;33m\u001b[0m\u001b[0m\n\u001b[1;32m-> 2646\u001b[1;33m                 \u001b[1;32mreturn\u001b[0m \u001b[0mself\u001b[0m\u001b[1;33m.\u001b[0m\u001b[0m_engine\u001b[0m\u001b[1;33m.\u001b[0m\u001b[0mget_loc\u001b[0m\u001b[1;33m(\u001b[0m\u001b[0mkey\u001b[0m\u001b[1;33m)\u001b[0m\u001b[1;33m\u001b[0m\u001b[1;33m\u001b[0m\u001b[0m\n\u001b[0m\u001b[0;32m   2647\u001b[0m             \u001b[1;32mexcept\u001b[0m \u001b[0mKeyError\u001b[0m\u001b[1;33m:\u001b[0m\u001b[1;33m\u001b[0m\u001b[1;33m\u001b[0m\u001b[0m\n",
      "\u001b[1;32mpandas\\_libs\\index.pyx\u001b[0m in \u001b[0;36mpandas._libs.index.IndexEngine.get_loc\u001b[1;34m()\u001b[0m\n",
      "\u001b[1;32mpandas\\_libs\\index.pyx\u001b[0m in \u001b[0;36mpandas._libs.index.IndexEngine.get_loc\u001b[1;34m()\u001b[0m\n",
      "\u001b[1;32mpandas\\_libs\\hashtable_class_helper.pxi\u001b[0m in \u001b[0;36mpandas._libs.hashtable.PyObjectHashTable.get_item\u001b[1;34m()\u001b[0m\n",
      "\u001b[1;32mpandas\\_libs\\hashtable_class_helper.pxi\u001b[0m in \u001b[0;36mpandas._libs.hashtable.PyObjectHashTable.get_item\u001b[1;34m()\u001b[0m\n",
      "\u001b[1;31mKeyError\u001b[0m: 'TOP_A'",
      "\nDuring handling of the above exception, another exception occurred:\n",
      "\u001b[1;31mKeyError\u001b[0m                                  Traceback (most recent call last)",
      "\u001b[1;32m<ipython-input-104-2965a77f29fd>\u001b[0m in \u001b[0;36m<module>\u001b[1;34m\u001b[0m\n\u001b[0;32m      1\u001b[0m \u001b[0mplt\u001b[0m\u001b[1;33m.\u001b[0m\u001b[0mticklabel_format\u001b[0m\u001b[1;33m(\u001b[0m\u001b[0mstyle\u001b[0m\u001b[1;33m=\u001b[0m\u001b[1;34m'plain'\u001b[0m\u001b[1;33m)\u001b[0m\u001b[1;33m\u001b[0m\u001b[1;33m\u001b[0m\u001b[0m\n\u001b[1;32m----> 2\u001b[1;33m \u001b[0msns\u001b[0m\u001b[1;33m.\u001b[0m\u001b[0mviolinplot\u001b[0m\u001b[1;33m(\u001b[0m\u001b[0mdf_ins\u001b[0m\u001b[1;33m[\u001b[0m\u001b[1;34m'TOP_A'\u001b[0m\u001b[1;33m]\u001b[0m\u001b[1;33m)\u001b[0m\u001b[1;33m\u001b[0m\u001b[1;33m\u001b[0m\u001b[0m\n\u001b[0m",
      "\u001b[1;32m~\\anaconda3\\lib\\site-packages\\pandas\\core\\frame.py\u001b[0m in \u001b[0;36m__getitem__\u001b[1;34m(self, key)\u001b[0m\n\u001b[0;32m   2798\u001b[0m             \u001b[1;32mif\u001b[0m \u001b[0mself\u001b[0m\u001b[1;33m.\u001b[0m\u001b[0mcolumns\u001b[0m\u001b[1;33m.\u001b[0m\u001b[0mnlevels\u001b[0m \u001b[1;33m>\u001b[0m \u001b[1;36m1\u001b[0m\u001b[1;33m:\u001b[0m\u001b[1;33m\u001b[0m\u001b[1;33m\u001b[0m\u001b[0m\n\u001b[0;32m   2799\u001b[0m                 \u001b[1;32mreturn\u001b[0m \u001b[0mself\u001b[0m\u001b[1;33m.\u001b[0m\u001b[0m_getitem_multilevel\u001b[0m\u001b[1;33m(\u001b[0m\u001b[0mkey\u001b[0m\u001b[1;33m)\u001b[0m\u001b[1;33m\u001b[0m\u001b[1;33m\u001b[0m\u001b[0m\n\u001b[1;32m-> 2800\u001b[1;33m             \u001b[0mindexer\u001b[0m \u001b[1;33m=\u001b[0m \u001b[0mself\u001b[0m\u001b[1;33m.\u001b[0m\u001b[0mcolumns\u001b[0m\u001b[1;33m.\u001b[0m\u001b[0mget_loc\u001b[0m\u001b[1;33m(\u001b[0m\u001b[0mkey\u001b[0m\u001b[1;33m)\u001b[0m\u001b[1;33m\u001b[0m\u001b[1;33m\u001b[0m\u001b[0m\n\u001b[0m\u001b[0;32m   2801\u001b[0m             \u001b[1;32mif\u001b[0m \u001b[0mis_integer\u001b[0m\u001b[1;33m(\u001b[0m\u001b[0mindexer\u001b[0m\u001b[1;33m)\u001b[0m\u001b[1;33m:\u001b[0m\u001b[1;33m\u001b[0m\u001b[1;33m\u001b[0m\u001b[0m\n\u001b[0;32m   2802\u001b[0m                 \u001b[0mindexer\u001b[0m \u001b[1;33m=\u001b[0m \u001b[1;33m[\u001b[0m\u001b[0mindexer\u001b[0m\u001b[1;33m]\u001b[0m\u001b[1;33m\u001b[0m\u001b[1;33m\u001b[0m\u001b[0m\n",
      "\u001b[1;32m~\\anaconda3\\lib\\site-packages\\pandas\\core\\indexes\\base.py\u001b[0m in \u001b[0;36mget_loc\u001b[1;34m(self, key, method, tolerance)\u001b[0m\n\u001b[0;32m   2646\u001b[0m                 \u001b[1;32mreturn\u001b[0m \u001b[0mself\u001b[0m\u001b[1;33m.\u001b[0m\u001b[0m_engine\u001b[0m\u001b[1;33m.\u001b[0m\u001b[0mget_loc\u001b[0m\u001b[1;33m(\u001b[0m\u001b[0mkey\u001b[0m\u001b[1;33m)\u001b[0m\u001b[1;33m\u001b[0m\u001b[1;33m\u001b[0m\u001b[0m\n\u001b[0;32m   2647\u001b[0m             \u001b[1;32mexcept\u001b[0m \u001b[0mKeyError\u001b[0m\u001b[1;33m:\u001b[0m\u001b[1;33m\u001b[0m\u001b[1;33m\u001b[0m\u001b[0m\n\u001b[1;32m-> 2648\u001b[1;33m                 \u001b[1;32mreturn\u001b[0m \u001b[0mself\u001b[0m\u001b[1;33m.\u001b[0m\u001b[0m_engine\u001b[0m\u001b[1;33m.\u001b[0m\u001b[0mget_loc\u001b[0m\u001b[1;33m(\u001b[0m\u001b[0mself\u001b[0m\u001b[1;33m.\u001b[0m\u001b[0m_maybe_cast_indexer\u001b[0m\u001b[1;33m(\u001b[0m\u001b[0mkey\u001b[0m\u001b[1;33m)\u001b[0m\u001b[1;33m)\u001b[0m\u001b[1;33m\u001b[0m\u001b[1;33m\u001b[0m\u001b[0m\n\u001b[0m\u001b[0;32m   2649\u001b[0m         \u001b[0mindexer\u001b[0m \u001b[1;33m=\u001b[0m \u001b[0mself\u001b[0m\u001b[1;33m.\u001b[0m\u001b[0mget_indexer\u001b[0m\u001b[1;33m(\u001b[0m\u001b[1;33m[\u001b[0m\u001b[0mkey\u001b[0m\u001b[1;33m]\u001b[0m\u001b[1;33m,\u001b[0m \u001b[0mmethod\u001b[0m\u001b[1;33m=\u001b[0m\u001b[0mmethod\u001b[0m\u001b[1;33m,\u001b[0m \u001b[0mtolerance\u001b[0m\u001b[1;33m=\u001b[0m\u001b[0mtolerance\u001b[0m\u001b[1;33m)\u001b[0m\u001b[1;33m\u001b[0m\u001b[1;33m\u001b[0m\u001b[0m\n\u001b[0;32m   2650\u001b[0m         \u001b[1;32mif\u001b[0m \u001b[0mindexer\u001b[0m\u001b[1;33m.\u001b[0m\u001b[0mndim\u001b[0m \u001b[1;33m>\u001b[0m \u001b[1;36m1\u001b[0m \u001b[1;32mor\u001b[0m \u001b[0mindexer\u001b[0m\u001b[1;33m.\u001b[0m\u001b[0msize\u001b[0m \u001b[1;33m>\u001b[0m \u001b[1;36m1\u001b[0m\u001b[1;33m:\u001b[0m\u001b[1;33m\u001b[0m\u001b[1;33m\u001b[0m\u001b[0m\n",
      "\u001b[1;32mpandas\\_libs\\index.pyx\u001b[0m in \u001b[0;36mpandas._libs.index.IndexEngine.get_loc\u001b[1;34m()\u001b[0m\n",
      "\u001b[1;32mpandas\\_libs\\index.pyx\u001b[0m in \u001b[0;36mpandas._libs.index.IndexEngine.get_loc\u001b[1;34m()\u001b[0m\n",
      "\u001b[1;32mpandas\\_libs\\hashtable_class_helper.pxi\u001b[0m in \u001b[0;36mpandas._libs.hashtable.PyObjectHashTable.get_item\u001b[1;34m()\u001b[0m\n",
      "\u001b[1;32mpandas\\_libs\\hashtable_class_helper.pxi\u001b[0m in \u001b[0;36mpandas._libs.hashtable.PyObjectHashTable.get_item\u001b[1;34m()\u001b[0m\n",
      "\u001b[1;31mKeyError\u001b[0m: 'TOP_A'"
     ]
    },
    {
     "data": {
      "image/png": "[encoded data removed]",
      "text/plain": [
       "<Figure size 1080x576 with 1 Axes>"
      ]
     },
     "metadata": {
      "needs_background": "light"
     },
     "output_type": "display_data"
    }
   ],
   "source": [
    "plt.ticklabel_format(style='plain')\n",
    "sns.violinplot(df_ins['TOP_A'])"
   ]
  },
  {
   "cell_type": "code",
   "execution_count": null,
   "metadata": {},
   "outputs": [],
   "source": []
  },
  {
   "cell_type": "code",
   "execution_count": 40,
   "metadata": {},
   "outputs": [
    {
     "data": {
      "text/plain": [
       "<matplotlib.axes._subplots.AxesSubplot at 0x2903cdb9a60>"
      ]
     },
     "execution_count": 40,
     "metadata": {},
     "output_type": "execute_result"
    },
    {
     "data": {
      "image/png": "[encoded data removed]",
      "text/plain": [
       "<Figure size 1080x576 with 1 Axes>"
      ]
     },
     "metadata": {
      "needs_background": "light"
     },
     "output_type": "display_data"
    }
   ],
   "source": [
    "plt.ticklabel_format(style='plain')\n",
    "sns.violinplot(df_ins['CRDT_LOAN_CNT'])"
   ]
  },
  {
   "cell_type": "markdown",
   "metadata": {},
   "source": [
    "#### - **생명에서의 최초 대출 날짜 : int 형 --> 파생변수 생성(??)"
   ]
  },
  {
   "cell_type": "code",
   "execution_count": null,
   "metadata": {},
   "outputs": [],
   "source": []
  },
  {
   "cell_type": "code",
   "execution_count": 63,
   "metadata": {},
   "outputs": [
    {
     "data": {
      "text/plain": [
       "<matplotlib.axes._subplots.AxesSubplot at 0x2179053d5b0>"
      ]
     },
     "execution_count": 63,
     "metadata": {},
     "output_type": "execute_result"
    },
    {
     "data": {
      "image/png": "[encoded data removed]",
      "text/plain": [
       "<Figure size 432x288 with 1 Axes>"
      ]
     },
     "metadata": {
      "needs_background": "light"
     },
     "output_type": "display_data"
    }
   ],
   "source": [
    "df_ins.boxplot(column='MIN_CNTT_DATE')"
   ]
  },
  {
   "cell_type": "code",
   "execution_count": 60,
   "metadata": {},
   "outputs": [
    {
     "data": {
      "text/plain": [
       "6         200106\n",
       "32        201306\n",
       "43        200908\n",
       "46        200106\n",
       "64        201509\n",
       "           ...  \n",
       "100182    201303\n",
       "100196    200207\n",
       "100213    201103\n",
       "100215    200305\n",
       "100218    200201\n",
       "Name: MIN_CNTT_DATE, Length: 9867, dtype: int64"
      ]
     },
     "execution_count": 60,
     "metadata": {},
     "output_type": "execute_result"
    }
   ],
   "source": [
    "df_ins[df_ins['MIN_CNTT_DATE']!=0]['MIN_CNTT_DATE']"
   ]
  },
  {
   "cell_type": "code",
   "execution_count": 61,
   "metadata": {},
   "outputs": [],
   "source": [
    "a=df_ins['MIN_CNTT_DATE'].tolist()"
   ]
  },
  {
   "cell_type": "code",
   "execution_count": 89,
   "metadata": {},
   "outputs": [
    {
     "data": {
      "text/plain": [
       "{'0',\n",
       " '1999',\n",
       " '2000',\n",
       " '2001',\n",
       " '2002',\n",
       " '2003',\n",
       " '2004',\n",
       " '2005',\n",
       " '2006',\n",
       " '2007',\n",
       " '2008',\n",
       " '2009',\n",
       " '2010',\n",
       " '2011',\n",
       " '2012',\n",
       " '2013',\n",
       " '2014',\n",
       " '2015',\n",
       " '2016'}"
      ]
     },
     "execution_count": 89,
     "metadata": {},
     "output_type": "execute_result"
    }
   ],
   "source": [
    "year_=[]\n",
    "for year in a:\n",
    "    year=str(year)\n",
    "    year_.append(year[:4])\n",
    "year_=set(year_)\n",
    "year_"
   ]
  },
  {
   "cell_type": "code",
   "execution_count": null,
   "metadata": {},
   "outputs": [],
   "source": []
  },
  {
   "cell_type": "code",
   "execution_count": null,
   "metadata": {},
   "outputs": [],
   "source": []
  },
  {
   "cell_type": "markdown",
   "metadata": {},
   "source": [
    "#### - **생명 신용 대출 금액"
   ]
  },
  {
   "cell_type": "code",
   "execution_count": 138,
   "metadata": {},
   "outputs": [
    {
     "data": {
      "text/plain": [
       "array([        0,   4000000,  50000000,  23000000,   7000000,   2000000,\n",
       "         3000000,  20000000,  16000000,  15000000,   8000000,  12000000,\n",
       "        10000000,   5000000,  24000000,  17000000,  13000000,  22000000,\n",
       "         9000000,  32000000,   6000000,  14000000,  11000000, 101000000,\n",
       "        25000000,  36000000,  26000000,  70000000,   1000000,  18000000,\n",
       "       100000000,  40000000,  45000000,  28000000,  37000000,  65000000,\n",
       "        30000000,  19000000,  31000000,  38000000,  33000000,  35000000,\n",
       "        55000000,  60000000,  34000000,  27000000,  80000000,  29000000,\n",
       "        21000000,  39000000], dtype=int64)"
      ]
     },
     "execution_count": 138,
     "metadata": {},
     "output_type": "execute_result"
    }
   ],
   "source": [
    "df_ins['TOT_CRLN_AMT'].unique()"
   ]
  },
  {
   "cell_type": "code",
   "execution_count": 41,
   "metadata": {},
   "outputs": [
    {
     "data": {
      "text/plain": [
       "90402"
      ]
     },
     "execution_count": 41,
     "metadata": {},
     "output_type": "execute_result"
    }
   ],
   "source": [
    "df_ins[df_ins['TOT_CRLN_AMT']==0]['TOT_CRLN_AMT'].count()"
   ]
  },
  {
   "cell_type": "code",
   "execution_count": 42,
   "metadata": {},
   "outputs": [
    {
     "data": {
      "text/plain": [
       "100233"
      ]
     },
     "execution_count": 42,
     "metadata": {},
     "output_type": "execute_result"
    }
   ],
   "source": [
    "df_ins['TOT_CRLN_AMT'].count()"
   ]
  },
  {
   "cell_type": "code",
   "execution_count": 46,
   "metadata": {},
   "outputs": [
    {
     "data": {
      "text/html": [
       "<div>\n",
       "<style scoped>\n",
       "    .dataframe tbody tr th:only-of-type {\n",
       "        vertical-align: middle;\n",
       "    }\n",
       "\n",
       "    .dataframe tbody tr th {\n",
       "        vertical-align: top;\n",
       "    }\n",
       "\n",
       "    .dataframe thead th {\n",
       "        text-align: right;\n",
       "    }\n",
       "</style>\n",
       "<table border=\"1\" class=\"dataframe\">\n",
       "  <thead>\n",
       "    <tr style=\"text-align: right;\">\n",
       "      <th></th>\n",
       "      <th>TOT_CRLN_AMT</th>\n",
       "    </tr>\n",
       "  </thead>\n",
       "  <tbody>\n",
       "    <tr>\n",
       "      <th>0</th>\n",
       "      <td>0</td>\n",
       "    </tr>\n",
       "    <tr>\n",
       "      <th>1</th>\n",
       "      <td>0</td>\n",
       "    </tr>\n",
       "    <tr>\n",
       "      <th>2</th>\n",
       "      <td>0</td>\n",
       "    </tr>\n",
       "    <tr>\n",
       "      <th>3</th>\n",
       "      <td>0</td>\n",
       "    </tr>\n",
       "    <tr>\n",
       "      <th>4</th>\n",
       "      <td>0</td>\n",
       "    </tr>\n",
       "    <tr>\n",
       "      <th>...</th>\n",
       "      <td>...</td>\n",
       "    </tr>\n",
       "    <tr>\n",
       "      <th>95</th>\n",
       "      <td>0</td>\n",
       "    </tr>\n",
       "    <tr>\n",
       "      <th>96</th>\n",
       "      <td>0</td>\n",
       "    </tr>\n",
       "    <tr>\n",
       "      <th>97</th>\n",
       "      <td>0</td>\n",
       "    </tr>\n",
       "    <tr>\n",
       "      <th>98</th>\n",
       "      <td>0</td>\n",
       "    </tr>\n",
       "    <tr>\n",
       "      <th>99</th>\n",
       "      <td>0</td>\n",
       "    </tr>\n",
       "  </tbody>\n",
       "</table>\n",
       "<p>100 rows × 1 columns</p>\n",
       "</div>"
      ],
      "text/plain": [
       "    TOT_CRLN_AMT\n",
       "0              0\n",
       "1              0\n",
       "2              0\n",
       "3              0\n",
       "4              0\n",
       "..           ...\n",
       "95             0\n",
       "96             0\n",
       "97             0\n",
       "98             0\n",
       "99             0\n",
       "\n",
       "[100 rows x 1 columns]"
      ]
     },
     "execution_count": 46,
     "metadata": {},
     "output_type": "execute_result"
    }
   ],
   "source": [
    "df_ins[['TOT_CRLN_AMT']].head(100)"
   ]
  },
  {
   "cell_type": "markdown",
   "metadata": {},
   "source": [
    "10%정도의 사람들만 ** 생명에서 신용 대출"
   ]
  },
  {
   "cell_type": "code",
   "execution_count": 53,
   "metadata": {},
   "outputs": [
    {
     "data": {
      "text/plain": [
       "array([    0.,   400.,  5000.,  2300.,   700.,   200.,   300.,  2000.,\n",
       "        1600.,  1500.,   800.,  1200.,  1000.,   500.,  2400.,  1700.,\n",
       "        1300.,  2200.,   900.,  3200.,   600.,  1400.,  1100., 10100.,\n",
       "        2500.,  3600.,  2600.,  7000.,   100.,  1800., 10000.,  4000.,\n",
       "        4500.,  2800.,  3700.,  6500.,  3000.,  1900.,  3100.,  3800.,\n",
       "        3300.,  3500.,  5500.,  6000.,  3400.,  2700.,  8000.,  2900.,\n",
       "        2100.,  3900.])"
      ]
     },
     "execution_count": 53,
     "metadata": {},
     "output_type": "execute_result"
    }
   ],
   "source": [
    "(df_ins['TOT_CRLN_AMT']/10000).unique()  # 단위:만원"
   ]
  },
  {
   "cell_type": "code",
   "execution_count": 54,
   "metadata": {},
   "outputs": [
    {
     "data": {
      "text/plain": [
       "0            90402\n",
       "5000000       2047\n",
       "4000000        861\n",
       "10000000       841\n",
       "3000000        712\n",
       "15000000       495\n",
       "20000000       470\n",
       "7000000        433\n",
       "8000000        408\n",
       "9000000        375\n",
       "2000000        326\n",
       "12000000       318\n",
       "6000000        272\n",
       "11000000       182\n",
       "13000000       178\n",
       "14000000       166\n",
       "30000000       138\n",
       "25000000       122\n",
       "17000000       110\n",
       "19000000       107\n",
       "16000000       105\n",
       "18000000       101\n",
       "50000000        75\n",
       "45000000        70\n",
       "27000000        70\n",
       "22000000        70\n",
       "40000000        66\n",
       "23000000        62\n",
       "24000000        61\n",
       "35000000        56\n",
       "21000000        46\n",
       "32000000        41\n",
       "26000000        39\n",
       "29000000        38\n",
       "28000000        34\n",
       "1000000         34\n",
       "55000000        33\n",
       "101000000       31\n",
       "31000000        30\n",
       "37000000        27\n",
       "60000000        25\n",
       "34000000        22\n",
       "100000000       21\n",
       "33000000        19\n",
       "65000000        19\n",
       "70000000        18\n",
       "80000000        18\n",
       "38000000        17\n",
       "36000000        11\n",
       "39000000        11\n",
       "Name: TOT_CRLN_AMT, dtype: int64"
      ]
     },
     "execution_count": 54,
     "metadata": {},
     "output_type": "execute_result"
    }
   ],
   "source": [
    "df_ins['TOT_CRLN_AMT'].value_counts()"
   ]
  },
  {
   "cell_type": "code",
   "execution_count": 168,
   "metadata": {},
   "outputs": [],
   "source": [
    "df_ins['TOT_CRLN_AMT']=df_ins['TOT_CRLN_AMT']/10000"
   ]
  },
  {
   "cell_type": "code",
   "execution_count": 47,
   "metadata": {},
   "outputs": [
    {
     "data": {
      "text/plain": [
       "<matplotlib.axes._subplots.AxesSubplot at 0x2903cfb35b0>"
      ]
     },
     "execution_count": 47,
     "metadata": {},
     "output_type": "execute_result"
    },
    {
     "data": {
      "image/png": "[encoded data removed]",
      "text/plain": [
       "<Figure size 1080x576 with 1 Axes>"
      ]
     },
     "metadata": {
      "needs_background": "light"
     },
     "output_type": "display_data"
    }
   ],
   "source": [
    "df_ins.boxplot(column='TOT_CRLN_AMT')"
   ]
  },
  {
   "cell_type": "markdown",
   "metadata": {},
   "source": [
    "- 총 신용 대출 금액, 상환 금액을 활용해서 현재 총 빌려준 금액 도출 가능--> 파생 변수"
   ]
  },
  {
   "cell_type": "markdown",
   "metadata": {},
   "source": [
    "#### - **생명 신용 상환 금액\n"
   ]
  },
  {
   "cell_type": "code",
   "execution_count": 180,
   "metadata": {},
   "outputs": [
    {
     "data": {
      "text/plain": [
       "array([        0,   4000000,  50000000,  23000000,   2000000,  10000000,\n",
       "         7000000,   3000000,  15000000,  20000000,   8000000,   5000000,\n",
       "        24000000,  12000000,  22000000,  32000000,   6000000,  25000000,\n",
       "       101000000,   9000000,  17000000,  16000000,  14000000,   1000000,\n",
       "        13000000,  60000000,  40000000,  29000000,  19000000,  11000000,\n",
       "        55000000, 100000000,  30000000,  18000000,  45000000,  31000000,\n",
       "        26000000,  37000000,  35000000,  27000000,  34000000,  28000000,\n",
       "        65000000,  80000000,  33000000,  38000000,  39000000,  21000000,\n",
       "        70000000,  36000000], dtype=int64)"
      ]
     },
     "execution_count": 180,
     "metadata": {},
     "output_type": "execute_result"
    }
   ],
   "source": [
    "df_ins['TOT_REPY_AMT'].unique()"
   ]
  },
  {
   "cell_type": "code",
   "execution_count": 48,
   "metadata": {},
   "outputs": [],
   "source": [
    "df_ins['TOT_REPY_AMT']=df_ins['TOT_REPY_AMT']/10000"
   ]
  },
  {
   "cell_type": "code",
   "execution_count": 49,
   "metadata": {},
   "outputs": [
    {
     "data": {
      "text/plain": [
       "array([    0.,   400.,  5000.,  2300.,   200.,  1000.,   700.,   300.,\n",
       "        1500.,  2000.,   800.,   500.,  2400.,  1200.,  2200.,  3200.,\n",
       "         600.,  2500., 10100.,   900.,  1700.,  1600.,  1400.,   100.,\n",
       "        1300.,  6000.,  4000.,  2900.,  1900.,  1100.,  5500., 10000.,\n",
       "        3000.,  1800.,  4500.,  3100.,  2600.,  3700.,  3500.,  2700.,\n",
       "        3400.,  2800.,  6500.,  8000.,  3300.,  3800.,  3900.,  2100.,\n",
       "        7000.,  3600.])"
      ]
     },
     "execution_count": 49,
     "metadata": {},
     "output_type": "execute_result"
    }
   ],
   "source": [
    "df_ins['TOT_REPY_AMT'].unique()      #단위: 만원 "
   ]
  },
  {
   "cell_type": "code",
   "execution_count": 50,
   "metadata": {},
   "outputs": [
    {
     "data": {
      "text/plain": [
       "91808"
      ]
     },
     "execution_count": 50,
     "metadata": {},
     "output_type": "execute_result"
    }
   ],
   "source": [
    "df_ins[df_ins['TOT_REPY_AMT']==0]['TOT_REPY_AMT'].count()"
   ]
  },
  {
   "cell_type": "code",
   "execution_count": 51,
   "metadata": {},
   "outputs": [
    {
     "data": {
      "text/plain": [
       "100233"
      ]
     },
     "execution_count": 51,
     "metadata": {},
     "output_type": "execute_result"
    }
   ],
   "source": [
    "df_ins['TOT_REPY_AMT'].count()"
   ]
  },
  {
   "cell_type": "code",
   "execution_count": 52,
   "metadata": {},
   "outputs": [
    {
     "data": {
      "text/plain": [
       "<matplotlib.axes._subplots.AxesSubplot at 0x2903d0b3130>"
      ]
     },
     "execution_count": 52,
     "metadata": {},
     "output_type": "execute_result"
    },
    {
     "data": {
      "image/png": "[encoded data removed]",
      "text/plain": [
       "<Figure size 1080x576 with 1 Axes>"
      ]
     },
     "metadata": {
      "needs_background": "light"
     },
     "output_type": "display_data"
    }
   ],
   "source": [
    "df_ins.boxplot(column='TOT_REPY_AMT')"
   ]
  },
  {
   "cell_type": "markdown",
   "metadata": {},
   "source": [
    "#### 신용 대출 연체율"
   ]
  },
  {
   "cell_type": "code",
   "execution_count": 186,
   "metadata": {},
   "outputs": [
    {
     "data": {
      "text/plain": [
       "array([  0,  81,  42,  78,  63,  47,   4,  92,  87,   9,  25,  69,  32,\n",
       "        43,  50,  29,   6,  34,   5,  74,  85,  23,  36,  17,  24,   1,\n",
       "         2,  55,  80,  40,  82,  19,  67,   3,  26,  37,  54,  22,  95,\n",
       "        48,  20,  88,   8,  91,  52,   7,  57,  10,  44,  90,  86,  18,\n",
       "        64,  38,  75,  99,  68,  31,  27,  84,  12,  49,  33,  79,  51,\n",
       "        14,  58,  39,  53,  72,  71,  16,  45,  77,  30,  70,  66,  15,\n",
       "        21,  56,  60,  73,  11,  28,  46,  13,  35,  62,  65,  89,  96,\n",
       "       100,  93,  76,  41,  83,  61,  59,  94], dtype=int64)"
      ]
     },
     "execution_count": 186,
     "metadata": {},
     "output_type": "execute_result"
    }
   ],
   "source": [
    "df_ins['CRLN_OVDU_RATE'].unique()"
   ]
  },
  {
   "cell_type": "code",
   "execution_count": 192,
   "metadata": {},
   "outputs": [
    {
     "data": {
      "text/plain": [
       "<matplotlib.axes._subplots.AxesSubplot at 0x217a5d984f0>"
      ]
     },
     "execution_count": 192,
     "metadata": {},
     "output_type": "execute_result"
    },
    {
     "data": {
      "image/png": "[encoded data removed]",
      "text/plain": [
       "<Figure size 432x288 with 1 Axes>"
      ]
     },
     "metadata": {
      "needs_background": "light"
     },
     "output_type": "display_data"
    }
   ],
   "source": [
    "df_ins.boxplot(column='CRLN_OVDU_RATE')"
   ]
  },
  {
   "cell_type": "code",
   "execution_count": 56,
   "metadata": {},
   "outputs": [
    {
     "data": {
      "text/plain": [
       "94387"
      ]
     },
     "execution_count": 56,
     "metadata": {},
     "output_type": "execute_result"
    }
   ],
   "source": [
    "df_ins[df_ins['CRLN_OVDU_RATE']==0]['CRLN_OVDU_RATE'].count()"
   ]
  },
  {
   "cell_type": "code",
   "execution_count": 58,
   "metadata": {},
   "outputs": [
    {
     "data": {
      "text/plain": [
       "<matplotlib.axes._subplots.AxesSubplot at 0x290402d1490>"
      ]
     },
     "execution_count": 58,
     "metadata": {},
     "output_type": "execute_result"
    },
    {
     "data": {
      "image/png": "[encoded data removed]",
      "text/plain": [
       "<Figure size 1080x576 with 1 Axes>"
      ]
     },
     "metadata": {
      "needs_background": "light"
     },
     "output_type": "display_data"
    }
   ],
   "source": [
    "plt.ticklabel_format(style='plain')\n",
    "sns.violinplot(df_ins['CRLN_OVDU_RATE'])"
   ]
  },
  {
   "cell_type": "markdown",
   "metadata": {},
   "source": [
    "#### - 30일 이내 신용 대출 연체율\n"
   ]
  },
  {
   "cell_type": "code",
   "execution_count": 197,
   "metadata": {},
   "outputs": [
    {
     "data": {
      "text/plain": [
       "array([  0,  14,  24,  48,  54,   2,  42,   7,  28,  64,   5,  36,  51,\n",
       "        57,  20,   6,  10,  12,   3,   4,   1,   9,  22,  30,  26,  45,\n",
       "        60, 100,   8,  18,  39,  16,  33,  76,  69], dtype=int64)"
      ]
     },
     "execution_count": 197,
     "metadata": {},
     "output_type": "execute_result"
    }
   ],
   "source": [
    "#df_ins['CRLN_30OVDU_RATE'].unique()"
   ]
  },
  {
   "cell_type": "code",
   "execution_count": 55,
   "metadata": {},
   "outputs": [
    {
     "data": {
      "text/plain": [
       "<matplotlib.axes._subplots.AxesSubplot at 0x2903faba580>"
      ]
     },
     "execution_count": 55,
     "metadata": {},
     "output_type": "execute_result"
    },
    {
     "data": {
      "image/png": "[encoded data removed]",
      "text/plain": [
       "<Figure size 1080x576 with 1 Axes>"
      ]
     },
     "metadata": {
      "needs_background": "light"
     },
     "output_type": "display_data"
    }
   ],
   "source": [
    "df_ins.boxplot(column='CRLN_30OVDU_RATE')"
   ]
  },
  {
   "cell_type": "code",
   "execution_count": 57,
   "metadata": {},
   "outputs": [
    {
     "data": {
      "text/plain": [
       "<matplotlib.axes._subplots.AxesSubplot at 0x2903fb053d0>"
      ]
     },
     "execution_count": 57,
     "metadata": {},
     "output_type": "execute_result"
    },
    {
     "data": {
      "image/png": "[encoded data removed]",
      "text/plain": [
       "<Figure size 1080x576 with 1 Axes>"
      ]
     },
     "metadata": {
      "needs_background": "light"
     },
     "output_type": "display_data"
    }
   ],
   "source": [
    "plt.ticklabel_format(style='plain')\n",
    "sns.violinplot(df_ins['CRLN_30OVDU_RATE'])"
   ]
  },
  {
   "cell_type": "markdown",
   "metadata": {},
   "source": [
    "#### - 최근 1년 신용 대출 연체율 \n"
   ]
  },
  {
   "cell_type": "code",
   "execution_count": 202,
   "metadata": {},
   "outputs": [
    {
     "data": {
      "text/plain": [
       "array([  0,  10,  40,  20,  30,  60, 100,  70,  90,  50,  80], dtype=int64)"
      ]
     },
     "execution_count": 202,
     "metadata": {},
     "output_type": "execute_result"
    }
   ],
   "source": [
    "df_ins['LT1Y_CLOD_RATE'].unique()"
   ]
  },
  {
   "cell_type": "code",
   "execution_count": 203,
   "metadata": {},
   "outputs": [
    {
     "data": {
      "text/plain": [
       "99633"
      ]
     },
     "execution_count": 203,
     "metadata": {},
     "output_type": "execute_result"
    }
   ],
   "source": [
    "df_ins[df_ins['LT1Y_CLOD_RATE']==0]['LT1Y_CLOD_RATE'].count()"
   ]
  },
  {
   "cell_type": "code",
   "execution_count": 72,
   "metadata": {},
   "outputs": [
    {
     "data": {
      "text/plain": [
       "<matplotlib.axes._subplots.AxesSubplot at 0x2903faf8f70>"
      ]
     },
     "execution_count": 72,
     "metadata": {},
     "output_type": "execute_result"
    },
    {
     "data": {
      "image/png": "[encoded data removed]",
      "text/plain": [
       "<Figure size 1080x576 with 1 Axes>"
      ]
     },
     "metadata": {
      "needs_background": "light"
     },
     "output_type": "display_data"
    }
   ],
   "source": [
    "df_ins.boxplot(column='LT1Y_CLOD_RATE')"
   ]
  },
  {
   "cell_type": "code",
   "execution_count": 73,
   "metadata": {},
   "outputs": [
    {
     "data": {
      "text/plain": [
       "<matplotlib.axes._subplots.AxesSubplot at 0x2903cb71130>"
      ]
     },
     "execution_count": 73,
     "metadata": {},
     "output_type": "execute_result"
    },
    {
     "data": {
      "image/png": "[encoded data removed]",
      "text/plain": [
       "<Figure size 1080x576 with 1 Axes>"
      ]
     },
     "metadata": {
      "needs_background": "light"
     },
     "output_type": "display_data"
    }
   ],
   "source": [
    "plt.ticklabel_format(style='plain')\n",
    "sns.violinplot(df_ins['LT1Y_CLOD_RATE'])"
   ]
  },
  {
   "cell_type": "markdown",
   "metadata": {},
   "source": [
    "#### - 최초 신용 등급"
   ]
  },
  {
   "cell_type": "markdown",
   "metadata": {},
   "source": [
    "**생명에서 실행된 가장 오래된 대출시점의 신용등급"
   ]
  },
  {
   "cell_type": "code",
   "execution_count": 206,
   "metadata": {},
   "outputs": [
    {
     "data": {
      "text/plain": [
       "array([0, 2, 4, 5, 7, 3, 6, 1], dtype=int64)"
      ]
     },
     "execution_count": 206,
     "metadata": {},
     "output_type": "execute_result"
    }
   ],
   "source": [
    "df_ins['STRT_CRDT_GRAD'].unique()"
   ]
  },
  {
   "cell_type": "code",
   "execution_count": 207,
   "metadata": {},
   "outputs": [
    {
     "data": {
      "text/plain": [
       "96403"
      ]
     },
     "execution_count": 207,
     "metadata": {},
     "output_type": "execute_result"
    }
   ],
   "source": [
    "df_ins[df_ins['STRT_CRDT_GRAD']==0]['STRT_CRDT_GRAD'].count()"
   ]
  },
  {
   "cell_type": "code",
   "execution_count": 213,
   "metadata": {},
   "outputs": [
    {
     "data": {
      "text/plain": [
       "<matplotlib.axes._subplots.AxesSubplot at 0x21798ab26a0>"
      ]
     },
     "execution_count": 213,
     "metadata": {},
     "output_type": "execute_result"
    },
    {
     "data": {
      "image/png": "[encoded data removed]",
      "text/plain": [
       "<Figure size 432x288 with 1 Axes>"
      ]
     },
     "metadata": {
      "needs_background": "light"
     },
     "output_type": "display_data"
    }
   ],
   "source": [
    "df_ins.boxplot(column='STRT_CRDT_GRAD')"
   ]
  },
  {
   "cell_type": "code",
   "execution_count": 215,
   "metadata": {},
   "outputs": [
    {
     "data": {
      "text/plain": [
       "<matplotlib.axes._subplots.AxesSubplot at 0x21798b00910>"
      ]
     },
     "execution_count": 215,
     "metadata": {},
     "output_type": "execute_result"
    },
    {
     "data": {
      "image/png": "[encoded data removed]",
      "text/plain": [
       "<Figure size 432x288 with 1 Axes>"
      ]
     },
     "metadata": {
      "needs_background": "light"
     },
     "output_type": "display_data"
    }
   ],
   "source": [
    "plt.ticklabel_format(style='plain')\n",
    "sns.violinplot(df_ins['STRT_CRDT_GRAD'])"
   ]
  },
  {
   "cell_type": "markdown",
   "metadata": {},
   "source": [
    "#### - 최근 신용 등급"
   ]
  },
  {
   "cell_type": "markdown",
   "metadata": {},
   "source": [
    "**생명에서 실행된 가장 최근 대출시점의 신용등급"
   ]
  },
  {
   "cell_type": "code",
   "execution_count": 211,
   "metadata": {},
   "outputs": [
    {
     "data": {
      "text/plain": [
       "array([ 0,  4,  5,  6,  7,  9,  8,  2,  3, 10,  1], dtype=int64)"
      ]
     },
     "execution_count": 211,
     "metadata": {},
     "output_type": "execute_result"
    }
   ],
   "source": [
    "df_ins['LTST_CRDT_GRAD'].unique()"
   ]
  },
  {
   "cell_type": "code",
   "execution_count": 62,
   "metadata": {},
   "outputs": [
    {
     "data": {
      "text/plain": [
       "<matplotlib.axes._subplots.AxesSubplot at 0x217904ddb20>"
      ]
     },
     "execution_count": 62,
     "metadata": {},
     "output_type": "execute_result"
    },
    {
     "data": {
      "image/png": "[encoded data removed]",
      "text/plain": [
       "<Figure size 432x288 with 1 Axes>"
      ]
     },
     "metadata": {
      "needs_background": "light"
     },
     "output_type": "display_data"
    }
   ],
   "source": [
    "df_ins.boxplot(column='LTST_CRDT_GRAD')"
   ]
  },
  {
   "cell_type": "code",
   "execution_count": 212,
   "metadata": {},
   "outputs": [
    {
     "data": {
      "text/plain": [
       "<matplotlib.axes._subplots.AxesSubplot at 0x21798a17b20>"
      ]
     },
     "execution_count": 212,
     "metadata": {},
     "output_type": "execute_result"
    },
    {
     "data": {
      "image/png": "[encoded data removed]",
      "text/plain": [
       "<Figure size 432x288 with 1 Axes>"
      ]
     },
     "metadata": {
      "needs_background": "light"
     },
     "output_type": "display_data"
    }
   ],
   "source": [
    "plt.ticklabel_format(style='plain')\n",
    "sns.violinplot(df_ins['LTST_CRDT_GRAD'])"
   ]
  },
  {
   "cell_type": "code",
   "execution_count": null,
   "metadata": {},
   "outputs": [],
   "source": []
  },
  {
   "cell_type": "code",
   "execution_count": null,
   "metadata": {},
   "outputs": [],
   "source": []
  }
 ],
 "metadata": {
  "kernelspec": {
   "display_name": "Python 3",
   "language": "python",
   "name": "python3"
  },
  "language_info": {
   "codemirror_mode": {
    "name": "ipython",
    "version": 3
   },
   "file_extension": ".py",
   "mimetype": "text/x-python",
   "name": "python",
   "nbconvert_exporter": "python",
   "pygments_lexer": "ipython3",
   "version": "3.8.3"
  }
 },
 "nbformat": 4,
 "nbformat_minor": 4
}
