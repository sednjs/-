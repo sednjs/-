{
 "cells": [
  {
   "cell_type": "code",
   "execution_count": 1,
   "metadata": {},
   "outputs": [],
   "source": [
    "#데이터 처리\n",
    "import pandas as pd\n",
    "\n",
    "#행렬 연산\n",
    "import numpy as np\n",
    "\n",
    "#데이터 시각화\n",
    "import matplotlib\n",
    "import matplotlib.pyplot as plt\n",
    "import seaborn as sns"
   ]
  },
  {
   "cell_type": "code",
   "execution_count": 2,
   "metadata": {},
   "outputs": [],
   "source": [
    "import datetime"
   ]
  },
  {
   "cell_type": "code",
   "execution_count": 3,
   "metadata": {},
   "outputs": [],
   "source": [
    "df_loan=pd.read_csv(\"~/Desktop/POSCO/bigdata_project/01_Data_set_대출.csv\")\n",
    "df_ins=pd.read_csv(\"~/Desktop/POSCO/bigdata_project/02_Data_set_보험.csv\",encoding = 'euc-kr')"
   ]
  },
  {
   "cell_type": "code",
   "execution_count": 4,
   "metadata": {},
   "outputs": [
    {
     "data": {
      "text/html": [
       "<div>\n",
       "<style scoped>\n",
       "    .dataframe tbody tr th:only-of-type {\n",
       "        vertical-align: middle;\n",
       "    }\n",
       "\n",
       "    .dataframe tbody tr th {\n",
       "        vertical-align: top;\n",
       "    }\n",
       "\n",
       "    .dataframe thead th {\n",
       "        text-align: right;\n",
       "    }\n",
       "</style>\n",
       "<table border=\"1\" class=\"dataframe\">\n",
       "  <thead>\n",
       "    <tr style=\"text-align: right;\">\n",
       "      <th></th>\n",
       "      <th>CUST_ID</th>\n",
       "      <th>OCCP_NAME_G</th>\n",
       "      <th>CUST_JOB_INCM</th>\n",
       "      <th>HSHD_INFR_INCM</th>\n",
       "      <th>ACTL_FMLY_NUM</th>\n",
       "      <th>CUST_FMLY_NUM</th>\n",
       "      <th>LAST_CHLD_AGE</th>\n",
       "      <th>MATE_OCCP_NAME_G</th>\n",
       "      <th>MATE_JOB_INCM</th>\n",
       "      <th>CRDT_LOAN_CNT</th>\n",
       "      <th>...</th>\n",
       "      <th>TOT_PREM</th>\n",
       "      <th>FMLY_TOT_PREM</th>\n",
       "      <th>CNTT_LAMT_CNT</th>\n",
       "      <th>LT1Y_CTLT_CNT</th>\n",
       "      <th>AUTR_FAIL_MCNT</th>\n",
       "      <th>FYCM_PAID_AMT</th>\n",
       "      <th>FMLY_CLAM_CNT</th>\n",
       "      <th>FMLY_PLPY_CNT</th>\n",
       "      <th>AGE</th>\n",
       "      <th>SEX</th>\n",
       "    </tr>\n",
       "  </thead>\n",
       "  <tbody>\n",
       "    <tr>\n",
       "      <th>0</th>\n",
       "      <td>1</td>\n",
       "      <td>공무원</td>\n",
       "      <td>5400</td>\n",
       "      <td>7700</td>\n",
       "      <td>4</td>\n",
       "      <td>1</td>\n",
       "      <td>24.0</td>\n",
       "      <td>주부</td>\n",
       "      <td>0</td>\n",
       "      <td>0</td>\n",
       "      <td>...</td>\n",
       "      <td>20000000</td>\n",
       "      <td>20000000</td>\n",
       "      <td>0</td>\n",
       "      <td>0</td>\n",
       "      <td>10</td>\n",
       "      <td>0</td>\n",
       "      <td>0</td>\n",
       "      <td>0</td>\n",
       "      <td>50</td>\n",
       "      <td>1</td>\n",
       "    </tr>\n",
       "    <tr>\n",
       "      <th>1</th>\n",
       "      <td>2</td>\n",
       "      <td>자영업</td>\n",
       "      <td>5500</td>\n",
       "      <td>8100</td>\n",
       "      <td>4</td>\n",
       "      <td>2</td>\n",
       "      <td>29.0</td>\n",
       "      <td>주부</td>\n",
       "      <td>0</td>\n",
       "      <td>0</td>\n",
       "      <td>...</td>\n",
       "      <td>7000000</td>\n",
       "      <td>36000000</td>\n",
       "      <td>0</td>\n",
       "      <td>0</td>\n",
       "      <td>0</td>\n",
       "      <td>300000</td>\n",
       "      <td>2</td>\n",
       "      <td>5</td>\n",
       "      <td>50</td>\n",
       "      <td>1</td>\n",
       "    </tr>\n",
       "    <tr>\n",
       "      <th>2</th>\n",
       "      <td>3</td>\n",
       "      <td>주부</td>\n",
       "      <td>0</td>\n",
       "      <td>4900</td>\n",
       "      <td>4</td>\n",
       "      <td>1</td>\n",
       "      <td>34.0</td>\n",
       "      <td>2차산업 종사자</td>\n",
       "      <td>0</td>\n",
       "      <td>0</td>\n",
       "      <td>...</td>\n",
       "      <td>11000000</td>\n",
       "      <td>11000000</td>\n",
       "      <td>0</td>\n",
       "      <td>0</td>\n",
       "      <td>0</td>\n",
       "      <td>0</td>\n",
       "      <td>0</td>\n",
       "      <td>2</td>\n",
       "      <td>60</td>\n",
       "      <td>2</td>\n",
       "    </tr>\n",
       "    <tr>\n",
       "      <th>3</th>\n",
       "      <td>4</td>\n",
       "      <td>학생</td>\n",
       "      <td>0</td>\n",
       "      <td>10100</td>\n",
       "      <td>2</td>\n",
       "      <td>1</td>\n",
       "      <td>0.0</td>\n",
       "      <td>NaN</td>\n",
       "      <td>0</td>\n",
       "      <td>0</td>\n",
       "      <td>...</td>\n",
       "      <td>4000000</td>\n",
       "      <td>4000000</td>\n",
       "      <td>0</td>\n",
       "      <td>0</td>\n",
       "      <td>0</td>\n",
       "      <td>0</td>\n",
       "      <td>0</td>\n",
       "      <td>1</td>\n",
       "      <td>35</td>\n",
       "      <td>1</td>\n",
       "    </tr>\n",
       "    <tr>\n",
       "      <th>4</th>\n",
       "      <td>5</td>\n",
       "      <td>공무원</td>\n",
       "      <td>4800</td>\n",
       "      <td>4800</td>\n",
       "      <td>4</td>\n",
       "      <td>1</td>\n",
       "      <td>14.0</td>\n",
       "      <td>주부</td>\n",
       "      <td>0</td>\n",
       "      <td>0</td>\n",
       "      <td>...</td>\n",
       "      <td>4000000</td>\n",
       "      <td>4000000</td>\n",
       "      <td>0</td>\n",
       "      <td>0</td>\n",
       "      <td>0</td>\n",
       "      <td>500000</td>\n",
       "      <td>2</td>\n",
       "      <td>1</td>\n",
       "      <td>45</td>\n",
       "      <td>1</td>\n",
       "    </tr>\n",
       "    <tr>\n",
       "      <th>...</th>\n",
       "      <td>...</td>\n",
       "      <td>...</td>\n",
       "      <td>...</td>\n",
       "      <td>...</td>\n",
       "      <td>...</td>\n",
       "      <td>...</td>\n",
       "      <td>...</td>\n",
       "      <td>...</td>\n",
       "      <td>...</td>\n",
       "      <td>...</td>\n",
       "      <td>...</td>\n",
       "      <td>...</td>\n",
       "      <td>...</td>\n",
       "      <td>...</td>\n",
       "      <td>...</td>\n",
       "      <td>...</td>\n",
       "      <td>...</td>\n",
       "      <td>...</td>\n",
       "      <td>...</td>\n",
       "      <td>...</td>\n",
       "      <td>...</td>\n",
       "    </tr>\n",
       "    <tr>\n",
       "      <th>100228</th>\n",
       "      <td>102248</td>\n",
       "      <td>자영업</td>\n",
       "      <td>5500</td>\n",
       "      <td>12900</td>\n",
       "      <td>3</td>\n",
       "      <td>3</td>\n",
       "      <td>34.0</td>\n",
       "      <td>자영업</td>\n",
       "      <td>0</td>\n",
       "      <td>0</td>\n",
       "      <td>...</td>\n",
       "      <td>58000000</td>\n",
       "      <td>70000000</td>\n",
       "      <td>0</td>\n",
       "      <td>0</td>\n",
       "      <td>1</td>\n",
       "      <td>700000</td>\n",
       "      <td>0</td>\n",
       "      <td>3</td>\n",
       "      <td>55</td>\n",
       "      <td>2</td>\n",
       "    </tr>\n",
       "    <tr>\n",
       "      <th>100229</th>\n",
       "      <td>102249</td>\n",
       "      <td>운전직</td>\n",
       "      <td>4600</td>\n",
       "      <td>9800</td>\n",
       "      <td>5</td>\n",
       "      <td>2</td>\n",
       "      <td>19.0</td>\n",
       "      <td>1차산업 종사자</td>\n",
       "      <td>5200</td>\n",
       "      <td>0</td>\n",
       "      <td>...</td>\n",
       "      <td>37000000</td>\n",
       "      <td>45000000</td>\n",
       "      <td>0</td>\n",
       "      <td>0</td>\n",
       "      <td>0</td>\n",
       "      <td>100000</td>\n",
       "      <td>0</td>\n",
       "      <td>3</td>\n",
       "      <td>45</td>\n",
       "      <td>2</td>\n",
       "    </tr>\n",
       "    <tr>\n",
       "      <th>100230</th>\n",
       "      <td>102250</td>\n",
       "      <td>자영업</td>\n",
       "      <td>4800</td>\n",
       "      <td>10400</td>\n",
       "      <td>4</td>\n",
       "      <td>2</td>\n",
       "      <td>14.0</td>\n",
       "      <td>운전직</td>\n",
       "      <td>5600</td>\n",
       "      <td>0</td>\n",
       "      <td>...</td>\n",
       "      <td>45000000</td>\n",
       "      <td>54000000</td>\n",
       "      <td>0</td>\n",
       "      <td>0</td>\n",
       "      <td>1</td>\n",
       "      <td>0</td>\n",
       "      <td>0</td>\n",
       "      <td>4</td>\n",
       "      <td>45</td>\n",
       "      <td>1</td>\n",
       "    </tr>\n",
       "    <tr>\n",
       "      <th>100231</th>\n",
       "      <td>102251</td>\n",
       "      <td>사무직</td>\n",
       "      <td>4200</td>\n",
       "      <td>4200</td>\n",
       "      <td>1</td>\n",
       "      <td>1</td>\n",
       "      <td>0.0</td>\n",
       "      <td>NaN</td>\n",
       "      <td>0</td>\n",
       "      <td>0</td>\n",
       "      <td>...</td>\n",
       "      <td>1000000</td>\n",
       "      <td>1000000</td>\n",
       "      <td>0</td>\n",
       "      <td>0</td>\n",
       "      <td>0</td>\n",
       "      <td>0</td>\n",
       "      <td>0</td>\n",
       "      <td>0</td>\n",
       "      <td>45</td>\n",
       "      <td>1</td>\n",
       "    </tr>\n",
       "    <tr>\n",
       "      <th>100232</th>\n",
       "      <td>102252</td>\n",
       "      <td>사무직</td>\n",
       "      <td>6000</td>\n",
       "      <td>9900</td>\n",
       "      <td>4</td>\n",
       "      <td>2</td>\n",
       "      <td>24.0</td>\n",
       "      <td>사무직</td>\n",
       "      <td>4000</td>\n",
       "      <td>0</td>\n",
       "      <td>...</td>\n",
       "      <td>22000000</td>\n",
       "      <td>29000000</td>\n",
       "      <td>0</td>\n",
       "      <td>0</td>\n",
       "      <td>0</td>\n",
       "      <td>2900000</td>\n",
       "      <td>0</td>\n",
       "      <td>2</td>\n",
       "      <td>55</td>\n",
       "      <td>2</td>\n",
       "    </tr>\n",
       "  </tbody>\n",
       "</table>\n",
       "<p>100233 rows × 39 columns</p>\n",
       "</div>"
      ],
      "text/plain": [
       "        CUST_ID OCCP_NAME_G  CUST_JOB_INCM  HSHD_INFR_INCM  ACTL_FMLY_NUM  \\\n",
       "0             1         공무원           5400            7700              4   \n",
       "1             2         자영업           5500            8100              4   \n",
       "2             3          주부              0            4900              4   \n",
       "3             4          학생              0           10100              2   \n",
       "4             5         공무원           4800            4800              4   \n",
       "...         ...         ...            ...             ...            ...   \n",
       "100228   102248         자영업           5500           12900              3   \n",
       "100229   102249         운전직           4600            9800              5   \n",
       "100230   102250         자영업           4800           10400              4   \n",
       "100231   102251         사무직           4200            4200              1   \n",
       "100232   102252         사무직           6000            9900              4   \n",
       "\n",
       "        CUST_FMLY_NUM  LAST_CHLD_AGE MATE_OCCP_NAME_G  MATE_JOB_INCM  \\\n",
       "0                   1           24.0               주부              0   \n",
       "1                   2           29.0               주부              0   \n",
       "2                   1           34.0         2차산업 종사자              0   \n",
       "3                   1            0.0              NaN              0   \n",
       "4                   1           14.0               주부              0   \n",
       "...               ...            ...              ...            ...   \n",
       "100228              3           34.0              자영업              0   \n",
       "100229              2           19.0         1차산업 종사자           5200   \n",
       "100230              2           14.0              운전직           5600   \n",
       "100231              1            0.0              NaN              0   \n",
       "100232              2           24.0              사무직           4000   \n",
       "\n",
       "        CRDT_LOAN_CNT  ...  TOT_PREM  FMLY_TOT_PREM  CNTT_LAMT_CNT  \\\n",
       "0                   0  ...  20000000       20000000              0   \n",
       "1                   0  ...   7000000       36000000              0   \n",
       "2                   0  ...  11000000       11000000              0   \n",
       "3                   0  ...   4000000        4000000              0   \n",
       "4                   0  ...   4000000        4000000              0   \n",
       "...               ...  ...       ...            ...            ...   \n",
       "100228              0  ...  58000000       70000000              0   \n",
       "100229              0  ...  37000000       45000000              0   \n",
       "100230              0  ...  45000000       54000000              0   \n",
       "100231              0  ...   1000000        1000000              0   \n",
       "100232              0  ...  22000000       29000000              0   \n",
       "\n",
       "        LT1Y_CTLT_CNT  AUTR_FAIL_MCNT  FYCM_PAID_AMT  FMLY_CLAM_CNT  \\\n",
       "0                   0              10              0              0   \n",
       "1                   0               0         300000              2   \n",
       "2                   0               0              0              0   \n",
       "3                   0               0              0              0   \n",
       "4                   0               0         500000              2   \n",
       "...               ...             ...            ...            ...   \n",
       "100228              0               1         700000              0   \n",
       "100229              0               0         100000              0   \n",
       "100230              0               1              0              0   \n",
       "100231              0               0              0              0   \n",
       "100232              0               0        2900000              0   \n",
       "\n",
       "        FMLY_PLPY_CNT  AGE SEX  \n",
       "0                   0   50   1  \n",
       "1                   5   50   1  \n",
       "2                   2   60   2  \n",
       "3                   1   35   1  \n",
       "4                   1   45   1  \n",
       "...               ...  ...  ..  \n",
       "100228              3   55   2  \n",
       "100229              3   45   2  \n",
       "100230              4   45   1  \n",
       "100231              0   45   1  \n",
       "100232              2   55   2  \n",
       "\n",
       "[100233 rows x 39 columns]"
      ]
     },
     "execution_count": 4,
     "metadata": {},
     "output_type": "execute_result"
    }
   ],
   "source": [
    "df_ins"
   ]
  },
  {
   "cell_type": "code",
   "execution_count": 5,
   "metadata": {},
   "outputs": [
    {
     "name": "stdout",
     "output_type": "stream",
     "text": [
      "<class 'pandas.core.frame.DataFrame'>\n",
      "RangeIndex: 100233 entries, 0 to 100232\n",
      "Data columns (total 39 columns):\n",
      " #   Column             Non-Null Count   Dtype  \n",
      "---  ------             --------------   -----  \n",
      " 0   CUST_ID            100233 non-null  int64  \n",
      " 1   OCCP_NAME_G        99769 non-null   object \n",
      " 2   CUST_JOB_INCM      100233 non-null  int64  \n",
      " 3   HSHD_INFR_INCM     100233 non-null  int64  \n",
      " 4   ACTL_FMLY_NUM      100233 non-null  int64  \n",
      " 5   CUST_FMLY_NUM      100233 non-null  int64  \n",
      " 6   LAST_CHLD_AGE      99206 non-null   float64\n",
      " 7   MATE_OCCP_NAME_G   54524 non-null   object \n",
      " 8   MATE_JOB_INCM      100233 non-null  int64  \n",
      " 9   CRDT_LOAN_CNT      100233 non-null  int64  \n",
      " 10  MIN_CNTT_DATE      100233 non-null  int64  \n",
      " 11  TOT_CRLN_AMT       100233 non-null  int64  \n",
      " 12  TOT_REPY_AMT       100233 non-null  int64  \n",
      " 13  CRLN_OVDU_RATE     100233 non-null  int64  \n",
      " 14  CRLN_30OVDU_RATE   100233 non-null  int64  \n",
      " 15  LT1Y_CLOD_RATE     100233 non-null  int64  \n",
      " 16  STRT_CRDT_GRAD     100233 non-null  int64  \n",
      " 17  LTST_CRDT_GRAD     100233 non-null  int64  \n",
      " 18  PREM_OVDU_RATE     100233 non-null  int64  \n",
      " 19  LT1Y_PEOD_RATE     100233 non-null  object \n",
      " 20  AVG_STLN_RATE      100233 non-null  int64  \n",
      " 21  STLN_REMN_AMT      100233 non-null  int64  \n",
      " 22  LT1Y_STLN_AMT      100233 non-null  int64  \n",
      " 23  LT1Y_SLOD_RATE     100233 non-null  int64  \n",
      " 24  GDINS_MON_PREM     100233 non-null  int64  \n",
      " 25  SVINS_MON_PREM     100233 non-null  int64  \n",
      " 26  FMLY_GDINS_MNPREM  100233 non-null  int64  \n",
      " 27  FMLY_SVINS_MNPREM  100233 non-null  int64  \n",
      " 28  MAX_MON_PREM       100233 non-null  int64  \n",
      " 29  TOT_PREM           100233 non-null  int64  \n",
      " 30  FMLY_TOT_PREM      100233 non-null  int64  \n",
      " 31  CNTT_LAMT_CNT      100233 non-null  int64  \n",
      " 32  LT1Y_CTLT_CNT      100233 non-null  int64  \n",
      " 33  AUTR_FAIL_MCNT     100233 non-null  int64  \n",
      " 34  FYCM_PAID_AMT      100233 non-null  int64  \n",
      " 35  FMLY_CLAM_CNT      100233 non-null  int64  \n",
      " 36  FMLY_PLPY_CNT      100233 non-null  int64  \n",
      " 37  AGE                100233 non-null  object \n",
      " 38  SEX                100233 non-null  object \n",
      "dtypes: float64(1), int64(33), object(5)\n",
      "memory usage: 29.8+ MB\n"
     ]
    }
   ],
   "source": [
    "df_ins.info()"
   ]
  },
  {
   "cell_type": "code",
   "execution_count": 6,
   "metadata": {
    "scrolled": true
   },
   "outputs": [
    {
     "data": {
      "text/html": [
       "<div>\n",
       "<style scoped>\n",
       "    .dataframe tbody tr th:only-of-type {\n",
       "        vertical-align: middle;\n",
       "    }\n",
       "\n",
       "    .dataframe tbody tr th {\n",
       "        vertical-align: top;\n",
       "    }\n",
       "\n",
       "    .dataframe thead th {\n",
       "        text-align: right;\n",
       "    }\n",
       "</style>\n",
       "<table border=\"1\" class=\"dataframe\">\n",
       "  <thead>\n",
       "    <tr style=\"text-align: right;\">\n",
       "      <th></th>\n",
       "      <th>CUST_ID</th>\n",
       "      <th>CUST_JOB_INCM</th>\n",
       "      <th>HSHD_INFR_INCM</th>\n",
       "      <th>ACTL_FMLY_NUM</th>\n",
       "      <th>CUST_FMLY_NUM</th>\n",
       "      <th>LAST_CHLD_AGE</th>\n",
       "      <th>MATE_JOB_INCM</th>\n",
       "      <th>CRDT_LOAN_CNT</th>\n",
       "      <th>MIN_CNTT_DATE</th>\n",
       "      <th>TOT_CRLN_AMT</th>\n",
       "      <th>...</th>\n",
       "      <th>FMLY_SVINS_MNPREM</th>\n",
       "      <th>MAX_MON_PREM</th>\n",
       "      <th>TOT_PREM</th>\n",
       "      <th>FMLY_TOT_PREM</th>\n",
       "      <th>CNTT_LAMT_CNT</th>\n",
       "      <th>LT1Y_CTLT_CNT</th>\n",
       "      <th>AUTR_FAIL_MCNT</th>\n",
       "      <th>FYCM_PAID_AMT</th>\n",
       "      <th>FMLY_CLAM_CNT</th>\n",
       "      <th>FMLY_PLPY_CNT</th>\n",
       "    </tr>\n",
       "  </thead>\n",
       "  <tbody>\n",
       "    <tr>\n",
       "      <th>count</th>\n",
       "      <td>100233.000000</td>\n",
       "      <td>100233.000000</td>\n",
       "      <td>100233.000000</td>\n",
       "      <td>100233.000000</td>\n",
       "      <td>100233.000000</td>\n",
       "      <td>99206.000000</td>\n",
       "      <td>100233.000000</td>\n",
       "      <td>100233.000000</td>\n",
       "      <td>100233.000000</td>\n",
       "      <td>1.002330e+05</td>\n",
       "      <td>...</td>\n",
       "      <td>1.002330e+05</td>\n",
       "      <td>1.002330e+05</td>\n",
       "      <td>1.002330e+05</td>\n",
       "      <td>1.002330e+05</td>\n",
       "      <td>100233.000000</td>\n",
       "      <td>100233.000000</td>\n",
       "      <td>100233.000000</td>\n",
       "      <td>1.002330e+05</td>\n",
       "      <td>100233.000000</td>\n",
       "      <td>100233.000000</td>\n",
       "    </tr>\n",
       "    <tr>\n",
       "      <th>mean</th>\n",
       "      <td>51124.199445</td>\n",
       "      <td>2788.233416</td>\n",
       "      <td>6922.486606</td>\n",
       "      <td>2.757794</td>\n",
       "      <td>1.392565</td>\n",
       "      <td>12.233958</td>\n",
       "      <td>1719.524508</td>\n",
       "      <td>0.162232</td>\n",
       "      <td>19743.957130</td>\n",
       "      <td>1.182315e+06</td>\n",
       "      <td>...</td>\n",
       "      <td>1.364362e+05</td>\n",
       "      <td>3.734214e+05</td>\n",
       "      <td>2.071504e+07</td>\n",
       "      <td>3.077308e+07</td>\n",
       "      <td>0.115351</td>\n",
       "      <td>0.022757</td>\n",
       "      <td>2.716082</td>\n",
       "      <td>4.039838e+06</td>\n",
       "      <td>4.218092</td>\n",
       "      <td>1.235092</td>\n",
       "    </tr>\n",
       "    <tr>\n",
       "      <th>std</th>\n",
       "      <td>29522.979407</td>\n",
       "      <td>2472.287102</td>\n",
       "      <td>2996.156129</td>\n",
       "      <td>1.316862</td>\n",
       "      <td>0.618116</td>\n",
       "      <td>13.964236</td>\n",
       "      <td>2460.475232</td>\n",
       "      <td>0.612144</td>\n",
       "      <td>59751.358139</td>\n",
       "      <td>5.318477e+06</td>\n",
       "      <td>...</td>\n",
       "      <td>4.993498e+05</td>\n",
       "      <td>7.019720e+05</td>\n",
       "      <td>4.482214e+07</td>\n",
       "      <td>6.431527e+07</td>\n",
       "      <td>0.454317</td>\n",
       "      <td>0.202228</td>\n",
       "      <td>6.945916</td>\n",
       "      <td>1.456263e+07</td>\n",
       "      <td>9.199485</td>\n",
       "      <td>1.642505</td>\n",
       "    </tr>\n",
       "    <tr>\n",
       "      <th>min</th>\n",
       "      <td>1.000000</td>\n",
       "      <td>0.000000</td>\n",
       "      <td>0.000000</td>\n",
       "      <td>1.000000</td>\n",
       "      <td>1.000000</td>\n",
       "      <td>0.000000</td>\n",
       "      <td>0.000000</td>\n",
       "      <td>0.000000</td>\n",
       "      <td>0.000000</td>\n",
       "      <td>0.000000e+00</td>\n",
       "      <td>...</td>\n",
       "      <td>0.000000e+00</td>\n",
       "      <td>0.000000e+00</td>\n",
       "      <td>0.000000e+00</td>\n",
       "      <td>0.000000e+00</td>\n",
       "      <td>0.000000</td>\n",
       "      <td>0.000000</td>\n",
       "      <td>0.000000</td>\n",
       "      <td>0.000000e+00</td>\n",
       "      <td>0.000000</td>\n",
       "      <td>0.000000</td>\n",
       "    </tr>\n",
       "    <tr>\n",
       "      <th>25%</th>\n",
       "      <td>25557.000000</td>\n",
       "      <td>0.000000</td>\n",
       "      <td>4800.000000</td>\n",
       "      <td>2.000000</td>\n",
       "      <td>1.000000</td>\n",
       "      <td>0.000000</td>\n",
       "      <td>0.000000</td>\n",
       "      <td>0.000000</td>\n",
       "      <td>0.000000</td>\n",
       "      <td>0.000000e+00</td>\n",
       "      <td>...</td>\n",
       "      <td>0.000000e+00</td>\n",
       "      <td>7.000000e+04</td>\n",
       "      <td>5.000000e+06</td>\n",
       "      <td>6.000000e+06</td>\n",
       "      <td>0.000000</td>\n",
       "      <td>0.000000</td>\n",
       "      <td>0.000000</td>\n",
       "      <td>0.000000e+00</td>\n",
       "      <td>0.000000</td>\n",
       "      <td>0.000000</td>\n",
       "    </tr>\n",
       "    <tr>\n",
       "      <th>50%</th>\n",
       "      <td>51119.000000</td>\n",
       "      <td>3600.000000</td>\n",
       "      <td>6600.000000</td>\n",
       "      <td>3.000000</td>\n",
       "      <td>1.000000</td>\n",
       "      <td>0.000000</td>\n",
       "      <td>0.000000</td>\n",
       "      <td>0.000000</td>\n",
       "      <td>0.000000</td>\n",
       "      <td>0.000000e+00</td>\n",
       "      <td>...</td>\n",
       "      <td>0.000000e+00</td>\n",
       "      <td>1.900000e+05</td>\n",
       "      <td>1.100000e+07</td>\n",
       "      <td>1.500000e+07</td>\n",
       "      <td>0.000000</td>\n",
       "      <td>0.000000</td>\n",
       "      <td>0.000000</td>\n",
       "      <td>3.000000e+05</td>\n",
       "      <td>1.000000</td>\n",
       "      <td>1.000000</td>\n",
       "    </tr>\n",
       "    <tr>\n",
       "      <th>75%</th>\n",
       "      <td>76691.000000</td>\n",
       "      <td>4700.000000</td>\n",
       "      <td>9200.000000</td>\n",
       "      <td>4.000000</td>\n",
       "      <td>2.000000</td>\n",
       "      <td>24.000000</td>\n",
       "      <td>4400.000000</td>\n",
       "      <td>0.000000</td>\n",
       "      <td>0.000000</td>\n",
       "      <td>0.000000e+00</td>\n",
       "      <td>...</td>\n",
       "      <td>1.000000e+05</td>\n",
       "      <td>3.900000e+05</td>\n",
       "      <td>2.300000e+07</td>\n",
       "      <td>3.400000e+07</td>\n",
       "      <td>0.000000</td>\n",
       "      <td>0.000000</td>\n",
       "      <td>2.000000</td>\n",
       "      <td>1.900000e+06</td>\n",
       "      <td>5.000000</td>\n",
       "      <td>2.000000</td>\n",
       "    </tr>\n",
       "    <tr>\n",
       "      <th>max</th>\n",
       "      <td>102252.000000</td>\n",
       "      <td>10000.000000</td>\n",
       "      <td>20000.000000</td>\n",
       "      <td>8.000000</td>\n",
       "      <td>5.000000</td>\n",
       "      <td>60.000000</td>\n",
       "      <td>10000.000000</td>\n",
       "      <td>11.000000</td>\n",
       "      <td>201604.000000</td>\n",
       "      <td>1.010000e+08</td>\n",
       "      <td>...</td>\n",
       "      <td>1.000000e+07</td>\n",
       "      <td>1.000000e+07</td>\n",
       "      <td>1.000000e+09</td>\n",
       "      <td>1.000000e+09</td>\n",
       "      <td>7.000000</td>\n",
       "      <td>6.000000</td>\n",
       "      <td>61.000000</td>\n",
       "      <td>3.001000e+08</td>\n",
       "      <td>171.000000</td>\n",
       "      <td>22.000000</td>\n",
       "    </tr>\n",
       "  </tbody>\n",
       "</table>\n",
       "<p>8 rows × 34 columns</p>\n",
       "</div>"
      ],
      "text/plain": [
       "             CUST_ID  CUST_JOB_INCM  HSHD_INFR_INCM  ACTL_FMLY_NUM  \\\n",
       "count  100233.000000  100233.000000   100233.000000  100233.000000   \n",
       "mean    51124.199445    2788.233416     6922.486606       2.757794   \n",
       "std     29522.979407    2472.287102     2996.156129       1.316862   \n",
       "min         1.000000       0.000000        0.000000       1.000000   \n",
       "25%     25557.000000       0.000000     4800.000000       2.000000   \n",
       "50%     51119.000000    3600.000000     6600.000000       3.000000   \n",
       "75%     76691.000000    4700.000000     9200.000000       4.000000   \n",
       "max    102252.000000   10000.000000    20000.000000       8.000000   \n",
       "\n",
       "       CUST_FMLY_NUM  LAST_CHLD_AGE  MATE_JOB_INCM  CRDT_LOAN_CNT  \\\n",
       "count  100233.000000   99206.000000  100233.000000  100233.000000   \n",
       "mean        1.392565      12.233958    1719.524508       0.162232   \n",
       "std         0.618116      13.964236    2460.475232       0.612144   \n",
       "min         1.000000       0.000000       0.000000       0.000000   \n",
       "25%         1.000000       0.000000       0.000000       0.000000   \n",
       "50%         1.000000       0.000000       0.000000       0.000000   \n",
       "75%         2.000000      24.000000    4400.000000       0.000000   \n",
       "max         5.000000      60.000000   10000.000000      11.000000   \n",
       "\n",
       "       MIN_CNTT_DATE  TOT_CRLN_AMT  ...  FMLY_SVINS_MNPREM  MAX_MON_PREM  \\\n",
       "count  100233.000000  1.002330e+05  ...       1.002330e+05  1.002330e+05   \n",
       "mean    19743.957130  1.182315e+06  ...       1.364362e+05  3.734214e+05   \n",
       "std     59751.358139  5.318477e+06  ...       4.993498e+05  7.019720e+05   \n",
       "min         0.000000  0.000000e+00  ...       0.000000e+00  0.000000e+00   \n",
       "25%         0.000000  0.000000e+00  ...       0.000000e+00  7.000000e+04   \n",
       "50%         0.000000  0.000000e+00  ...       0.000000e+00  1.900000e+05   \n",
       "75%         0.000000  0.000000e+00  ...       1.000000e+05  3.900000e+05   \n",
       "max    201604.000000  1.010000e+08  ...       1.000000e+07  1.000000e+07   \n",
       "\n",
       "           TOT_PREM  FMLY_TOT_PREM  CNTT_LAMT_CNT  LT1Y_CTLT_CNT  \\\n",
       "count  1.002330e+05   1.002330e+05  100233.000000  100233.000000   \n",
       "mean   2.071504e+07   3.077308e+07       0.115351       0.022757   \n",
       "std    4.482214e+07   6.431527e+07       0.454317       0.202228   \n",
       "min    0.000000e+00   0.000000e+00       0.000000       0.000000   \n",
       "25%    5.000000e+06   6.000000e+06       0.000000       0.000000   \n",
       "50%    1.100000e+07   1.500000e+07       0.000000       0.000000   \n",
       "75%    2.300000e+07   3.400000e+07       0.000000       0.000000   \n",
       "max    1.000000e+09   1.000000e+09       7.000000       6.000000   \n",
       "\n",
       "       AUTR_FAIL_MCNT  FYCM_PAID_AMT  FMLY_CLAM_CNT  FMLY_PLPY_CNT  \n",
       "count   100233.000000   1.002330e+05  100233.000000  100233.000000  \n",
       "mean         2.716082   4.039838e+06       4.218092       1.235092  \n",
       "std          6.945916   1.456263e+07       9.199485       1.642505  \n",
       "min          0.000000   0.000000e+00       0.000000       0.000000  \n",
       "25%          0.000000   0.000000e+00       0.000000       0.000000  \n",
       "50%          0.000000   3.000000e+05       1.000000       1.000000  \n",
       "75%          2.000000   1.900000e+06       5.000000       2.000000  \n",
       "max         61.000000   3.001000e+08     171.000000      22.000000  \n",
       "\n",
       "[8 rows x 34 columns]"
      ]
     },
     "execution_count": 6,
     "metadata": {},
     "output_type": "execute_result"
    }
   ],
   "source": [
    "df_ins.describe()"
   ]
  },
  {
   "cell_type": "code",
   "execution_count": 15,
   "metadata": {},
   "outputs": [
    {
     "data": {
      "text/plain": [
       "2    15182\n",
       "1    12383\n",
       "Name: SEX, dtype: int64"
      ]
     },
     "execution_count": 15,
     "metadata": {},
     "output_type": "execute_result"
    }
   ],
   "source": [
    "df_ins[df_ins['OCCP_NAME_G']=='주부']['SEX'].value_counts()"
   ]
  },
  {
   "cell_type": "code",
   "execution_count": null,
   "metadata": {},
   "outputs": [],
   "source": [
    "df_ins.isnull().sum()"
   ]
  },
  {
   "cell_type": "markdown",
   "metadata": {},
   "source": [
    "#### 막내 자녀 나이 결측치 대체??"
   ]
  },
  {
   "cell_type": "code",
   "execution_count": 16,
   "metadata": {},
   "outputs": [],
   "source": [
    "f_mem=(df_ins[df_ins['LAST_CHLD_AGE']==0]['ACTL_FMLY_NUM'])>=3"
   ]
  },
  {
   "cell_type": "code",
   "execution_count": 18,
   "metadata": {},
   "outputs": [
    {
     "data": {
      "text/plain": [
       "0.0     50125\n",
       "24.0    10774\n",
       "19.0     9651\n",
       "29.0     7905\n",
       "14.0     5801\n",
       "34.0     5600\n",
       "39.0     4297\n",
       "9.0      2862\n",
       "44.0     1221\n",
       "4.0       544\n",
       "49.0      330\n",
       "54.0       46\n",
       "60.0       33\n",
       "59.0       17\n",
       "Name: LAST_CHLD_AGE, dtype: int64"
      ]
     },
     "execution_count": 18,
     "metadata": {},
     "output_type": "execute_result"
    }
   ],
   "source": [
    "df_ins['LAST_CHLD_AGE'].value_counts()"
   ]
  },
  {
   "cell_type": "code",
   "execution_count": null,
   "metadata": {},
   "outputs": [],
   "source": [
    "f_mem = f_mem.tolist()\n",
    "type(f_mem)"
   ]
  },
  {
   "cell_type": "code",
   "execution_count": null,
   "metadata": {},
   "outputs": [],
   "source": [
    "cnt = 0\n",
    "for f in f_mem:\n",
    "    if f == True:\n",
    "        cnt += 1\n",
    "print(cnt)"
   ]
  },
  {
   "cell_type": "code",
   "execution_count": null,
   "metadata": {},
   "outputs": [],
   "source": [
    "cnt = 0\n",
    "for f in f_mem:\n",
    "    if f == False:\n",
    "        cnt += 1\n",
    "print(cnt)"
   ]
  },
  {
   "cell_type": "markdown",
   "metadata": {},
   "source": [
    "#### - 직업('OCCP_NAME_G')"
   ]
  },
  {
   "cell_type": "code",
   "execution_count": null,
   "metadata": {},
   "outputs": [],
   "source": [
    "df_ins['OCCP_NAME_G'].unique()"
   ]
  },
  {
   "cell_type": "code",
   "execution_count": null,
   "metadata": {},
   "outputs": [],
   "source": [
    "df_ins['OCCP_NAME_G'].value_counts()"
   ]
  },
  {
   "cell_type": "markdown",
   "metadata": {},
   "source": [
    "- 주부가 가장 많음 \n",
    "- 직업('OCCP_NAME_G') - nan \n",
    "- '*' 값 처리 필요 "
   ]
  },
  {
   "cell_type": "code",
   "execution_count": 12,
   "metadata": {},
   "outputs": [
    {
     "data": {
      "text/plain": [
       "0         False\n",
       "1         False\n",
       "2          True\n",
       "3         False\n",
       "4         False\n",
       "          ...  \n",
       "100228    False\n",
       "100229    False\n",
       "100230    False\n",
       "100231    False\n",
       "100232    False\n",
       "Name: OCCP_NAME_G, Length: 100233, dtype: bool"
      ]
     },
     "execution_count": 12,
     "metadata": {},
     "output_type": "execute_result"
    }
   ],
   "source": [
    "df_ins['OCCP_NAME_G']=='주부'"
   ]
  },
  {
   "cell_type": "code",
   "execution_count": null,
   "metadata": {},
   "outputs": [],
   "source": []
  },
  {
   "cell_type": "markdown",
   "metadata": {},
   "source": [
    "#### - 추정 소득"
   ]
  },
  {
   "cell_type": "code",
   "execution_count": null,
   "metadata": {},
   "outputs": [],
   "source": [
    "df_ins['CUST_JOB_INCM'].unique()"
   ]
  },
  {
   "cell_type": "markdown",
   "metadata": {},
   "source": [
    "0 값 존재 - 소득이 없는 사람... --> 주부, 학생 추정 "
   ]
  },
  {
   "cell_type": "code",
   "execution_count": null,
   "metadata": {},
   "outputs": [],
   "source": [
    "df_ins.boxplot(column='CUST_JOB_INCM')"
   ]
  },
  {
   "cell_type": "code",
   "execution_count": null,
   "metadata": {},
   "outputs": [],
   "source": [
    "plt.ticklabel_format(style='plain')\n",
    "sns.violinplot(df_ins['CUST_JOB_INCM'])"
   ]
  },
  {
   "cell_type": "markdown",
   "metadata": {},
   "source": [
    "#### - 가구 추정 소득 \n"
   ]
  },
  {
   "cell_type": "code",
   "execution_count": null,
   "metadata": {},
   "outputs": [],
   "source": [
    "df_ins['HSHD_INFR_INCM'].unique()"
   ]
  },
  {
   "cell_type": "markdown",
   "metadata": {},
   "source": [
    "가구 추정 소득 0원 --> 보험료 못냄 or 미기입??"
   ]
  },
  {
   "cell_type": "code",
   "execution_count": null,
   "metadata": {},
   "outputs": [],
   "source": [
    "poor=(df_ins[df_ins['HSHD_INFR_INCM']==0]['MATE_JOB_INCM']==0).tolist()"
   ]
  },
  {
   "cell_type": "code",
   "execution_count": null,
   "metadata": {},
   "outputs": [],
   "source": [
    "cnt=0\n",
    "for i in poor:\n",
    "    if(poor==0):\n",
    "        cnt+=1\n",
    "cnt"
   ]
  },
  {
   "cell_type": "markdown",
   "metadata": {},
   "source": [
    "- 가구 추정 소득 0원인 사람 모두 배우자 추정 소득 0\n",
    "- 미기입일 확률이 높음 "
   ]
  },
  {
   "cell_type": "code",
   "execution_count": null,
   "metadata": {},
   "outputs": [],
   "source": [
    "df_ins.boxplot(column='HSHD_INFR_INCM')"
   ]
  },
  {
   "cell_type": "code",
   "execution_count": null,
   "metadata": {},
   "outputs": [],
   "source": []
  },
  {
   "cell_type": "markdown",
   "metadata": {},
   "source": [
    "#### - 실가족원수"
   ]
  },
  {
   "cell_type": "code",
   "execution_count": null,
   "metadata": {},
   "outputs": [],
   "source": [
    "df_ins['ACTL_FMLY_NUM'].unique()"
   ]
  },
  {
   "cell_type": "code",
   "execution_count": null,
   "metadata": {},
   "outputs": [],
   "source": [
    "df_ins.boxplot(column='ACTL_FMLY_NUM')"
   ]
  },
  {
   "cell_type": "markdown",
   "metadata": {},
   "source": [
    "#### - 보험 가입 가족 원수 "
   ]
  },
  {
   "cell_type": "code",
   "execution_count": null,
   "metadata": {},
   "outputs": [],
   "source": [
    "df_ins['CUST_FMLY_NUM'].unique()"
   ]
  },
  {
   "cell_type": "code",
   "execution_count": null,
   "metadata": {},
   "outputs": [],
   "source": [
    "df_ins.boxplot(column='CUST_FMLY_NUM')"
   ]
  },
  {
   "cell_type": "markdown",
   "metadata": {},
   "source": [
    "보험 가입 가족원 수 , 실가족원 수 비교 --> 보험 상품 개발, 이유 도출해볼 수 있음"
   ]
  },
  {
   "cell_type": "markdown",
   "metadata": {},
   "source": [
    "#### - 막내 자녀 나이"
   ]
  },
  {
   "cell_type": "code",
   "execution_count": null,
   "metadata": {},
   "outputs": [],
   "source": [
    "df_ins['LAST_CHLD_AGE'].value_counts()"
   ]
  },
  {
   "cell_type": "code",
   "execution_count": null,
   "metadata": {},
   "outputs": [],
   "source": [
    "df_ins['LAST_CHLD_AGE'].unique()"
   ]
  },
  {
   "cell_type": "markdown",
   "metadata": {},
   "source": [
    "결측치 존재"
   ]
  },
  {
   "cell_type": "code",
   "execution_count": null,
   "metadata": {},
   "outputs": [],
   "source": [
    "df_ins.boxplot(column='LAST_CHLD_AGE')"
   ]
  },
  {
   "cell_type": "code",
   "execution_count": null,
   "metadata": {},
   "outputs": [],
   "source": [
    "plt.ticklabel_format(style='plain')\n",
    "sns.violinplot(df_ins['LAST_CHLD_AGE'])"
   ]
  },
  {
   "cell_type": "markdown",
   "metadata": {},
   "source": [
    "#### - 배우자 직업"
   ]
  },
  {
   "cell_type": "code",
   "execution_count": null,
   "metadata": {},
   "outputs": [],
   "source": [
    "df_ins['MATE_OCCP_NAME_G'].unique()"
   ]
  },
  {
   "cell_type": "code",
   "execution_count": null,
   "metadata": {},
   "outputs": [],
   "source": [
    "from matplotlib import rcParams\n",
    "\n",
    "rcParams['figure.figsize']=15,8\n",
    "matplotlib.rc(\"font\",family=\"Malgun Gothic\")\n",
    "sns.countplot(x='MATE_OCCP_NAME_G',data=df_ins)\n"
   ]
  },
  {
   "cell_type": "markdown",
   "metadata": {},
   "source": [
    "'*' 값 존재 \\\n",
    "결측치(nan) 존재"
   ]
  },
  {
   "cell_type": "code",
   "execution_count": null,
   "metadata": {},
   "outputs": [],
   "source": [
    "#df_ins.boxplot(column='MATE_OCCP_NAME_G')"
   ]
  },
  {
   "cell_type": "markdown",
   "metadata": {},
   "source": [
    "#### - 배우자 추정 소득"
   ]
  },
  {
   "cell_type": "code",
   "execution_count": null,
   "metadata": {},
   "outputs": [],
   "source": [
    "df_ins['MATE_JOB_INCM'].unique()"
   ]
  },
  {
   "cell_type": "markdown",
   "metadata": {},
   "source": [
    "배우자 추정 소득 0 "
   ]
  },
  {
   "cell_type": "code",
   "execution_count": null,
   "metadata": {},
   "outputs": [],
   "source": [
    "df_ins[df_ins['MATE_JOB_INCM']==0]['MATE_JOB_INCM'].count()"
   ]
  },
  {
   "cell_type": "code",
   "execution_count": null,
   "metadata": {},
   "outputs": [],
   "source": [
    "df_ins.boxplot(column='MATE_JOB_INCM')"
   ]
  },
  {
   "cell_type": "code",
   "execution_count": null,
   "metadata": {},
   "outputs": [],
   "source": [
    "plt.ticklabel_format(style='plain')\n",
    "sns.violinplot(df_ins['MATE_JOB_INCM'])"
   ]
  },
  {
   "cell_type": "markdown",
   "metadata": {},
   "source": [
    "#### - 신용 대출 건수 "
   ]
  },
  {
   "cell_type": "code",
   "execution_count": null,
   "metadata": {},
   "outputs": [],
   "source": [
    "df_ins['CRDT_LOAN_CNT'].unique()"
   ]
  },
  {
   "cell_type": "code",
   "execution_count": null,
   "metadata": {},
   "outputs": [],
   "source": [
    "df_ins.boxplot(column='CRDT_LOAN_CNT')"
   ]
  },
  {
   "cell_type": "code",
   "execution_count": null,
   "metadata": {},
   "outputs": [],
   "source": [
    "df_ins[df_ins['CRDT_LOAN_CNT']!=0]['CRDT_LOAN_CNT']"
   ]
  },
  {
   "cell_type": "code",
   "execution_count": null,
   "metadata": {},
   "outputs": [],
   "source": [
    "plt.ticklabel_format(style='plain')\n",
    "sns.violinplot(df_ins['CRDT_LOAN_CNT'])"
   ]
  },
  {
   "cell_type": "markdown",
   "metadata": {},
   "source": [
    "#### - **생명에서의 최초 대출 날짜 : int 형 --> 파생변수 생성(??)"
   ]
  },
  {
   "cell_type": "code",
   "execution_count": null,
   "metadata": {},
   "outputs": [],
   "source": [
    "- "
   ]
  },
  {
   "cell_type": "code",
   "execution_count": null,
   "metadata": {},
   "outputs": [],
   "source": [
    "df_ins.boxplot(column='MIN_CNTT_DATE')"
   ]
  },
  {
   "cell_type": "code",
   "execution_count": null,
   "metadata": {},
   "outputs": [],
   "source": [
    "df_ins[df_ins['MIN_CNTT_DATE']!=0]['MIN_CNTT_DATE']"
   ]
  },
  {
   "cell_type": "code",
   "execution_count": null,
   "metadata": {},
   "outputs": [],
   "source": [
    "a=df_ins['MIN_CNTT_DATE'].tolist()"
   ]
  },
  {
   "cell_type": "code",
   "execution_count": null,
   "metadata": {},
   "outputs": [],
   "source": [
    "year_=[]\n",
    "for year in a:\n",
    "    year=str(year)\n",
    "    year_.append(year[:4])\n",
    "year_=set(year_)\n",
    "year_"
   ]
  },
  {
   "cell_type": "markdown",
   "metadata": {},
   "source": [
    "#### - **생명 신용 대출 금액"
   ]
  },
  {
   "cell_type": "code",
   "execution_count": null,
   "metadata": {},
   "outputs": [],
   "source": [
    "df_ins['TOT_CRLN_AMT'].unique()"
   ]
  },
  {
   "cell_type": "code",
   "execution_count": null,
   "metadata": {},
   "outputs": [],
   "source": [
    "df_ins[df_ins['TOT_CRLN_AMT']==0]['TOT_CRLN_AMT'].count()"
   ]
  },
  {
   "cell_type": "code",
   "execution_count": null,
   "metadata": {},
   "outputs": [],
   "source": [
    "df_ins['TOT_CRLN_AMT'].count()"
   ]
  },
  {
   "cell_type": "code",
   "execution_count": null,
   "metadata": {},
   "outputs": [],
   "source": [
    "df_ins[['TOT_CRLN_AMT']].head(100)"
   ]
  },
  {
   "cell_type": "markdown",
   "metadata": {},
   "source": [
    "10%정도의 사람들만 ** 생명에서 신용 대출"
   ]
  },
  {
   "cell_type": "code",
   "execution_count": null,
   "metadata": {},
   "outputs": [],
   "source": [
    "(df_ins['TOT_CRLN_AMT']/10000).unique()  # 단위:만원"
   ]
  },
  {
   "cell_type": "code",
   "execution_count": null,
   "metadata": {},
   "outputs": [],
   "source": [
    "df_ins['TOT_CRLN_AMT'].value_counts()"
   ]
  },
  {
   "cell_type": "code",
   "execution_count": null,
   "metadata": {},
   "outputs": [],
   "source": [
    "df_ins['TOT_CRLN_AMT']=df_ins['TOT_CRLN_AMT']/10000"
   ]
  },
  {
   "cell_type": "code",
   "execution_count": null,
   "metadata": {},
   "outputs": [],
   "source": [
    "df_ins.boxplot(column='TOT_CRLN_AMT')"
   ]
  },
  {
   "cell_type": "markdown",
   "metadata": {},
   "source": [
    "- 총 신용 대출 금액, 상환 금액을 활용해서 현재 총 빌려준 금액 도출 가능--> 파생 변수"
   ]
  },
  {
   "cell_type": "markdown",
   "metadata": {},
   "source": [
    "#### - **생명 신용 상환 금액\n"
   ]
  },
  {
   "cell_type": "code",
   "execution_count": null,
   "metadata": {},
   "outputs": [],
   "source": [
    "df_ins['TOT_REPY_AMT'].unique()"
   ]
  },
  {
   "cell_type": "code",
   "execution_count": null,
   "metadata": {},
   "outputs": [],
   "source": [
    "df_ins['TOT_REPY_AMT']=df_ins['TOT_REPY_AMT']/10000"
   ]
  },
  {
   "cell_type": "code",
   "execution_count": null,
   "metadata": {},
   "outputs": [],
   "source": [
    "df_ins['TOT_REPY_AMT'].unique()      #단위: 만원 "
   ]
  },
  {
   "cell_type": "code",
   "execution_count": null,
   "metadata": {},
   "outputs": [],
   "source": [
    "df_ins[df_ins['TOT_REPY_AMT']==0]['TOT_REPY_AMT'].count()"
   ]
  },
  {
   "cell_type": "code",
   "execution_count": null,
   "metadata": {},
   "outputs": [],
   "source": [
    "df_ins['TOT_REPY_AMT'].count()"
   ]
  },
  {
   "cell_type": "code",
   "execution_count": null,
   "metadata": {},
   "outputs": [],
   "source": [
    "df_ins.boxplot(column='TOT_REPY_AMT')"
   ]
  },
  {
   "cell_type": "markdown",
   "metadata": {},
   "source": [
    "#### 신용 대출 연체율"
   ]
  },
  {
   "cell_type": "code",
   "execution_count": null,
   "metadata": {},
   "outputs": [],
   "source": [
    "df_ins['CRLN_OVDU_RATE'].unique()"
   ]
  },
  {
   "cell_type": "code",
   "execution_count": null,
   "metadata": {},
   "outputs": [],
   "source": [
    "df_ins.boxplot(column='CRLN_OVDU_RATE')"
   ]
  },
  {
   "cell_type": "code",
   "execution_count": null,
   "metadata": {},
   "outputs": [],
   "source": [
    "df_ins[df_ins['CRLN_OVDU_RATE']==0]['CRLN_OVDU_RATE'].count()"
   ]
  },
  {
   "cell_type": "code",
   "execution_count": null,
   "metadata": {},
   "outputs": [],
   "source": [
    "plt.ticklabel_format(style='plain')\n",
    "sns.violinplot(df_ins['CRLN_OVDU_RATE'])"
   ]
  },
  {
   "cell_type": "markdown",
   "metadata": {},
   "source": [
    "#### - 30일 이내 신용 대출 연체율\n"
   ]
  },
  {
   "cell_type": "code",
   "execution_count": null,
   "metadata": {},
   "outputs": [],
   "source": [
    "#df_ins['CRLN_30OVDU_RATE'].unique()"
   ]
  },
  {
   "cell_type": "code",
   "execution_count": null,
   "metadata": {},
   "outputs": [],
   "source": [
    "df_ins.boxplot(column='CRLN_30OVDU_RATE')"
   ]
  },
  {
   "cell_type": "code",
   "execution_count": null,
   "metadata": {},
   "outputs": [],
   "source": [
    "plt.ticklabel_format(style='plain')\n",
    "sns.violinplot(df_ins['CRLN_30OVDU_RATE'])"
   ]
  },
  {
   "cell_type": "markdown",
   "metadata": {},
   "source": [
    "#### - 최근 1년 신용 대출 연체율 \n"
   ]
  },
  {
   "cell_type": "code",
   "execution_count": null,
   "metadata": {},
   "outputs": [],
   "source": [
    "df_ins['LT1Y_CLOD_RATE'].unique()"
   ]
  },
  {
   "cell_type": "code",
   "execution_count": null,
   "metadata": {},
   "outputs": [],
   "source": [
    "df_ins[df_ins['LT1Y_CLOD_RATE']==0]['LT1Y_CLOD_RATE'].count()"
   ]
  },
  {
   "cell_type": "code",
   "execution_count": null,
   "metadata": {},
   "outputs": [],
   "source": [
    "df_ins.boxplot(column='LT1Y_CLOD_RATE')"
   ]
  },
  {
   "cell_type": "code",
   "execution_count": null,
   "metadata": {},
   "outputs": [],
   "source": [
    "plt.ticklabel_format(style='plain')\n",
    "sns.violinplot(df_ins['LT1Y_CLOD_RATE'])"
   ]
  },
  {
   "cell_type": "markdown",
   "metadata": {},
   "source": [
    "#### - 최초 신용 등급"
   ]
  },
  {
   "cell_type": "markdown",
   "metadata": {},
   "source": [
    "**생명에서 실행된 가장 오래된 대출시점의 신용등급"
   ]
  },
  {
   "cell_type": "code",
   "execution_count": null,
   "metadata": {},
   "outputs": [],
   "source": [
    "df_ins['STRT_CRDT_GRAD'].unique()"
   ]
  },
  {
   "cell_type": "code",
   "execution_count": null,
   "metadata": {},
   "outputs": [],
   "source": [
    "df_ins[df_ins['STRT_CRDT_GRAD']==0]['STRT_CRDT_GRAD'].count()"
   ]
  },
  {
   "cell_type": "code",
   "execution_count": null,
   "metadata": {},
   "outputs": [],
   "source": [
    "df_ins.boxplot(column='STRT_CRDT_GRAD')"
   ]
  },
  {
   "cell_type": "code",
   "execution_count": null,
   "metadata": {},
   "outputs": [],
   "source": [
    "plt.ticklabel_format(style='plain')\n",
    "sns.violinplot(df_ins['STRT_CRDT_GRAD'])"
   ]
  },
  {
   "cell_type": "markdown",
   "metadata": {},
   "source": [
    "#### - 최근 신용 등급"
   ]
  },
  {
   "cell_type": "markdown",
   "metadata": {},
   "source": [
    "**생명에서 실행된 가장 최근 대출시점의 신용등급"
   ]
  },
  {
   "cell_type": "code",
   "execution_count": null,
   "metadata": {},
   "outputs": [],
   "source": [
    "df_ins['LTST_CRDT_GRAD'].unique()"
   ]
  },
  {
   "cell_type": "code",
   "execution_count": null,
   "metadata": {},
   "outputs": [],
   "source": [
    "df_ins.boxplot(column='LTST_CRDT_GRAD')"
   ]
  },
  {
   "cell_type": "code",
   "execution_count": null,
   "metadata": {},
   "outputs": [],
   "source": [
    "plt.ticklabel_format(style='plain')\n",
    "sns.violinplot(df_ins['LTST_CRDT_GRAD'])"
   ]
  },
  {
   "cell_type": "code",
   "execution_count": null,
   "metadata": {},
   "outputs": [],
   "source": []
  },
  {
   "cell_type": "code",
   "execution_count": null,
   "metadata": {},
   "outputs": [],
   "source": []
  }
 ],
 "metadata": {
  "kernelspec": {
   "display_name": "Python 3",
   "language": "python",
   "name": "python3"
  },
  "language_info": {
   "codemirror_mode": {
    "name": "ipython",
    "version": 3
   },
   "file_extension": ".py",
   "mimetype": "text/x-python",
   "name": "python",
   "nbconvert_exporter": "python",
   "pygments_lexer": "ipython3",
   "version": "3.8.3"
  }
 },
 "nbformat": 4,
 "nbformat_minor": 4
}
