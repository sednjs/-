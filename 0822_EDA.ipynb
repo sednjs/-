{
 "cells": [
  {
   "cell_type": "code",
   "execution_count": 1,
   "metadata": {},
   "outputs": [],
   "source": [
    "import pandas as pd\n",
    "import numpy as np\n",
    "import matplotlib.pyplot as plt\n",
    "import seaborn as sns\n",
    "from matplotlib import rc\n",
    "rc('font', family='AppleGothic')\n",
    "plt.rcParams['axes.unicode_minus'] = False\n",
    "\n",
    "import warnings\n",
    "warnings.filterwarnings('ignore')"
   ]
  },
  {
   "cell_type": "markdown",
   "metadata": {},
   "source": [
    "# DF 불러오고 합치기"
   ]
  },
  {
   "cell_type": "code",
   "execution_count": 2,
   "metadata": {},
   "outputs": [],
   "source": [
    "df= pd.read_csv(\"~/Desktop/POSCO/bigdata_project/Total_0823.csv\" )\n",
    "#df_loan = pd.read_csv(\"./01_Data_set_대출.csv\",encoding = \"euc-kr\")\n"
   ]
  },
  {
   "cell_type": "code",
   "execution_count": 3,
   "metadata": {},
   "outputs": [],
   "source": [
    "#df = pd.merge(df_ins,df_loan, on = ['CUST_ID'])"
   ]
  },
  {
   "cell_type": "code",
   "execution_count": 4,
   "metadata": {},
   "outputs": [
    {
     "data": {
      "text/plain": [
       "Unnamed: 0           0\n",
       "CUST_ID              0\n",
       "OCCP_NAME_G          0\n",
       "CUST_JOB_INCM        0\n",
       "HSHD_INFR_INCM       0\n",
       "ACTL_FMLY_NUM        0\n",
       "CUST_FMLY_NUM        0\n",
       "LAST_CHLD_AGE        0\n",
       "MATE_JOB_INCM        0\n",
       "CRDT_LOAN_CNT        0\n",
       "MIN_CNTT_DATE        0\n",
       "TOT_CRLN_AMT         0\n",
       "TOT_REPY_AMT         0\n",
       "CRLN_OVDU_RATE       0\n",
       "CRLN_30OVDU_RATE     0\n",
       "LT1Y_CLOD_RATE       0\n",
       "STRT_CRDT_GRAD       0\n",
       "LTST_CRDT_GRAD       0\n",
       "PREM_OVDU_RATE       0\n",
       "LT1Y_PEOD_RATE       0\n",
       "AVG_STLN_RATE        0\n",
       "STLN_REMN_AMT        0\n",
       "LT1Y_STLN_AMT        0\n",
       "LT1Y_SLOD_RATE       0\n",
       "GDINS_MON_PREM       0\n",
       "SVINS_MON_PREM       0\n",
       "FMLY_GDINS_MNPREM    0\n",
       "FMLY_SVINS_MNPREM    0\n",
       "MAX_MON_PREM         0\n",
       "TOT_PREM             0\n",
       "FMLY_TOT_PREM        0\n",
       "CNTT_LAMT_CNT        0\n",
       "LT1Y_CTLT_CNT        0\n",
       "AUTR_FAIL_MCNT       0\n",
       "FYCM_PAID_AMT        0\n",
       "FMLY_CLAM_CNT        0\n",
       "FMLY_PLPY_CNT        0\n",
       "AGE                  0\n",
       "SEX                  0\n",
       "TARGET               0\n",
       "BNK_LNIF_CNT         0\n",
       "CPT_LNIF_CNT         0\n",
       "SPART_LNIF_CNT       0\n",
       "ECT_LNIF_CNT         0\n",
       "TOT_LNIF_AMT         0\n",
       "TOT_CLIF_AMT         0\n",
       "BNK_LNIF_AMT         0\n",
       "CPT_LNIF_AMT         0\n",
       "CRDT_OCCR_MDIF       0\n",
       "SPTCT_OCCR_MDIF      0\n",
       "CRDT_CARD_CNT        0\n",
       "CTCD_OCCR_MDIF       0\n",
       "CB_GUIF_CNT          0\n",
       "CB_GUIF_AMT          0\n",
       "Target               0\n",
       "Target_year          0\n",
       "Auto_fail_cnt        0\n",
       "Category             0\n",
       "dtype: int64"
      ]
     },
     "execution_count": 4,
     "metadata": {},
     "output_type": "execute_result"
    }
   ],
   "source": [
    "df.isnull().sum()"
   ]
  },
  {
   "cell_type": "code",
   "execution_count": 5,
   "metadata": {},
   "outputs": [
    {
     "data": {
      "text/plain": [
       "0        50\n",
       "1        50\n",
       "2        60\n",
       "3        35\n",
       "4        45\n",
       "         ..\n",
       "95275    55\n",
       "95276    45\n",
       "95277    45\n",
       "95278    45\n",
       "95279    55\n",
       "Name: AGE, Length: 95280, dtype: int64"
      ]
     },
     "execution_count": 5,
     "metadata": {},
     "output_type": "execute_result"
    }
   ],
   "source": [
    "df['AGE']"
   ]
  },
  {
   "cell_type": "code",
   "execution_count": 6,
   "metadata": {},
   "outputs": [
    {
     "data": {
      "text/plain": [
       "Unnamed: 0           0\n",
       "CUST_ID              0\n",
       "OCCP_NAME_G          0\n",
       "CUST_JOB_INCM        0\n",
       "HSHD_INFR_INCM       0\n",
       "ACTL_FMLY_NUM        0\n",
       "CUST_FMLY_NUM        0\n",
       "LAST_CHLD_AGE        0\n",
       "MATE_JOB_INCM        0\n",
       "CRDT_LOAN_CNT        0\n",
       "MIN_CNTT_DATE        0\n",
       "TOT_CRLN_AMT         0\n",
       "TOT_REPY_AMT         0\n",
       "CRLN_OVDU_RATE       0\n",
       "CRLN_30OVDU_RATE     0\n",
       "LT1Y_CLOD_RATE       0\n",
       "STRT_CRDT_GRAD       0\n",
       "LTST_CRDT_GRAD       0\n",
       "PREM_OVDU_RATE       0\n",
       "LT1Y_PEOD_RATE       0\n",
       "AVG_STLN_RATE        0\n",
       "STLN_REMN_AMT        0\n",
       "LT1Y_STLN_AMT        0\n",
       "LT1Y_SLOD_RATE       0\n",
       "GDINS_MON_PREM       0\n",
       "SVINS_MON_PREM       0\n",
       "FMLY_GDINS_MNPREM    0\n",
       "FMLY_SVINS_MNPREM    0\n",
       "MAX_MON_PREM         0\n",
       "TOT_PREM             0\n",
       "FMLY_TOT_PREM        0\n",
       "CNTT_LAMT_CNT        0\n",
       "LT1Y_CTLT_CNT        0\n",
       "AUTR_FAIL_MCNT       0\n",
       "FYCM_PAID_AMT        0\n",
       "FMLY_CLAM_CNT        0\n",
       "FMLY_PLPY_CNT        0\n",
       "AGE                  0\n",
       "SEX                  0\n",
       "TARGET               0\n",
       "BNK_LNIF_CNT         0\n",
       "CPT_LNIF_CNT         0\n",
       "SPART_LNIF_CNT       0\n",
       "ECT_LNIF_CNT         0\n",
       "TOT_LNIF_AMT         0\n",
       "TOT_CLIF_AMT         0\n",
       "BNK_LNIF_AMT         0\n",
       "CPT_LNIF_AMT         0\n",
       "CRDT_OCCR_MDIF       0\n",
       "SPTCT_OCCR_MDIF      0\n",
       "CRDT_CARD_CNT        0\n",
       "CTCD_OCCR_MDIF       0\n",
       "CB_GUIF_CNT          0\n",
       "CB_GUIF_AMT          0\n",
       "Target               0\n",
       "Target_year          0\n",
       "Auto_fail_cnt        0\n",
       "Category             0\n",
       "dtype: int64"
      ]
     },
     "execution_count": 6,
     "metadata": {},
     "output_type": "execute_result"
    }
   ],
   "source": [
    "df.isnull().sum()"
   ]
  },
  {
   "cell_type": "markdown",
   "metadata": {},
   "source": [
    "# 직업별 실효해지건수 분석"
   ]
  },
  {
   "cell_type": "code",
   "execution_count": 7,
   "metadata": {},
   "outputs": [
    {
     "data": {
      "text/plain": [
       "주부          27125\n",
       "사무직         16404\n",
       "2차산업 종사자     9400\n",
       "자영업          9288\n",
       "3차산업 종사자     8072\n",
       "공무원          5060\n",
       "전문직          4965\n",
       "단순 사무직       4029\n",
       "학생           3729\n",
       "운전직          2088\n",
       "고소득 전문직      1214\n",
       "1차산업 종사자     1159\n",
       "기업/단체 임원     1031\n",
       "예체능계 종사자      912\n",
       "단순 노무직        804\n",
       "Name: OCCP_NAME_G, dtype: int64"
      ]
     },
     "execution_count": 7,
     "metadata": {},
     "output_type": "execute_result"
    }
   ],
   "source": [
    "df['OCCP_NAME_G'].value_counts()"
   ]
  },
  {
   "cell_type": "code",
   "execution_count": 8,
   "metadata": {},
   "outputs": [
    {
     "ename": "NameError",
     "evalue": "name 'df_ins' is not defined",
     "output_type": "error",
     "traceback": [
      "\u001b[1;31m---------------------------------------------------------------------------\u001b[0m",
      "\u001b[1;31mNameError\u001b[0m                                 Traceback (most recent call last)",
      "\u001b[1;32m<ipython-input-8-f9e644229edb>\u001b[0m in \u001b[0;36m<module>\u001b[1;34m\u001b[0m\n\u001b[0;32m      1\u001b[0m \u001b[1;31m# 직업별 실효해지건수\u001b[0m\u001b[1;33m\u001b[0m\u001b[1;33m\u001b[0m\u001b[1;33m\u001b[0m\u001b[0m\n\u001b[1;32m----> 2\u001b[1;33m \u001b[0mjob_lamt\u001b[0m \u001b[1;33m=\u001b[0m \u001b[0mdf_ins\u001b[0m\u001b[1;33m.\u001b[0m\u001b[0mgroupby\u001b[0m\u001b[1;33m(\u001b[0m\u001b[1;34m'OCCP_NAME_G'\u001b[0m\u001b[1;33m)\u001b[0m\u001b[1;33m[\u001b[0m\u001b[1;33m[\u001b[0m\u001b[1;34m'CNTT_LAMT_CNT'\u001b[0m\u001b[1;33m,\u001b[0m\u001b[1;34m'CUST_JOB_INCM'\u001b[0m\u001b[1;33m]\u001b[0m\u001b[1;33m]\u001b[0m\u001b[1;33m.\u001b[0m\u001b[0mmean\u001b[0m\u001b[1;33m(\u001b[0m\u001b[1;33m)\u001b[0m\u001b[1;33m\u001b[0m\u001b[1;33m\u001b[0m\u001b[0m\n\u001b[0m\u001b[0;32m      3\u001b[0m \u001b[0mjob_lamt\u001b[0m \u001b[1;33m=\u001b[0m \u001b[0mjob_lamt\u001b[0m\u001b[1;33m.\u001b[0m\u001b[0mreset_index\u001b[0m\u001b[1;33m(\u001b[0m\u001b[1;33m)\u001b[0m\u001b[1;33m.\u001b[0m\u001b[0mround\u001b[0m\u001b[1;33m(\u001b[0m\u001b[1;36m3\u001b[0m\u001b[1;33m)\u001b[0m\u001b[1;33m\u001b[0m\u001b[1;33m\u001b[0m\u001b[0m\n\u001b[0;32m      4\u001b[0m \u001b[0mjob_lamt\u001b[0m\u001b[1;33m.\u001b[0m\u001b[0mcorr\u001b[0m\u001b[1;33m(\u001b[0m\u001b[1;33m)\u001b[0m\u001b[1;33m\u001b[0m\u001b[1;33m\u001b[0m\u001b[0m\n",
      "\u001b[1;31mNameError\u001b[0m: name 'df_ins' is not defined"
     ]
    }
   ],
   "source": [
    "# 직업별 실효해지건수 \n",
    "job_lamt = df_ins.groupby('OCCP_NAME_G')[['CNTT_LAMT_CNT','CUST_JOB_INCM']].mean()\n",
    "job_lamt = job_lamt.reset_index().round(3)\n",
    "job_lamt.corr()"
   ]
  },
  {
   "cell_type": "code",
   "execution_count": null,
   "metadata": {},
   "outputs": [],
   "source": [
    "# 직업별 실효해지건수 \n",
    "job_lamt = df_ins.groupby('OCCP_NAME_G')[['CNTT_LAMT_CNT','CUST_JOB_INCM']].mean()\n",
    "job_lamt = job_lamt.reset_index().round(3)\n",
    "job_lamt"
   ]
  },
  {
   "cell_type": "code",
   "execution_count": null,
   "metadata": {},
   "outputs": [],
   "source": [
    "job_lamt.drop([0,7,15,16], inplace=True)\n",
    "# 주부, 학생, 기타 직업에 대한 로우 삭제 \n",
    "# -> 주부와 학생은 자신들의 소득으로 생계를 유지하는 것이 아니며 기타는 그 소득의 근원을 모르기에 삭제하여 상관계수의 유의미성을 확보 "
   ]
  },
  {
   "cell_type": "code",
   "execution_count": null,
   "metadata": {},
   "outputs": [],
   "source": [
    "job_lamt.corr()"
   ]
  },
  {
   "cell_type": "code",
   "execution_count": null,
   "metadata": {},
   "outputs": [],
   "source": [
    "job_lamt.to_csv('./직업별해지건수_소득.csv', encoding = 'euc-kr')"
   ]
  },
  {
   "cell_type": "code",
   "execution_count": null,
   "metadata": {},
   "outputs": [],
   "source": [
    "df = pd.merge(df_ins,df_loan, on = ['CUST_ID'])"
   ]
  },
  {
   "cell_type": "markdown",
   "metadata": {},
   "source": [
    "# 막내자녀나이 결측치 처리"
   ]
  },
  {
   "cell_type": "code",
   "execution_count": null,
   "metadata": {},
   "outputs": [],
   "source": [
    "df_ins[(df_ins['LAST_CHLD_AGE']==0.0) & (df_ins['AGE']=='35')]['LAST_CHLD_AGE'].replace({0.0:18.0}, inplace=True)"
   ]
  },
  {
   "cell_type": "code",
   "execution_count": null,
   "metadata": {},
   "outputs": [],
   "source": [
    "df_ins[df_ins['AGE']=='35']"
   ]
  },
  {
   "cell_type": "code",
   "execution_count": null,
   "metadata": {},
   "outputs": [],
   "source": [
    "for i in range(len(df_ins['LAST_CHLD_AGE'])):\n",
    "    # 나이 35인 사람에 대해 막내자녀 결측치 처리 (18 대체)\n",
    "    if (df_ins.loc[i, 'LAST_CHLD_AGE'] == 0.0) & (df_ins.loc[i, 'AGE'] == '35'):\n",
    "        df_ins.loc[i, 'LAST_CHLD_AGE'] = 18\n",
    "    # 나이 40인 사람에 대해 막내자녀 결측치 처리 (17 대체)\n",
    "    if (df_ins.loc[i, 'LAST_CHLD_AGE'] == 0.0) & (df_ins.loc[i, 'AGE'] == '40'):\n",
    "        df_ins.loc[i, 'LAST_CHLD_AGE'] = 17\n"
   ]
  },
  {
   "cell_type": "markdown",
   "metadata": {},
   "source": [
    "# 보험.csv 슬라이드 3 결측치 처리"
   ]
  },
  {
   "cell_type": "code",
   "execution_count": null,
   "metadata": {},
   "outputs": [],
   "source": [
    "# 보험료 연체율\n",
    "df['PREM_OVDU_RATE'].value_counts()"
   ]
  },
  {
   "cell_type": "markdown",
   "metadata": {},
   "source": [
    "## 파생변수 생성 (예상 타겟변수_실효해지건수)"
   ]
  },
  {
   "cell_type": "code",
   "execution_count": null,
   "metadata": {},
   "outputs": [],
   "source": [
    "# 'CNTT_LAMT_CNT' - 실효해지건수 파생변수 생성\n",
    "_list = []\n",
    "for cnt in df['CNTT_LAMT_CNT']:\n",
    "    if cnt == 0: # 0 : 실효해지 무 \n",
    "        _list.append(0)\n",
    "    else:\n",
    "        _list.append(1) # 실효해지한 값에 대해새는 1로 처리 => 1: 실효해지 유 \n",
    "\n",
    "df[\"Target\"] = _list\n",
    "\n",
    "# 'LT1Y_CTLT_CNT' - 최근 1년 실효해지건수 파생변수 생성\n",
    "_list = []\n",
    "for cnt in df['LT1Y_CTLT_CNT']:\n",
    "    if cnt == 0: # 0 : 실효해지 무 \n",
    "        _list.append(0)\n",
    "    else:\n",
    "        _list.append(1) # 실효해지한 값에 대해새는 1로 처리 => 1: 실효해지 유 \n",
    "\n",
    "df[\"Target_year\"] = _list\n"
   ]
  },
  {
   "cell_type": "code",
   "execution_count": null,
   "metadata": {},
   "outputs": [],
   "source": [
    "df['Target'].describe()"
   ]
  },
  {
   "cell_type": "code",
   "execution_count": null,
   "metadata": {},
   "outputs": [],
   "source": [
    "df['Target'].value_counts()"
   ]
  },
  {
   "cell_type": "code",
   "execution_count": null,
   "metadata": {},
   "outputs": [],
   "source": [
    "df['Target_year'].value_counts()"
   ]
  },
  {
   "cell_type": "markdown",
   "metadata": {},
   "source": [
    "## 직업별 추정소득 분포 확인"
   ]
  },
  {
   "cell_type": "code",
   "execution_count": null,
   "metadata": {},
   "outputs": [],
   "source": [
    "# 직업의 결측치, * 값을 가진 인덱스 추출\n",
    "idx = df[df['OCCP_NAME_G']=='*'].index\n",
    "idx"
   ]
  },
  {
   "cell_type": "code",
   "execution_count": null,
   "metadata": {},
   "outputs": [],
   "source": [
    "# 직업 결측치 삭제하여 새로운 df에 저장\n",
    "df1 = df.drop(idx)"
   ]
  },
  {
   "cell_type": "code",
   "execution_count": null,
   "metadata": {},
   "outputs": [],
   "source": [
    "# 소득의 결측치 인덱스 반환\n",
    "idx = df1[df1['CUST_JOB_INCM']==0].index\n",
    "idx"
   ]
  },
  {
   "cell_type": "code",
   "execution_count": null,
   "metadata": {},
   "outputs": [],
   "source": [
    "# 소득 결측치 제거 \n",
    "df1 = df1.drop(idx)"
   ]
  },
  {
   "cell_type": "code",
   "execution_count": null,
   "metadata": {},
   "outputs": [],
   "source": [
    "df1[['OCCP_NAME_G','CUST_JOB_INCM']]"
   ]
  },
  {
   "cell_type": "code",
   "execution_count": null,
   "metadata": {},
   "outputs": [],
   "source": [
    "df[(df['OCCP_NAME_G']=='*') & (df['Target']==1)]"
   ]
  },
  {
   "cell_type": "code",
   "execution_count": null,
   "metadata": {},
   "outputs": [],
   "source": [
    "# 직업이 기타인 행의 소득은 모두 0임 (1672개) -> 전체 데이터의 5프로보다 작은 값이므로 이에 대해 삭제할 수 있다고 판단\n",
    "# 하지만 그 전에 Target의 값이 1인 소중한 경우들이 몇개인지 확인 -> 133개 (Target 1인 값 : 8323개)\n",
    "# 따라서 직업이 기타인 행은 전부 삭제하겠다고 판단.\n",
    "df[(df['OCCP_NAME_G']=='기타') & (df['Target']==1)]"
   ]
  },
  {
   "cell_type": "code",
   "execution_count": null,
   "metadata": {},
   "outputs": [],
   "source": [
    "job = ['사무직', '2차산업 종사자','자영업','3차산업 종사자','전문직','공무원','단순 사무직','운전직','고소득 전문직','기업/단체 임원',\n",
    "       '예체능계 종사자', '1차산업 종사자','단순 노무직','주부','학생']"
   ]
  },
  {
   "cell_type": "code",
   "execution_count": null,
   "metadata": {},
   "outputs": [],
   "source": [
    "df['OCCP_NAME_G'].value_counts()"
   ]
  },
  {
   "cell_type": "code",
   "execution_count": null,
   "metadata": {},
   "outputs": [],
   "source": [
    "df['OCCP_NAME_G'].value_counts()"
   ]
  },
  {
   "cell_type": "code",
   "execution_count": null,
   "metadata": {},
   "outputs": [],
   "source": [
    "# 정규성 검정 전 1차적 확인으로 hist \n",
    "for j in job:\n",
    "    plt.hist(df1[df1['OCCP_NAME_G'] == j]['CUST_JOB_INCM'], bins=25)\n",
    "    plt.title(j)\n",
    "    plt.show()"
   ]
  },
  {
   "cell_type": "code",
   "execution_count": null,
   "metadata": {},
   "outputs": [],
   "source": [
    "df1.groupby('OCCP_NAME_G')['CUST_JOB_INCM'].agg(['mean','median']).round(3)"
   ]
  },
  {
   "cell_type": "markdown",
   "metadata": {},
   "source": [
    "### 정규성을 따진 후 평균이나 중앙값으로 소득 결측치 채우기 \n"
   ]
  },
  {
   "cell_type": "markdown",
   "metadata": {},
   "source": [
    "-  정규성 (평균)\n",
    "    - 사무직  4900\n",
    "\t- 2차산업 종사자 4400\n",
    "\t - 자영업 5000\n",
    "\t- 3차산업 종사자 4000\n",
    "\t-  공무원 4600\n",
    "\t- 단순 사무직 4000\n",
    "\t- 예체능계 종사자 4200\n",
    "\t- 운전직 4700\n",
    "\t- 전문직 4500\n",
    "\t- 1차산업 종사자 4300\n",
    "\t- \n",
    "\n",
    "\n",
    "\n",
    "\n",
    "\n",
    "- 비정규성 (중앙값)\n",
    "    - 학생 3000\n",
    "    - 주부 3600\n",
    "    - 단순 노무직 3600\n",
    "    - 기업/단체 임원 8400\n",
    "    - 고속득 전문직 7000\n"
   ]
  },
  {
   "cell_type": "code",
   "execution_count": null,
   "metadata": {},
   "outputs": [],
   "source": []
  },
  {
   "cell_type": "code",
   "execution_count": null,
   "metadata": {},
   "outputs": [],
   "source": [
    "# 직업이 * 이나 기타로 기재된 값들에 대해 아에 제외처리함 (위에서 Target 1의 개수 확인 O)\n",
    "idx = df[df['OCCP_NAME_G']=='*'].index\n",
    "idx\n",
    "df.drop(idx, inplace=True)\n",
    "\n",
    "idx = df[df['OCCP_NAME_G']=='기타'].index\n",
    "idx\n",
    "df.drop(idx, inplace=True)"
   ]
  },
  {
   "cell_type": "code",
   "execution_count": null,
   "metadata": {},
   "outputs": [],
   "source": [
    "# 비정규성(중앙값 대체)\n",
    "df['CUST_JOB_INCM'][(df['CUST_JOB_INCM']==0) & (df['OCCP_NAME_G'] == '기타')]= 3600\n",
    "df['CUST_JOB_INCM'][(df['CUST_JOB_INCM']==0) & (df['OCCP_NAME_G'] == '주부')]= 3600\n",
    "df['CUST_JOB_INCM'][(df['CUST_JOB_INCM']==0) & (df['OCCP_NAME_G'] == '학생')]= 3600\n",
    "df['CUST_JOB_INCM'][(df['CUST_JOB_INCM']==0) & (df['OCCP_NAME_G'] == '단순 노무직')]= 3600\n",
    "df['CUST_JOB_INCM'][(df['CUST_JOB_INCM']==0) & (df['OCCP_NAME_G'] == '기업/단체 임원')]= 8400\n",
    "df['CUST_JOB_INCM'][(df['CUST_JOB_INCM']==0) & (df['OCCP_NAME_G'] == '고소득 전문직')] = 7000\n",
    "\n",
    "# 정규성(평균값 대체)\n",
    "df['CUST_JOB_INCM'][(df['CUST_JOB_INCM']==0) & (df['OCCP_NAME_G'] == '사무직')] = 4900\n",
    "df['CUST_JOB_INCM'][(df['CUST_JOB_INCM']==0) & (df['OCCP_NAME_G'] == '2차산업 종사자')] = 4400\n",
    "df['CUST_JOB_INCM'][(df['CUST_JOB_INCM']==0) & (df['OCCP_NAME_G'] == '자영업')] = 5000\n",
    "df['CUST_JOB_INCM'][(df['CUST_JOB_INCM']==0) & (df['OCCP_NAME_G'] == '3차산업 종사자')] = 4000\n",
    "df['CUST_JOB_INCM'][(df['CUST_JOB_INCM']==0) & (df['OCCP_NAME_G'] == '공무원')]= 4600\n",
    "df['CUST_JOB_INCM'][(df['CUST_JOB_INCM']==0) & (df['OCCP_NAME_G'] == '단순 노무직')] = 3700\n",
    "df['CUST_JOB_INCM'][(df['CUST_JOB_INCM']==0) & (df['OCCP_NAME_G'] == '단순 사무직')]= 4000\n",
    "df['CUST_JOB_INCM'][(df['CUST_JOB_INCM']==0) & (df['OCCP_NAME_G'] == '예체능계 종사자')]= 4200\n",
    "df['CUST_JOB_INCM'][(df['CUST_JOB_INCM']==0) & (df['OCCP_NAME_G'] == '운전직')]= 4700\n",
    "df['CUST_JOB_INCM'][(df['CUST_JOB_INCM']==0) & (df['OCCP_NAME_G'] == '전문직')]= 4500\n",
    "df['CUST_JOB_INCM'][(df['CUST_JOB_INCM']==0) & (df['OCCP_NAME_G'] == '1차산업 종사자')] = 4000"
   ]
  },
  {
   "cell_type": "code",
   "execution_count": null,
   "metadata": {},
   "outputs": [],
   "source": [
    "df[df['CUST_JOB_INCM']==0]"
   ]
  },
  {
   "cell_type": "code",
   "execution_count": null,
   "metadata": {},
   "outputs": [],
   "source": [
    "df[\"OCCP_NAME_G\"].isna().sum()"
   ]
  },
  {
   "cell_type": "code",
   "execution_count": null,
   "metadata": {},
   "outputs": [],
   "source": [
    "df[\"OCCP_NAME_G\"].value_counts(dropna=False)"
   ]
  },
  {
   "cell_type": "code",
   "execution_count": null,
   "metadata": {},
   "outputs": [],
   "source": [
    "df[\"CUST_JOB_INCM\"].value_counts()"
   ]
  },
  {
   "cell_type": "code",
   "execution_count": null,
   "metadata": {},
   "outputs": [],
   "source": [
    "df[df['CUST_JOB_INCM']==0]"
   ]
  },
  {
   "cell_type": "code",
   "execution_count": null,
   "metadata": {},
   "outputs": [],
   "source": [
    "age = [20,25,30,35,40,45,50,55,60,65,70]"
   ]
  },
  {
   "cell_type": "code",
   "execution_count": null,
   "metadata": {},
   "outputs": [],
   "source": [
    "from scipy.stats import shapiro\n",
    "\n",
    "for j in job:\n",
    "    _a = df1[df1['OCCP_NAME_G'] == j]['CUST_JOB_INCM']\n",
    "    statistic, p = shapiro(_a)\n",
    "    print(f\"{j} : Shapiro Wilk Test: statistic = {statistic}, p-value={round(p,3)}\")"
   ]
  },
  {
   "cell_type": "code",
   "execution_count": null,
   "metadata": {},
   "outputs": [],
   "source": [
    "df1['AGE'] = df1['AGE'].astype('int')"
   ]
  },
  {
   "cell_type": "code",
   "execution_count": null,
   "metadata": {},
   "outputs": [],
   "source": [
    "df1['AGE']"
   ]
  },
  {
   "cell_type": "code",
   "execution_count": null,
   "metadata": {},
   "outputs": [],
   "source": [
    "df1['SEX'].value_counts() # 남 1, 여 2"
   ]
  },
  {
   "cell_type": "code",
   "execution_count": null,
   "metadata": {},
   "outputs": [],
   "source": [
    "df1['SEX'] = df1['SEX'].astype('int')"
   ]
  },
  {
   "cell_type": "code",
   "execution_count": null,
   "metadata": {},
   "outputs": [],
   "source": [
    "from sklearn.preprocessing import LabelEncoder\n",
    "\n",
    "job = df1['OCCP_NAME_G']\n",
    "par_job = df1['MATE_OCCP_NAME_G']\n",
    "\n",
    "\n",
    "encoder = LabelEncoder()\n",
    "\n",
    "encoder.fit(job)\n",
    "labels = encoder.transform(job)\n",
    "df1['OCCP_NAME_G'] = labels\n",
    "\n",
    "\n",
    "encoder.fit(par_job)\n",
    "labels = encoder.transform(par_job)\n",
    "df1['MATE_OCCP_NAME_G'] = labels"
   ]
  },
  {
   "cell_type": "code",
   "execution_count": null,
   "metadata": {},
   "outputs": [],
   "source": [
    "df1['LT1Y_PEOD_RATE'].value_counts()"
   ]
  },
  {
   "cell_type": "code",
   "execution_count": null,
   "metadata": {},
   "outputs": [],
   "source": [
    "df1['LT1Y_PEOD_RATE'] = df1['LT1Y_PEOD_RATE'].str.replace('미만','')\n",
    "df1['LT1Y_PEOD_RATE'] = df1['LT1Y_PEOD_RATE'].str.replace('이상','')\n",
    "df1['LT1Y_PEOD_RATE'] = df1['LT1Y_PEOD_RATE'].astype('int')"
   ]
  },
  {
   "cell_type": "code",
   "execution_count": null,
   "metadata": {},
   "outputs": [],
   "source": [
    "df1['LT1Y_PEOD_RATE'].value_counts()"
   ]
  },
  {
   "cell_type": "code",
   "execution_count": null,
   "metadata": {},
   "outputs": [],
   "source": [
    "df1"
   ]
  },
  {
   "cell_type": "code",
   "execution_count": null,
   "metadata": {},
   "outputs": [],
   "source": [
    "idx = df1[df1['LT1Y_PEOD_RATE'] == 60].index\n",
    "\n",
    "df1.drop(idx, inplace=True)"
   ]
  },
  {
   "cell_type": "code",
   "execution_count": null,
   "metadata": {},
   "outputs": [],
   "source": [
    "idx = df1[df1['LT1Y_PEOD_RATE'] == 90].index\n",
    "\n",
    "df1.drop(idx, inplace=True)"
   ]
  },
  {
   "cell_type": "code",
   "execution_count": null,
   "metadata": {},
   "outputs": [],
   "source": [
    "df1['LT1Y_PEOD_RATE'].replace({10:5, 20:15, 30:25, 40:35, 50:45})"
   ]
  },
  {
   "cell_type": "code",
   "execution_count": null,
   "metadata": {},
   "outputs": [],
   "source": [
    "df[(df['LT1Y_PEOD_RATE']== 60) & (df['Target']==1)]"
   ]
  },
  {
   "cell_type": "code",
   "execution_count": null,
   "metadata": {},
   "outputs": [],
   "source": [
    "df[(df['LT1Y_PEOD_RATE']== 90) & (df['Target']==1)]"
   ]
  },
  {
   "cell_type": "code",
   "execution_count": null,
   "metadata": {},
   "outputs": [],
   "source": [
    "# 연체율이 50 이상이 될 수 없으므로 (최대 퐁당퐁당 50임) 60, 90인거 제외함"
   ]
  },
  {
   "cell_type": "code",
   "execution_count": null,
   "metadata": {},
   "outputs": [],
   "source": [
    "df1"
   ]
  },
  {
   "cell_type": "code",
   "execution_count": null,
   "metadata": {},
   "outputs": [],
   "source": [
    "from lightgbm import LGBMRegressor\n",
    "from sklearn.model_selection import train_test_split\n",
    "from sklearn.metrics import mean_squared_error\n",
    "\n",
    "target = df1['CUST_JOB_INCM']\n",
    "x_data = df1.drop(['CUST_JOB_INCM','CUST_ID'], axis=1)\n",
    "\n",
    "x_train, x_test, y_train, y_test = train_test_split(x_data, target, test_size=0.3, random_state=0)\n",
    "\n",
    "\n",
    "lgbm_reg = LGBMRegressor(n_estimators = 1000, learning_rate = 0.05, num_leaves = 4, n_jobs = -1)\n",
    "\n",
    "lgbm_reg.fit(x_train, y_train)"
   ]
  },
  {
   "cell_type": "code",
   "execution_count": null,
   "metadata": {},
   "outputs": [],
   "source": [
    "from sklearn.metrics import mean_squared_error, r2_score\n",
    "\n",
    "\n",
    "pred = lgbm_reg.predict(x_test)\n",
    "mse = mean_squared_error(y_test, pred)\n",
    "r2 = r2_score(y_test, pred)\n",
    "\n",
    "print(round(mse,3), round(r2,3))"
   ]
  },
  {
   "cell_type": "code",
   "execution_count": null,
   "metadata": {},
   "outputs": [],
   "source": [
    "df1.corr()['CUST_JOB_INCM'].sort_values(ascending=False)"
   ]
  },
  {
   "cell_type": "code",
   "execution_count": null,
   "metadata": {},
   "outputs": [],
   "source": [
    "idx = df1[df1['CUST_JOB_INCM']==0].index\n",
    "\n",
    "df2 = df1.iloc[idx]\n",
    "df2"
   ]
  },
  {
   "cell_type": "markdown",
   "metadata": {},
   "source": [
    "# df 변경(전처리)"
   ]
  },
  {
   "cell_type": "code",
   "execution_count": null,
   "metadata": {},
   "outputs": [],
   "source": [
    "idx = df[df['OCCP_NAME_G'].isnull()].index\n",
    "# 직업에 대한 값이 null인 행 제거 \n",
    "df.drop(idx, inplace=True)\n",
    "\n",
    "df.drop('MATE_OCCP_NAME_G', axis=1, inplace=True)\n",
    "df.isnull().sum().sort_values(ascending=False)\n",
    "# 이제 막내자녀나이에 대한 null밖에 없음 "
   ]
  },
  {
   "cell_type": "code",
   "execution_count": null,
   "metadata": {},
   "outputs": [],
   "source": [
    "df['SEX'].value_counts()"
   ]
  },
  {
   "cell_type": "code",
   "execution_count": null,
   "metadata": {},
   "outputs": [],
   "source": [
    "idx = df[df['SEX'] == '*'].index\n",
    "\n",
    "df.drop(idx, inplace=True)"
   ]
  },
  {
   "cell_type": "code",
   "execution_count": null,
   "metadata": {},
   "outputs": [],
   "source": [
    "df['AGE'] = df['AGE'].astype('int')\n",
    "df['SEX'] = df['SEX'].astype('int')"
   ]
  },
  {
   "cell_type": "code",
   "execution_count": null,
   "metadata": {},
   "outputs": [],
   "source": [
    "df['LT1Y_PEOD_RATE'] = df['LT1Y_PEOD_RATE'].str.replace('미만','')\n",
    "df['LT1Y_PEOD_RATE'] = df['LT1Y_PEOD_RATE'].str.replace('이상','')\n",
    "df['LT1Y_PEOD_RATE'] = df['LT1Y_PEOD_RATE'].astype('int')\n",
    "\n"
   ]
  },
  {
   "cell_type": "code",
   "execution_count": null,
   "metadata": {},
   "outputs": [],
   "source": [
    "idx = df[df['LT1Y_PEOD_RATE'] == 60].index\n",
    "\n",
    "df.drop(idx, inplace=True)"
   ]
  },
  {
   "cell_type": "code",
   "execution_count": null,
   "metadata": {},
   "outputs": [],
   "source": [
    "idx = df[df['LT1Y_PEOD_RATE'] == 90].index\n",
    "\n",
    "df.drop(idx, inplace=True)"
   ]
  },
  {
   "cell_type": "code",
   "execution_count": null,
   "metadata": {},
   "outputs": [],
   "source": [
    "df['LT1Y_PEOD_RATE'].replace({10:5, 20:15, 30:25, 40:35, 50:45})"
   ]
  },
  {
   "cell_type": "code",
   "execution_count": null,
   "metadata": {},
   "outputs": [],
   "source": [
    "# 직업이 * 이나 기타로 기재된 값들에 대해 아에 제외처리함 (위에서 Target 1의 개수 확인 O)\n",
    "idx = df[df['OCCP_NAME_G']=='*'].index\n",
    "idx\n",
    "df.drop(idx, inplace=True)\n",
    "\n",
    "idx = df[df['OCCP_NAME_G']=='기타'].index\n",
    "idx\n",
    "df.drop(idx, inplace=True)"
   ]
  },
  {
   "cell_type": "code",
   "execution_count": null,
   "metadata": {},
   "outputs": [],
   "source": [
    "# 비정규성(중앙값 대체)\n",
    "df['CUST_JOB_INCM'][(df['CUST_JOB_INCM']==0) & (df['OCCP_NAME_G'] == '기타')]= 3600\n",
    "df['CUST_JOB_INCM'][(df['CUST_JOB_INCM']==0) & (df['OCCP_NAME_G'] == '주부')]= 3600\n",
    "df['CUST_JOB_INCM'][(df['CUST_JOB_INCM']==0) & (df['OCCP_NAME_G'] == '학생')]= 3600\n",
    "df['CUST_JOB_INCM'][(df['CUST_JOB_INCM']==0) & (df['OCCP_NAME_G'] == '단순 노무직')]= 3600\n",
    "df['CUST_JOB_INCM'][(df['CUST_JOB_INCM']==0) & (df['OCCP_NAME_G'] == '기업/단체 임원')]= 8400\n",
    "df['CUST_JOB_INCM'][(df['CUST_JOB_INCM']==0) & (df['OCCP_NAME_G'] == '고소득 전문직')] = 7000\n",
    "\n",
    "# 정규성(평균값 대체)\n",
    "df['CUST_JOB_INCM'][(df['CUST_JOB_INCM']==0) & (df['OCCP_NAME_G'] == '사무직')] = 4900\n",
    "df['CUST_JOB_INCM'][(df['CUST_JOB_INCM']==0) & (df['OCCP_NAME_G'] == '2차산업 종사자')] = 4400\n",
    "df['CUST_JOB_INCM'][(df['CUST_JOB_INCM']==0) & (df['OCCP_NAME_G'] == '자영업')] = 5000\n",
    "df['CUST_JOB_INCM'][(df['CUST_JOB_INCM']==0) & (df['OCCP_NAME_G'] == '3차산업 종사자')] = 4000\n",
    "df['CUST_JOB_INCM'][(df['CUST_JOB_INCM']==0) & (df['OCCP_NAME_G'] == '공무원')]= 4600\n",
    "df['CUST_JOB_INCM'][(df['CUST_JOB_INCM']==0) & (df['OCCP_NAME_G'] == '단순 노무직')] = 3700\n",
    "df['CUST_JOB_INCM'][(df['CUST_JOB_INCM']==0) & (df['OCCP_NAME_G'] == '단순 사무직')]= 4000\n",
    "df['CUST_JOB_INCM'][(df['CUST_JOB_INCM']==0) & (df['OCCP_NAME_G'] == '예체능계 종사자')]= 4200\n",
    "df['CUST_JOB_INCM'][(df['CUST_JOB_INCM']==0) & (df['OCCP_NAME_G'] == '운전직')]= 4700\n",
    "df['CUST_JOB_INCM'][(df['CUST_JOB_INCM']==0) & (df['OCCP_NAME_G'] == '전문직')]= 4500\n",
    "df['CUST_JOB_INCM'][(df['CUST_JOB_INCM']==0) & (df['OCCP_NAME_G'] == '1차산업 종사자')] = 4000"
   ]
  },
  {
   "cell_type": "code",
   "execution_count": null,
   "metadata": {},
   "outputs": [],
   "source": [
    "df.reset_index(inplace=True, drop=True)"
   ]
  },
  {
   "cell_type": "code",
   "execution_count": null,
   "metadata": {},
   "outputs": [],
   "source": [
    "# 막내자녀나이 결측치\n",
    "for i in range(len(df['LAST_CHLD_AGE'])):\n",
    "    # 나이 35인 사람에 대해 막내자녀 결측치 처리 (18로 대체)\n",
    "    if (df.loc[i, 'LAST_CHLD_AGE'] == 0.0) & (df.loc[i, 'AGE'] == '35') & (df.loc[i,'ACTL_FMLY_NUM']>=3):\n",
    "        df.loc[i, 'LAST_CHLD_AGE'] = 18\n",
    "    # 나이 40인 사람에 대해 막내자녀 결측치 처리 (17로 대체)\n",
    "    elif (df.loc[i, 'LAST_CHLD_AGE'] == 0.0) & (df.loc[i, 'AGE'] == '40') & (df.loc[i,'ACTL_FMLY_NUM']>=3):\n",
    "        df.loc[i, 'LAST_CHLD_AGE'] = 17    \n",
    "    # 나이 45인 사람에 대해 막내자녀 결측치 처리 (20으로 대체)\n",
    "    elif (df.loc[i, 'LAST_CHLD_AGE'] == 0.0) & (df.loc[i, 'AGE'] == '45') & (df.loc[i,'ACTL_FMLY_NUM']>=3):\n",
    "        df.loc[i, 'LAST_CHLD_AGE'] = 20   \n",
    "    # 나이 50인 사람에 대해 막내자녀 결측치 처리 (24로 대체)\n",
    "    elif (df.loc[i, 'LAST_CHLD_AGE'] == 0.0) & (df.loc[i, 'AGE'] == '50') & (df.loc[i,'ACTL_FMLY_NUM']>=3):\n",
    "        df.loc[i, 'LAST_CHLD_AGE'] = 24   \n",
    "     # 나이 55인 사람에 대해 막내자녀 결측치 처리 (29로 대체)\n",
    "    elif (df.loc[i, 'LAST_CHLD_AGE'] == 0.0) & (df.loc[i, 'AGE'] == '55') & (df.loc[i,'ACTL_FMLY_NUM']>=3):\n",
    "        df.loc[i, 'LAST_CHLD_AGE'] = 29  \n",
    "    # 나이 30인 사람에 대해 막내자녀 결측치 처리 (20으로 대체)\n",
    "    elif (df.loc[i, 'LAST_CHLD_AGE'] == 0.0) & (df.loc[i, 'AGE'] == '30') & (df.loc[i,'ACTL_FMLY_NUM']>=3):\n",
    "        df.loc[i, 'LAST_CHLD_AGE'] = 20  \n",
    "    # 나이 60인 사람에 대해 막내자녀 결측치 처리 (33으로 대체)\n",
    "    elif (df.loc[i, 'LAST_CHLD_AGE'] == 0.0) & (df.loc[i, 'AGE'] == '60') & (df.loc[i,'ACTL_FMLY_NUM']>=3):\n",
    "        df.loc[i, 'LAST_CHLD_AGE'] = 33  \n",
    "    # 나이 25인 사람에 대해 막내자녀 결측치 처리 (21로 대체)\n",
    "    elif (df.loc[i, 'LAST_CHLD_AGE'] == 0.0) & (df.loc[i, 'AGE'] == '25') & (df.loc[i,'ACTL_FMLY_NUM']>=3):\n",
    "        df.loc[i, 'LAST_CHLD_AGE'] = 21   \n",
    "    # 나이 65인 사람에 대해 막내자녀 결측치 처리 (37로 대체)\n",
    "    elif (df.loc[i, 'LAST_CHLD_AGE'] == 0.0) & (df.loc[i, 'AGE'] == '65') & (df.loc[i,'ACTL_FMLY_NUM']>=3):\n",
    "        df.loc[i, 'LAST_CHLD_AGE'] = 37   \n",
    "     # 나이 20인 사람에 대해 막내자녀 결측치 처리 (23로 대체)\n",
    "    elif (df.loc[i, 'LAST_CHLD_AGE'] == 0.0) & (df.loc[i, 'AGE'] == '20') & (df.loc[i,'ACTL_FMLY_NUM']>=3):\n",
    "        df.loc[i, 'LAST_CHLD_AGE'] = 23 \n",
    "    # 나이 70인 사람에 대해 막내자녀 결측치 처리 (37로 대체)\n",
    "    elif (df.loc[i, 'LAST_CHLD_AGE'] == 0.0) & (df.loc[i, 'AGE'] == '70') & (df.loc[i,'ACTL_FMLY_NUM']>=3):\n",
    "        df.loc[i, 'LAST_CHLD_AGE'] = 37 "
   ]
  },
  {
   "cell_type": "code",
   "execution_count": null,
   "metadata": {},
   "outputs": [],
   "source": [
    "df['LAST_CHLD_AGE'].isnull().sum()"
   ]
  },
  {
   "cell_type": "code",
   "execution_count": null,
   "metadata": {},
   "outputs": [],
   "source": [
    "# df.isnull().sum().sort_values(ascending=False)"
   ]
  },
  {
   "cell_type": "code",
   "execution_count": null,
   "metadata": {},
   "outputs": [],
   "source": [
    "# 직업별 추정소득 채워넣기 (평균 or 중간값)\n",
    "\n",
    "# 비정규성(중앙값 대체)\n",
    "df['CUST_JOB_INCM'][(df['CUST_JOB_INCM']==0) & (df['OCCP_NAME_G'] == '기타')]= 3600\n",
    "df['CUST_JOB_INCM'][(df['CUST_JOB_INCM']==0) & (df['OCCP_NAME_G'] == '주부')]= 3600\n",
    "df['CUST_JOB_INCM'][(df['CUST_JOB_INCM']==0) & (df['OCCP_NAME_G'] == '학생')]= 3600\n",
    "df['CUST_JOB_INCM'][(df['CUST_JOB_INCM']==0) & (df['OCCP_NAME_G'] == '단순 노무직')]= 3600\n",
    "df['CUST_JOB_INCM'][(df['CUST_JOB_INCM']==0) & (df['OCCP_NAME_G'] == '기업/단체 임원')]= 8400\n",
    "df['CUST_JOB_INCM'][(df['CUST_JOB_INCM']==0) & (df['OCCP_NAME_G'] == '고소득 전문직')] = 7000\n",
    "\n",
    "# 정규성(평균값 대체)\n",
    "df['CUST_JOB_INCM'][(df['CUST_JOB_INCM']==0) & (df['OCCP_NAME_G'] == '사무직')] = 4900\n",
    "df['CUST_JOB_INCM'][(df['CUST_JOB_INCM']==0) & (df['OCCP_NAME_G'] == '2차산업 종사자')] = 4400\n",
    "df['CUST_JOB_INCM'][(df['CUST_JOB_INCM']==0) & (df['OCCP_NAME_G'] == '자영업')] = 5000\n",
    "df['CUST_JOB_INCM'][(df['CUST_JOB_INCM']==0) & (df['OCCP_NAME_G'] == '3차산업 종사자')] = 4000\n",
    "df['CUST_JOB_INCM'][(df['CUST_JOB_INCM']==0) & (df['OCCP_NAME_G'] == '공무원')]= 4600\n",
    "df['CUST_JOB_INCM'][(df['CUST_JOB_INCM']==0) & (df['OCCP_NAME_G'] == '단순 노무직')] = 3700\n",
    "df['CUST_JOB_INCM'][(df['CUST_JOB_INCM']==0) & (df['OCCP_NAME_G'] == '단순 사무직')]= 4000\n",
    "df['CUST_JOB_INCM'][(df['CUST_JOB_INCM']==0) & (df['OCCP_NAME_G'] == '예체능계 종사자')]= 4200\n",
    "df['CUST_JOB_INCM'][(df['CUST_JOB_INCM']==0) & (df['OCCP_NAME_G'] == '운전직')]= 4700\n",
    "df['CUST_JOB_INCM'][(df['CUST_JOB_INCM']==0) & (df['OCCP_NAME_G'] == '전문직')]= 4500\n",
    "df['CUST_JOB_INCM'][(df['CUST_JOB_INCM']==0) & (df['OCCP_NAME_G'] == '1차산업 종사자')] = 4000"
   ]
  },
  {
   "cell_type": "code",
   "execution_count": null,
   "metadata": {},
   "outputs": [],
   "source": [
    "df[df['CUST_JOB_INCM']==0]"
   ]
  },
  {
   "cell_type": "code",
   "execution_count": null,
   "metadata": {},
   "outputs": [],
   "source": [
    "자동이체 실패 월수를 카운트해서 0과1갓으로 분류\n",
    "해지건수"
   ]
  },
  {
   "cell_type": "code",
   "execution_count": null,
   "metadata": {},
   "outputs": [],
   "source": [
    "# 'CNTT_LAMT_CNT' - 실효해지건수 파생변수 생성\n",
    "_list = []\n",
    "for cnt in df['CNTT_LAMT_CNT']:\n",
    "    if cnt == 0: # 0 : 실효해지 무 \n",
    "        _list.append(0)\n",
    "    else:\n",
    "        _list.append(1) # 실효해지한 값에 대해새는 1로 처리 => 1: 실효해지 유 \n",
    "\n",
    "df[\"Target\"] = _list\n",
    "\n",
    "# 'LT1Y_CTLT_CNT' - 최근 1년 실효해지건수 파생변수 생성\n",
    "_list = []\n",
    "for cnt in df['LT1Y_CTLT_CNT']:\n",
    "    if cnt == 0: # 0 : 실효해지 무 \n",
    "        _list.append(0)\n",
    "    else:\n",
    "        _list.append(1) # 실효해지한 값에 대해새는 1로 처리 => 1: 실효해지 유 \n",
    "\n",
    "df[\"Target_year\"] = _list"
   ]
  },
  {
   "cell_type": "code",
   "execution_count": null,
   "metadata": {},
   "outputs": [],
   "source": [
    "# AUTR_FAIL_MCNT - 자동이체 실패  파생변수 생성\n",
    "_list = []\n",
    "for cnt in df['AUTR_FAIL_MCNT']:\n",
    "    if cnt == 0: # 0 : 자동이체 실패 무 \n",
    "        _list.append(0)\n",
    "    else:\n",
    "        _list.append(1) # 자동이체 실패이력 유\n",
    "\n",
    "df[\"Auto_fail_cnt\"] = _list"
   ]
  },
  {
   "cell_type": "code",
   "execution_count": null,
   "metadata": {},
   "outputs": [],
   "source": [
    "df[\"Auto_fail_cnt\"]"
   ]
  },
  {
   "cell_type": "code",
   "execution_count": null,
   "metadata": {},
   "outputs": [],
   "source": [
    "df['Auto_fail_cnt'].value_counts().plot.bar()"
   ]
  },
  {
   "cell_type": "code",
   "execution_count": null,
   "metadata": {},
   "outputs": [],
   "source": [
    "df['Target'].value_counts().plot.bar()"
   ]
  },
  {
   "cell_type": "code",
   "execution_count": null,
   "metadata": {},
   "outputs": [],
   "source": [
    "plt.bar(df['Auto_fail_cnt'].index, df['Auto_fail_cnt'])"
   ]
  },
  {
   "cell_type": "code",
   "execution_count": null,
   "metadata": {},
   "outputs": [],
   "source": [
    "# Import Library\n",
    "\n",
    "import numpy as np \n",
    "import matplotlib.pyplot as plt \n",
    "\n",
    "# Define Data\n",
    "\n",
    "team = ['0','1']\n",
    "MCNT = [df[\"AUTR_FAIL_MCNT\"].value_counts()[0],df[\"AUTR_FAIL_MCNT\"].value_counts()[1]]\n",
    "CNT = [df[\"CNTT_LAMT_CNT\"].value_counts()[0],df[\"CNTT_LAMT_CNT\"].value_counts()[1]]\n",
    "\n",
    "x_axis = np.arange(len(team))\n",
    "\n",
    "# Multi bar Chart\n",
    "\n",
    "plt.bar(x_axis +0.2, MCNT, width=0.4, label = 'AUTR_FAIL_MCNT')\n",
    "plt.bar(x_axis -0.2, CNT, width=0.4, label = 'CNTT_LAMT_CNT')\n",
    "\n",
    "# Xticks\n",
    "\n",
    "plt.xticks(x_axis, team)\n",
    "\n",
    "# Add legend\n",
    "\n",
    "plt.legend()\n",
    "\n",
    "# Display\n",
    "\n",
    "plt.show()\n"
   ]
  },
  {
   "cell_type": "markdown",
   "metadata": {},
   "source": [
    "### 가구 추정 소득"
   ]
  },
  {
   "cell_type": "code",
   "execution_count": 15,
   "metadata": {},
   "outputs": [],
   "source": [
    "import seaborn as sns"
   ]
  },
  {
   "cell_type": "code",
   "execution_count": 9,
   "metadata": {},
   "outputs": [
    {
     "data": {
      "text/plain": [
       "3600    502\n",
       "4000     36\n",
       "5000     17\n",
       "4400     15\n",
       "4900     14\n",
       "4600      8\n",
       "4700      7\n",
       "4500      5\n",
       "8400      2\n",
       "7000      1\n",
       "4200      1\n",
       "Name: CUST_JOB_INCM, dtype: int64"
      ]
     },
     "execution_count": 9,
     "metadata": {},
     "output_type": "execute_result"
    }
   ],
   "source": [
    "# 가족이 3명인 가구의 중간값으로 대체\n",
    "df[(df['HSHD_INFR_INCM']==0) & (df['ACTL_FMLY_NUM']==3)][['CUST_JOB_INCM','HSHD_INFR_INCM','ACTL_FMLY_NUM','OCCP_NAME_G','AGE']]['CUST_JOB_INCM'].value_counts()"
   ]
  },
  {
   "cell_type": "code",
   "execution_count": 30,
   "metadata": {},
   "outputs": [],
   "source": [
    "fam3 = df[(df['HSHD_INFR_INCM']!=0) & (df['ACTL_FMLY_NUM']==7)][['CUST_JOB_INCM','HSHD_INFR_INCM','ACTL_FMLY_NUM','OCCP_NAME_G','AGE']][df['ACTL_FMLY_NUM']==7]"
   ]
  },
  {
   "cell_type": "code",
   "execution_count": 31,
   "metadata": {},
   "outputs": [
    {
     "data": {
      "text/plain": [
       "count      236.000000\n",
       "mean      7865.677966\n",
       "std       2414.963981\n",
       "min       2400.000000\n",
       "25%       5800.000000\n",
       "50%       7800.000000\n",
       "75%       9800.000000\n",
       "max      16900.000000\n",
       "Name: HSHD_INFR_INCM, dtype: float64"
      ]
     },
     "execution_count": 31,
     "metadata": {},
     "output_type": "execute_result"
    }
   ],
   "source": [
    "fam3['HSHD_INFR_INCM'].describe()"
   ]
  },
  {
   "cell_type": "code",
   "execution_count": 24,
   "metadata": {},
   "outputs": [
    {
     "data": {
      "text/plain": [
       "3600    8\n",
       "4000    2\n",
       "8400    1\n",
       "5000    1\n",
       "4600    1\n",
       "Name: CUST_JOB_INCM, dtype: int64"
      ]
     },
     "execution_count": 24,
     "metadata": {},
     "output_type": "execute_result"
    }
   ],
   "source": [
    "# 가족이 3명인 가구의 중간값으로 대체\n",
    "df[(df['HSHD_INFR_INCM']==0) & (df['ACTL_FMLY_NUM']==7)][['CUST_JOB_INCM','HSHD_INFR_INCM','ACTL_FMLY_NUM','OCCP_NAME_G','AGE']]['CUST_JOB_INCM'].value_counts()"
   ]
  },
  {
   "cell_type": "markdown",
   "metadata": {},
   "source": [
    "가족 6명: 중간값 : 8100.000000   ,1 명   //  평균 :  7922.815210 , 넘는애들 :1 명    \n",
    "가족 7명 => 해당 값 없음\n",
    "가족 8명 => 해당 값 없음"
   ]
  },
  {
   "cell_type": "code",
   "execution_count": null,
   "metadata": {},
   "outputs": [],
   "source": []
  }
 ],
 "metadata": {
  "kernelspec": {
   "display_name": "Python 3",
   "language": "python",
   "name": "python3"
  },
  "language_info": {
   "codemirror_mode": {
    "name": "ipython",
    "version": 3
   },
   "file_extension": ".py",
   "mimetype": "text/x-python",
   "name": "python",
   "nbconvert_exporter": "python",
   "pygments_lexer": "ipython3",
   "version": "3.8.3"
  },
  "vscode": {
   "interpreter": {
    "hash": "14763c0aa030f96a438b6041b582aebbe0b24ad2b6010de84bcf7102be519e1b"
   }
  }
 },
 "nbformat": 4,
 "nbformat_minor": 2
}
